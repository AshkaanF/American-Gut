{
 "cells": [
  {
   "cell_type": "markdown",
   "metadata": {
    "collapsed": true
   },
   "source": [
    "The sequences and the metadata. All of the deidentified American Gut data are deposited into the European Bioinformatics Institute sequence repository, and can be retrieved by pulling down the data associated with the appropriate accessions."
   ]
  },
  {
   "cell_type": "markdown",
   "metadata": {},
   "source": [
    "First, let's setup and sanity check our environment. "
   ]
  },
  {
   "cell_type": "code",
   "execution_count": 1,
   "metadata": {
    "collapsed": false
   },
   "outputs": [],
   "source": [
    "import os\n",
    "import americangut.notebook_environment as agenv\n",
    "import americangut.util as agu\n",
    "\n",
    "agp_sequences = agenv.get_new_path(agenv.filenames['raw-sequences'])\n",
    "agp_metadata  = agenv.get_new_path(agenv.filenames['raw-metadata'])"
   ]
  },
  {
   "cell_type": "markdown",
   "metadata": {},
   "source": [
    "Now that we have what appears to be a sane environment, let's setup a variable that defines the American Gut accessions."
   ]
  },
  {
   "cell_type": "code",
   "execution_count": 2,
   "metadata": {
    "collapsed": false
   },
   "outputs": [],
   "source": [
    "accessions = agenv.get_accessions()"
   ]
  },
  {
   "cell_type": "markdown",
   "metadata": {
    "collapsed": true
   },
   "source": [
    "Now let's actually fetch the study data. `fetch_study` will only pull down accessions that do not appear in the current working directory."
   ]
  },
  {
   "cell_type": "code",
   "execution_count": 3,
   "metadata": {
    "collapsed": false
   },
   "outputs": [],
   "source": [
    "for accession in accessions:\n",
    "    agu.fetch_study(accession)"
   ]
  },
  {
   "cell_type": "markdown",
   "metadata": {},
   "source": [
    "Now that we have the sequences and sample information, let's merge all the data into a single file to ease downstream processing."
   ]
  },
  {
   "cell_type": "code",
   "execution_count": 4,
   "metadata": {
    "collapsed": false
   },
   "outputs": [],
   "source": [
    "form_path = lambda acc, ext: agenv.get_existing_path('%s.%s' % (acc, ext))\n",
    "\n",
    "bash_compatible_sequence_files = ' '.join([form_path(acc, 'fna') for acc in accessions])\n",
    "!cat $bash_compatible_sequence_files > $agp_sequences\n",
    "\n",
    "if len(accessions) > 1:\n",
    "    qiime_compatible_mapping_files = ','.join([form_path(acc, 'txt') for acc in accessions])\n",
    "    !merge_mapping_files.py -m $qiime_compatible_mapping_files -o $agp_metadata\n",
    "else:\n",
    "    src = form_path(accessions[0], 'txt')\n",
    "    !cp $src $agp_metadata"
   ]
  },
  {
   "cell_type": "markdown",
   "metadata": {},
   "source": [
    "And finally, let's verify that the files we expect were created."
   ]
  },
  {
   "cell_type": "code",
   "execution_count": 5,
   "metadata": {
    "collapsed": false
   },
   "outputs": [],
   "source": [
    "assert os.stat(agp_sequences).st_size > 0\n",
    "assert os.stat(agp_metadata).st_size > 0"
   ]
  }
 ],
 "metadata": {
  "kernelspec": {
   "display_name": "Python 2",
   "language": "python",
   "name": "python2"
  },
  "language_info": {
   "codemirror_mode": {
    "name": "ipython",
    "version": 2
   },
   "file_extension": ".py",
   "mimetype": "text/x-python",
   "name": "python",
   "nbconvert_exporter": "python",
   "pygments_lexer": "ipython2",
   "version": "2.7.10"
  }
 },
 "nbformat": 4,
 "nbformat_minor": 0
}
