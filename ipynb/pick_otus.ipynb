{
 "cells": [
  {
   "cell_type": "markdown",
   "metadata": {},
   "source": [
    "Pick OTUs (for full and trimmed data) at approximately genus level resolution (97% similarity) using SortMeRNA, closed reference against Greengenes 13_8."
   ]
  },
  {
   "cell_type": "code",
   "execution_count": 1,
   "metadata": {
    "collapsed": true
   },
   "outputs": [],
   "source": [
    "import os\n",
    "import multiprocessing\n",
    "\n",
    "import qiime_default_reference as qdr\n",
    "\n",
    "import americangut.util as agu\n",
    "import americangut.notebook_environment as agenv"
   ]
  },
  {
   "cell_type": "markdown",
   "metadata": {},
   "source": [
    "Before we go too far, let's make sure the files we need are present."
   ]
  },
  {
   "cell_type": "code",
   "execution_count": 2,
   "metadata": {
    "collapsed": true
   },
   "outputs": [],
   "source": [
    "filtered_sequences       = agu.get_existing_path(agenv.paths['filtered-sequences'])\n",
    "filtered_sequences_100nt = agu.get_existing_path(agenv.paths['filtered-sequences-100nt'])"
   ]
  },
  {
   "cell_type": "markdown",
   "metadata": {},
   "source": [
    "And, let's make sure that the output files we need do not already exist."
   ]
  },
  {
   "cell_type": "code",
   "execution_count": 3,
   "metadata": {
    "collapsed": false
   },
   "outputs": [],
   "source": [
    "gg_otus            = agu.get_new_path(agenv.paths['gg-otus'])\n",
    "gg_otus_biom       = agu.get_new_path(agenv.paths['gg-otus-biom'])\n",
    "gg_otus_100nt      = agu.get_new_path(agenv.paths['gg-otus-100nt'])\n",
    "gg_otus_100nt_biom = agu.get_new_path(agenv.paths['gg-otus-100nt-biom'])"
   ]
  },
  {
   "cell_type": "markdown",
   "metadata": {},
   "source": [
    "We're going to now setup a parameters file for the OTU picking runs. It is possible to specify a precomputed SortMeRNA index by indicating it's path as the environment variable `$AG_SMR_INDEX`. The reason we're using an environment variable is that it makes it much easier to inject an index during continuous integration testing."
   ]
  },
  {
   "cell_type": "code",
   "execution_count": 4,
   "metadata": {
    "collapsed": false
   },
   "outputs": [],
   "source": [
    "_params_file = agu.get_path('sortmerna_pick_params.txt')\n",
    "\n",
    "with open(_params_file, 'w') as f:\n",
    "    f.write(\"pick_otus:otu_picking_method sortmerna\\n\")\n",
    "    f.write(\"pick_otus:similarity 0.97\\n\")\n",
    "    f.write(\"pick_otus:threads %d\\n\" % multiprocessing.cpu_count())\n",
    "    \n",
    "    if agenv.get_sortmerna_index():  \n",
    "        f.write(\"pick_otus:sortmerna_db %s\\n\" % agenv.get_sortmerna_index())"
   ]
  },
  {
   "cell_type": "markdown",
   "metadata": {},
   "source": [
    "Determine reference set (in the event of testing)."
   ]
  },
  {
   "cell_type": "code",
   "execution_count": 5,
   "metadata": {
    "collapsed": true
   },
   "outputs": [],
   "source": [
    "ref_seqs, ref_tax = agenv.get_reference_set()"
   ]
  },
  {
   "cell_type": "code",
   "execution_count": 6,
   "metadata": {
    "collapsed": false
   },
   "outputs": [
    {
     "name": "stdout",
     "output_type": "stream",
     "text": [
      "agp_processing/filtered-sequences.fna\r\n"
     ]
    }
   ],
   "source": [
    "!echo $filtered_sequences"
   ]
  },
  {
   "cell_type": "markdown",
   "metadata": {},
   "source": [
    "And now we can actually pick the OTUs. This will take sometime. Note, we're issuing two separate commands as we're picking against the untrimmed and the trimmed data."
   ]
  },
  {
   "cell_type": "code",
   "execution_count": 8,
   "metadata": {
    "collapsed": false
   },
   "outputs": [
    {
     "name": "stdout",
     "output_type": "stream",
     "text": [
      "Traceback (most recent call last):\r\n",
      "  File \"/Users/mcdonadt/miniconda3/envs/agdev/bin/pick_closed_reference_otus.py\", line 233, in <module>\r\n",
      "    main()\r\n",
      "  File \"/Users/mcdonadt/miniconda3/envs/agdev/bin/pick_closed_reference_otus.py\", line 224, in main\r\n",
      "    status_update_callback=status_update_callback)\r\n",
      "  File \"/Users/mcdonadt/miniconda3/envs/agdev/lib/python2.7/site-packages/qiime/workflow/upstream.py\", line 506, in run_pick_closed_reference_otus\r\n",
      "    close_logger_on_success=close_logger_on_success)\r\n",
      "  File \"/Users/mcdonadt/miniconda3/envs/agdev/lib/python2.7/site-packages/qiime/workflow/util.py\", line 122, in call_commands_serially\r\n",
      "    raise WorkflowError(msg)\r\n",
      "qiime.workflow.util.WorkflowError: \r\n",
      "\r\n",
      "*** ERROR RAISED DURING STEP: Pick OTUs\r\n",
      "Command run was:\r\n",
      " pick_otus.py -i agp_processing/filtered-sequences.fna -o agp_processing/otus/gg-13_8-97-percent-otus/sortmerna_picked_otus -r /Users/mcdonadt/rs/american-gut/tests/data/otus.fna -m sortmerna --threads 8 --sortmerna_db /Users/mcdonadt/ResearchWork/software/american-gut/tests/data/ag_testing.smr.idx --otu_picking_method sortmerna --similarity 0.97 --suppress_new_clusters\r\n",
      "Command returned exit status: 2\r\n",
      "Stdout:\r\n",
      "\r\n",
      "Stderr\r\n",
      "Error in pick_otus.py: /Users/mcdonadt/ResearchWork/software/american-gut/tests/data/ag_testing.smr.idx.stats does not exist, make sure you have indexed the database using indexdb_rna\r\n",
      "\r\n",
      "If you need help with QIIME, see:\r\n",
      "http://help.qiime.org\r\n",
      "\r\n",
      "\r\n"
     ]
    }
   ],
   "source": [
    "!pick_closed_reference_otus.py -i $filtered_sequences \\\n",
    "                               -o $gg_otus \\\n",
    "                               -r $ref_seqs \\\n",
    "                               -t $ref_tax \\\n",
    "                               -p $_params_file"
   ]
  },
  {
   "cell_type": "code",
   "execution_count": null,
   "metadata": {
    "collapsed": true
   },
   "outputs": [],
   "source": [
    "!pick_closed_reference_otus.py -i $filtered_sequences_100nt \\\n",
    "                               -o $gg_otus_100nt \\\n",
    "                               -r $ref_seqs \\\n",
    "                               -t $ref_tax \\\n",
    "                               -p $_params_file"
   ]
  },
  {
   "cell_type": "markdown",
   "metadata": {},
   "source": [
    "And we'll end with some sanity checking of the outputs."
   ]
  },
  {
   "cell_type": "code",
   "execution_count": null,
   "metadata": {
    "collapsed": false
   },
   "outputs": [],
   "source": [
    "assert os.stat(gg_otus_biom).st_size > 0\n",
    "assert os.stat(gg_otus_100nt_biom).st_size > 0"
   ]
  }
 ],
 "metadata": {
  "kernelspec": {
   "display_name": "Python 2",
   "language": "python",
   "name": "python2"
  },
  "language_info": {
   "codemirror_mode": {
    "name": "ipython",
    "version": 2
   },
   "file_extension": ".py",
   "mimetype": "text/x-python",
   "name": "python",
   "nbconvert_exporter": "python",
   "pygments_lexer": "ipython2",
   "version": "2.7.10"
  }
 },
 "nbformat": 4,
 "nbformat_minor": 0
}
