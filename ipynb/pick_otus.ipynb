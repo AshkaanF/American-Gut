{
 "cells": [
  {
   "cell_type": "markdown",
   "metadata": {},
   "source": [
    "Pick OTUs (for full and trimmed data) at approximately genus level resolution (97% similarity) using SortMeRNA, closed reference against Greengenes 13_8."
   ]
  },
  {
   "cell_type": "code",
   "execution_count": 1,
   "metadata": {
    "collapsed": true
   },
   "outputs": [],
   "source": [
    "import os\n",
    "import multiprocessing\n",
    "\n",
    "import qiime_default_reference as qdr\n",
    "\n",
    "import americangut.util as agu\n",
    "import americangut.notebook_environment as agenv"
   ]
  },
  {
   "cell_type": "markdown",
   "metadata": {},
   "source": [
    "Before we go too far, let's make sure the files we need are present."
   ]
  },
  {
   "cell_type": "code",
   "execution_count": 2,
   "metadata": {
    "collapsed": true
   },
   "outputs": [],
   "source": [
    "filtered_sequences       = agu.get_existing_path(agenv.paths['filtered-sequences'])\n",
    "filtered_sequences_100nt = agu.get_existing_path(agenv.paths['filtered-sequences-100nt'])\n",
    "\n",
    "greengenes_reference_sequences = qdr.get_reference_sequences()\n",
    "greengenes_reference_taxonomy  = qdr.get_reference_taxonomy()"
   ]
  },
  {
   "cell_type": "markdown",
   "metadata": {},
   "source": [
    "And, let's make sure that the output files we need do not already exist."
   ]
  },
  {
   "cell_type": "code",
   "execution_count": 3,
   "metadata": {
    "collapsed": false
   },
   "outputs": [],
   "source": [
    "gg_otus            = agu.get_new_path(agenv.paths['gg-otus'])\n",
    "gg_otus_biom       = agu.get_new_path(agenv.paths['gg-otus-biom'])\n",
    "gg_otus_100nt      = agu.get_new_path(agenv.paths['gg-otus-100nt'])\n",
    "gg_otus_100nt_biom = agu.get_new_path(agenv.paths['gg-otus-100nt-biom'])"
   ]
  },
  {
   "cell_type": "markdown",
   "metadata": {},
   "source": [
    "We're going to now setup a parameters file for the OTU picking runs. It is possible to specify a precomputed SortMeRNA index by indicating it's path as the environment variable `$AG_SMR_INDEX`. The reason we're using an environment variable is that it makes it much easier to inject an index during continuous integration testing."
   ]
  },
  {
   "cell_type": "code",
   "execution_count": 4,
   "metadata": {
    "collapsed": false
   },
   "outputs": [],
   "source": [
    "_params_file = agu.get_path('sortmerna_pick_params.txt')\n",
    "\n",
    "with open(_params_file, 'w') as f:\n",
    "    f.write(\"pick_otus:otu_picking_method sortmerna\\n\")\n",
    "    f.write(\"pick_otus:similarity 0.97\\n\")\n",
    "    f.write(\"pick_otus:threads %d\\n\" % multiprocessing.cpu_count())\n",
    "    \n",
    "    if agenv.get_sortmerna_index():  \n",
    "        f.write(\"pick_otus:sortmerna_db %s\\n\" % agenv.get_sortmerna_index())"
   ]
  },
  {
   "cell_type": "markdown",
   "metadata": {},
   "source": [
    "And now we can actually pick the OTUs. This will take sometime. Note, we're issuing two separate commands as we're picking against the untrimmed and the trimmed data."
   ]
  },
  {
   "cell_type": "code",
   "execution_count": 5,
   "metadata": {
    "collapsed": false
   },
   "outputs": [
    {
     "name": "stdout",
     "output_type": "stream",
     "text": [
      "Traceback (most recent call last):\n",
      "  File \"/Users/mcdonadt/miniconda3/envs/agdev/bin/pick_closed_reference_otus.py\", line 233, in <module>\n",
      "    main()\n",
      "  File \"/Users/mcdonadt/miniconda3/envs/agdev/bin/pick_closed_reference_otus.py\", line 224, in main\n",
      "    status_update_callback=status_update_callback)\n",
      "  File \"/Users/mcdonadt/miniconda3/envs/agdev/lib/python2.7/site-packages/qiime/workflow/upstream.py\", line 506, in run_pick_closed_reference_otus\n",
      "    close_logger_on_success=close_logger_on_success)\n",
      "  File \"/Users/mcdonadt/miniconda3/envs/agdev/lib/python2.7/site-packages/qiime/workflow/util.py\", line 122, in call_commands_serially\n",
      "    raise WorkflowError(msg)\n",
      "qiime.workflow.util.WorkflowError: \n",
      "\n",
      "*** ERROR RAISED DURING STEP: Make OTU table\n",
      "Command run was:\n",
      " make_otu_table.py -i agp_processing/otus/gg-13_8-97-percent-otus/sortmerna_picked_otus/filtered-sequences_otus.txt -t /Users/mcdonadt/miniconda3/envs/agdev/lib/python2.7/site-packages/qiime_default_reference/gg_13_8_otus/taxonomy/97_otu_taxonomy.txt -o agp_processing/otus/gg-13_8-97-percent-otus/otu_table.biom \n",
      "Command returned exit status: 1\n",
      "Stdout:\n",
      "\n",
      "Stderr\n",
      "Traceback (most recent call last):\n",
      "  File \"/Users/mcdonadt/miniconda3/envs/agdev/bin/make_otu_table.py\", line 119, in <module>\n",
      "    main()\n",
      "  File \"/Users/mcdonadt/miniconda3/envs/agdev/bin/make_otu_table.py\", line 115, in main\n",
      "    write_biom_table(biom_otu_table, opts.output_biom_fp)\n",
      "  File \"/Users/mcdonadt/miniconda3/envs/agdev/lib/python2.7/site-packages/qiime/util.py\", line 569, in write_biom_table\n",
      "    \"Attempting to write an empty BIOM table to disk. \"\n",
      "qiime.util.EmptyBIOMTableError: Attempting to write an empty BIOM table to disk. QIIME doesn't support writing empty BIOM output files.\n",
      "\n",
      "\n",
      "Traceback (most recent call last):\n",
      "  File \"/Users/mcdonadt/miniconda3/envs/agdev/bin/pick_closed_reference_otus.py\", line 233, in <module>\n",
      "    main()\n",
      "  File \"/Users/mcdonadt/miniconda3/envs/agdev/bin/pick_closed_reference_otus.py\", line 224, in main\n",
      "    status_update_callback=status_update_callback)\n",
      "  File \"/Users/mcdonadt/miniconda3/envs/agdev/lib/python2.7/site-packages/qiime/workflow/upstream.py\", line 506, in run_pick_closed_reference_otus\n",
      "    close_logger_on_success=close_logger_on_success)\n",
      "  File \"/Users/mcdonadt/miniconda3/envs/agdev/lib/python2.7/site-packages/qiime/workflow/util.py\", line 122, in call_commands_serially\n",
      "    raise WorkflowError(msg)\n",
      "qiime.workflow.util.WorkflowError: \n",
      "\n",
      "*** ERROR RAISED DURING STEP: Make OTU table\n",
      "Command run was:\n",
      " make_otu_table.py -i agp_processing/otus/gg-13_8-97-percent-otus-with-100nt/sortmerna_picked_otus/filtered-sequences-100nt_otus.txt -t /Users/mcdonadt/miniconda3/envs/agdev/lib/python2.7/site-packages/qiime_default_reference/gg_13_8_otus/taxonomy/97_otu_taxonomy.txt -o agp_processing/otus/gg-13_8-97-percent-otus-with-100nt/otu_table.biom \n",
      "Command returned exit status: 1\n",
      "Stdout:\n",
      "\n",
      "Stderr\n",
      "Traceback (most recent call last):\n",
      "  File \"/Users/mcdonadt/miniconda3/envs/agdev/bin/make_otu_table.py\", line 119, in <module>\n",
      "    main()\n",
      "  File \"/Users/mcdonadt/miniconda3/envs/agdev/bin/make_otu_table.py\", line 115, in main\n",
      "    write_biom_table(biom_otu_table, opts.output_biom_fp)\n",
      "  File \"/Users/mcdonadt/miniconda3/envs/agdev/lib/python2.7/site-packages/qiime/util.py\", line 569, in write_biom_table\n",
      "    \"Attempting to write an empty BIOM table to disk. \"\n",
      "qiime.util.EmptyBIOMTableError: Attempting to write an empty BIOM table to disk. QIIME doesn't support writing empty BIOM output files.\n",
      "\n",
      "\n"
     ]
    }
   ],
   "source": [
    "!pick_closed_reference_otus.py -i $filtered_sequences \\\n",
    "                               -o $gg_otus \\\n",
    "                               -r $greengenes_reference_sequences \\\n",
    "                               -t $greengenes_reference_taxonomy \\\n",
    "                               -p $_params_file\n",
    "                \n",
    "!pick_closed_reference_otus.py -i $filtered_sequences_100nt \\\n",
    "                               -o $gg_otus_100nt \\\n",
    "                               -r $greengenes_reference_sequences \\\n",
    "                               -t $greengenes_reference_taxonomy \\\n",
    "                               -p $_params_file"
   ]
  },
  {
   "cell_type": "markdown",
   "metadata": {},
   "source": [
    "And we'll end with some sanity checking of the outputs."
   ]
  },
  {
   "cell_type": "code",
   "execution_count": null,
   "metadata": {
    "collapsed": false
   },
   "outputs": [],
   "source": [
    "assert os.stat(gg_otus_biom).st_size > 0\n",
    "assert os.stat(gg_otus_100nt_biom).st_size > 0"
   ]
  }
 ],
 "metadata": {
  "kernelspec": {
   "display_name": "Python 2",
   "language": "python",
   "name": "python2"
  },
  "language_info": {
   "codemirror_mode": {
    "name": "ipython",
    "version": 2
   },
   "file_extension": ".py",
   "mimetype": "text/x-python",
   "name": "python",
   "nbconvert_exporter": "python",
   "pygments_lexer": "ipython2",
   "version": "2.7.10"
  }
 },
 "nbformat": 4,
 "nbformat_minor": 0
}
