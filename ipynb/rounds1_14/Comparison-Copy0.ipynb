{
 "metadata": {
  "name": "",
  "signature": "sha256:9c84fc24f7f71b54e1d7d3b20c6489362e6ee85cf27446c5f3ddbdc9cb89be9b"
 },
 "nbformat": 3,
 "nbformat_minor": 0,
 "worksheets": [
  {
   "cells": [
    {
     "cell_type": "code",
     "collapsed": false,
     "input": [
      "%matplotlib inline"
     ],
     "language": "python",
     "metadata": {},
     "outputs": [],
     "prompt_number": 1
    },
    {
     "cell_type": "markdown",
     "metadata": {},
     "source": [
      "# Rarefaction\n",
      "[Text describing the import.]\n",
      "\n",
      "####Notebook Requirements\n",
      "<ul><li>cURL\n",
      "</li><li>Python 2.7\n",
      "</li><li>Numpy $\\geq$ 1.7\n",
      "</li><li>Biom format 2.0.1\n",
      "</li><li>Pandas 0.14.1\n",
      "</li><li>StatsModel 0.5.0\n",
      "</li><li>Scikit bio 0.1.4\n",
      "</li><li>Qiime 1.8.0-dev\n",
      "</li><li>Custom code libraries, <a href=\"\">pandas_fun.py</a> and <a href=\"\">power.py</a>.\n",
      "</li></ul>\n",
      "\n",
      "<a id=\"top\"></a>\n",
      "####Table of contents\n",
      "<ul><li><a href=\"#parameters\">Sets analysis parameters</a>\n",
      "</li><li><a href=\"#ifilepath\">Imports necessary files</a>\n",
      "</li><li><a href=\"#multiple_rare\">Multiple Rarefaction</a>\n",
      "</li></ul>\n",
      "\n",
      "We start by importing necessary functions, and determining if files should be overwritten."
     ]
    },
    {
     "cell_type": "code",
     "collapsed": false,
     "input": [
      "# File handling\n",
      "from os import remove, rename\n",
      "from os.path import abspath, isfile, exists, join as pjoin\n",
      "from shutil import move\n",
      "import numpy as np\n",
      "from matplotlib import rcParams\n",
      "import matplotlib.pylab as plt\n",
      "import pandas as pd\n",
      "from biom import load_table\n",
      "import skbio\n",
      "import scipy\n",
      "from jwd_code.pandas_fun import (check_dir, \n",
      "                                 pad_index,\n",
      "                                 boxplot)\n",
      "\n",
      "# Writes a file to save the json string tables\n",
      "def write_biom(table, fp):\n",
      "    \"\"\"Writes a biom table as a json string\"\"\"\n",
      "    file_ = open(fp, 'w')\n",
      "    file_.write(table.to_json(''))\n",
      "    file_.close()"
     ],
     "language": "python",
     "metadata": {},
     "outputs": [],
     "prompt_number": 2
    },
    {
     "cell_type": "markdown",
     "metadata": {},
     "source": [
      "We will also set up some plotting parameters so the generated figures use Helvetica or Arial as their default font."
     ]
    },
    {
     "cell_type": "code",
     "collapsed": false,
     "input": [
      "# Sets up plotting parameters so that the default setting is use to Helvetica\n",
      "# in plots\n",
      "rcParams['font.family'] = 'sans-serif'\n",
      "rcParams['font.sans-serif'] = ['Helvetica', 'Arial']\n",
      "rcParams['text.usetex'] = True"
     ],
     "language": "python",
     "metadata": {},
     "outputs": [],
     "prompt_number": 3
    },
    {
     "cell_type": "markdown",
     "metadata": {},
     "source": [
      "<a href=#top>Return to the top</a>\n",
      "\n",
      "<a id=\"parameters\"></a>\n",
      "###### Sets analysis parameters\n",
      "We can also set some necessary parameters for handling files and this analysis.\n",
      "\n",
      "<strong><code>overwrite</code></strong> indicates whether or not new files should be saved and downloaded if they are not otherwise avalaible. For a notebook which runs faster, <strong><code>overwrite</code></strong> should be set to <code><font color=\"green\">False</font></code>.\n",
      "\n",
      "###### Pandas file handling parameters\n",
      "* The <strong><code>txt_delim</code></strong> specifies the way columns are separated in the files. Qiime standards typically use text (.txt) files, which are separated by a tab-character (<code><font color=\"firebrick\">'\\t'</font></code>).\n",
      "* <strong><code>map_index</code></strong> specifies the name of the file containing the sample names. In Qiime, this is named <code>\u201c#SampleID\u201d</code>.\n",
      "* It is possible the mapping file may be missing values, as participants are free to skip any question, so possible missing values are given by <strong><code>map_nas</code></strong>.\n",
      "* <strong><code>write_na</code></strong> gives a value used when the files are written. Using an empty space, (<code><font color=\"firebrick\">''</font></code>), will cause certain Qiime scripts like <code>group_signifigance.py</code> will ignore the missing group.\n",
      "\n",
      "###### Rarefaction Parameters\n",
      "* <code><strong>rare_depths</strong></code> specifies a vector of rarefaction depths to be sampled. We'd like to sample between 100 and 50,000 seqs/sample.\n",
      "* To determine how many samples are to be selected at each depth, specify a vector values in <strong><code>samps_drawn</code></strong>. We will look at between 2 and 2500 samples.\n",
      "* The <strong><code>num_iterations</code></strong> determines how many times a rarefactions should be performed for a given rarefaction depth and number of samples."
     ]
    },
    {
     "cell_type": "code",
     "collapsed": false,
     "input": [
      "overwrite = False\n",
      "\n",
      "# Sets parameters for reading tables into pandas\n",
      "txt_delim = '\\t'\n",
      "map_index = '#SampleID'\n",
      "map_nas = ['NA', 'no_data', 'unknown']\n",
      "write_na = ''"
     ],
     "language": "python",
     "metadata": {},
     "outputs": [],
     "prompt_number": 4
    },
    {
     "cell_type": "markdown",
     "metadata": {},
     "source": [
      "<a href=\"#top\">Return to the top</a>\n",
      "\n",
      "<a id=\"ifilepath\"></a>\n",
      "######Imports the files\n",
      "\n",
      "This points to the directories and files where analysis files are located. If the directories are not avaliable, they can be downloaded without processing. This notebook focuses on samples from the <a href=\"https://www.dropbox.com/s/c54ggzikun6rjcm/AG_1_10_fecal_subset.tgz\">American Gut rounds 1-10 healthy subset</a> and then <a href=\"https://www.dropbox.com/s/5ufd2v92i633q1i/AG_1_10_filtered_fecal_subset.tgz\">filtered American Gut rounds 1-10 healthy subset</a>. The data will be downloaded using cURL if the files cannot be found.\n",
      "\n",
      "The data is assumed to be saved in a directory called <font color=\"darkblue\">AGPanalysis</font> in the parent directory of the current directory. (It is assumed the filepath is located in the current, notebook directory). To change the location of these files, the <code>base_dir</code> can be changed to an alternative lcoation.\n",
      "\n",
      "We can begin by setting up directories to save the files which will be downloaded and handled here. The default setting is to perform the analysis in a new directory, <code>AGPanalysis</code> in the parent directory of the current directory (assumed to be the notebook directory).\n",
      "\n",
      "To change where data is saved, the <code>base_dir</code> should be set.\n",
      "\n",
      "The downloaded directory will contain all the necessary files, and filenames.\n",
      "\n",
      "This notebook will use files with the ending description <font color=\"firebrick\">\"_single\"</font>, denoting they have been filtered down to have only a single sample per indiviudal."
     ]
    },
    {
     "cell_type": "code",
     "collapsed": false,
     "input": [
      "# Sets up the base directory\n",
      "base_dir_10 = pjoin(abspath('..'), 'agp_analysis')\n",
      "check_dir(base_dir_10)\n",
      "base_dir_14 = pjoin(abspath('..'), 'agp_analysis_rounds_1_14')\n",
      "check_dir(base_dir_14)\n",
      "otu_dir_10 = pjoin(base_dir_10, 'otu_tables')\n",
      "otu_dir_14 = pjoin(base_dir_14, 'otu_tables')\n",
      "check_dir(otu_dir_10)\n",
      "check_dir(otu_dir_14)\n",
      "\n",
      "# Sets the directory where the files should be located\n",
      "fecal_dir_10 = pjoin(otu_dir_10, 'fecal_samples')\n",
      "check_dir(fecal_dir_10)\n",
      "fecal_dir_14 = pjoin(otu_dir_14, 'fecal_samples')\n",
      "check_dir(fecal_dir_14)\n",
      "ass_dir_10 = pjoin(fecal_dir_10, 'all_otus_subset_single_samples')\n",
      "check_dir(ass_dir_10)\n",
      "aws_dir_10 = pjoin(fecal_dir_10, 'all_otus_single_samples')\n",
      "check_dir(aws_dir_10)\n",
      "awt_dir_14 = pjoin(fecal_dir_14, 'all_otus_all_samples')\n",
      "check_dir(awt_dir_14)\n",
      "\n",
      "# Sets the subset filepath for all samples\n",
      "awsr_otu_fp = pjoin(aws_dir_10, 'AGP_100nt_fecal_even10k.biom')\n",
      "awsr_map_fp = pjoin(aws_dir_10, 'AGP_100nt_fecal_even10k.txt')\n",
      "awsr_ubd_fp = pjoin(aws_dir_10, 'unweighted_unifrac_AGP_100nt_fecal_even10k.txt')\n",
      "awsr_wbd_fp = pjoin(aws_dir_10, 'weighted_unifrac_AGP_100nt_fecal_even10k.txt')\n",
      "\n",
      "assr_otu_fp = pjoin(ass_dir_10, 'AGP_100nt_fecal_even10k.biom')\n",
      "assr_map_fp = pjoin(ass_dir_10, 'AGP_100nt_fecal_even10k.txt')\n",
      "assr_ubd_fp = pjoin(ass_dir_10, 'unweighted_unifrac_AGP_100nt_fecal_even10k.txt')\n",
      "assr_wbd_fp = pjoin(ass_dir_10, 'weighted_unifrac_AGP_100nt_fecal_even10k.txt')\n",
      "\n",
      "awtr_otu_fp = pjoin(awt_dir_14, 'AGP_100nt_fecal_even10k.biom')\n",
      "awtr_map_fp = pjoin(awt_dir_14, 'AGP_100nt_fecal_even10k.txt')\n",
      "awtr_ubd_fp = pjoin(awt_dir_14, 'unweighted_unifrac_AGP_100nt_fecal_even10k.txt')\n",
      "awtr_wbd_fp = pjoin(awt_dir_14, 'weighted_unifrac_AGP_100nt_fecal_even10k.txt')"
     ],
     "language": "python",
     "metadata": {},
     "outputs": [],
     "prompt_number": 11
    },
    {
     "cell_type": "markdown",
     "metadata": {},
     "source": [
      "Loads the data into the notebook for analysis."
     ]
    },
    {
     "cell_type": "code",
     "collapsed": false,
     "input": [
      "aws_10_otu = load_table(assr_otu_fp)\n",
      "aws_10_map = pad_index(pd.read_csv(assr_map_fp,\n",
      "                                   sep=txt_delim, \n",
      "                                   na_values=map_nas),\n",
      "                    index_col=map_index)\n",
      "aws_10_ubd = skbio.DistanceMatrix.from_file(assr_ubd_fp)\n",
      "aws_10_wbd = skbio.DistanceMatrix.from_file(assr_wbd_fp)\n",
      "\n",
      "awt_otu = load_table(awtr_otu_fp)\n",
      "awt_map = pad_index(pd.read_csv(awtr_map_fp,\n",
      "                                sep=txt_delim, \n",
      "                                na_values=map_nas),\n",
      "                    index_col=map_index)\n",
      "awt_ubd = skbio.DistanceMatrix.from_file(awtr_ubd_fp)\n",
      "awt_wbd = skbio.DistanceMatrix.from_file(awtr_wbd_fp)"
     ],
     "language": "python",
     "metadata": {},
     "outputs": [],
     "prompt_number": 12
    },
    {
     "cell_type": "code",
     "collapsed": false,
     "input": [
      "awt_otu.data('000004618.1131914')\n",
      "awt_map.loc['000004618.1131914', ['AGE', 'ANTIBIOTIC_SELECT', 'IBD', 'DIABETES', 'BMI']]"
     ],
     "language": "python",
     "metadata": {},
     "outputs": [
      {
       "metadata": {},
       "output_type": "pyout",
       "prompt_number": 27,
       "text": [
        "AGE                                      56\n",
        "ANTIBIOTIC_SELECT      Not in the last year\n",
        "IBD                       I do not have IBD\n",
        "DIABETES             I do not have diabetes\n",
        "BMI                                18.90023\n",
        "Name: 000004618.1131914, dtype: object"
       ]
      }
     ],
     "prompt_number": 27
    },
    {
     "cell_type": "markdown",
     "metadata": {},
     "source": [
      "We can filter the rounds 1-14 data so we get the same rounds 1-10 samples."
     ]
    },
    {
     "cell_type": "code",
     "collapsed": false,
     "input": [
      "# Identifies the samples shared between the the two sets of samples\n",
      "in_1_10 = set(aws_10_ubd.ids)\n",
      "in_1_14 = set(awt_ubd.ids)\n",
      "shared_ids = np.array(list(in_1_10.intersection(in_1_14)))\n",
      "\n",
      "# Filters the table to get matching sets\n",
      "aws_14_otu = awt_otu.copy()\n",
      "aws_14_otu = aws_14_otu.filter(shared_ids)\n",
      "aws_14_map = awt_map.copy()\n",
      "aws_14_map = aws_14_map.loc[shared_ids]\n",
      "aws_14_ubd = awt_ubd.copy()\n",
      "aws_14_ubd = aws_14_ubd.filter(shared_ids)\n",
      "aws_14_wbd = awt_wbd.copy()\n",
      "aws_14_wbd = aws_14_wbd.filter(shared_ids)\n",
      "\n",
      "aws_10_otu = aws_10_otu.filter(shared_ids)\n",
      "aws_10_map = aws_10_map.loc[shared_ids]\n",
      "aws_10_ubd = aws_10_ubd.filter(shared_ids)\n",
      "aws_10_wbd = aws_10_wbd.filter(shared_ids)"
     ],
     "language": "python",
     "metadata": {},
     "outputs": [],
     "prompt_number": 13
    },
    {
     "cell_type": "code",
     "collapsed": false,
     "input": [
      "write_biom(aws_14_otu, '/Users/jwdebelius/Desktop/comparison2/sortmerna_all_single_samples_10k_even.biom')\n",
      "write_biom(aws_10_otu, '/Users/jwdebelius/Desktop/comparison2/uclust_all_single_samples_10k_even.biom')\n",
      "\n",
      "aws_14_map.to_csv('/Users/jwdebelius/Desktop/comparison2/sortmerna_all_single_samples_10k_even.txt',\n",
      "                  sep=txt_delim, index_label=map_index, write_na='Unknown')\n",
      "aws_10_map.to_csv('/Users/jwdebelius/Desktop/comparison2/uclust_all_single_samples_10k_even.txt',\n",
      "                  sep=txt_delim, index_label=map_index, write_na='Unknown')\n",
      "aws_14_ubd.to_file('/Users/jwdebelius/Desktop/comparison2/sortmerna_unweighted_unifrac_all_single_samples_10k_even.txt')\n",
      "aws_10_ubd.to_file('/Users/jwdebelius/Desktop/comparison2/uclust_unweighted_unifrac_all_single_samples_10k_even.txt')\n",
      "\n",
      "aws_14_wbd.to_file('/Users/jwdebelius/Desktop/comparison2/sortmerna_weighted_unifrac_all_single_samples_10k_even.txt')\n",
      "aws_10_wbd.to_file('/Users/jwdebelius/Desktop/comparison2/uclust_weighted_unifrac_all_single_samples_10k_even.txt')"
     ],
     "language": "python",
     "metadata": {},
     "outputs": [],
     "prompt_number": 14
    },
    {
     "cell_type": "code",
     "collapsed": false,
     "input": [
      "# Compares the alpha diveristy between the two sets of data\n",
      "alpha_diff_pd = (aws_14_map.PD_whole_tree_mean - aws_10_map.PD_whole_tree_mean)/(aws_14_map.PD_whole_tree_mean)\n",
      "alpha_diff_os = (aws_14_map.observed_species_mean - aws_10_map.observed_species_mean)/(aws_14_map.observed_species_mean)\n",
      "alpha_diff_sh = (aws_14_map.shannon_mean - aws_10_map.shannon_mean)/(aws_14_map.shannon_mean)\n",
      "# Keeps only defined samples\n",
      "alpha_diff_pd = alpha_diff_pd.loc[np.isnan(alpha_diff_pd) == False]\n",
      "alpha_diff_os = alpha_diff_os.loc[np.isnan(alpha_diff_os) == False]\n",
      "alpha_diff_sh = alpha_diff_sh.loc[np.isnan(alpha_diff_sh) == False]"
     ],
     "language": "python",
     "metadata": {},
     "outputs": [],
     "prompt_number": 15
    },
    {
     "cell_type": "code",
     "collapsed": false,
     "input": [
      "ax, feats = boxplot([alpha_diff_pd.values, alpha_diff_os, alpha_diff_sh.values],\n",
      "                    xticklabels=['PD whole tree', 'Observed OTUs', 'Shannon'],\n",
      "                    notch=False, show_n=False, interval=0.33, hide_xticks=True,\n",
      "                    ylabel='Relative Difference in Alpha Diversity')\n",
      "ax.plot([-3, 3], [0, 0], 'k-')\n",
      "ax.get_xticks()\n",
      "ax.text(x=0, y=0.2, s='p = %1.1e' % scipy.stats.wilcoxon(alpha_diff_pd)[1], ha='center', size=12)\n",
      "ax.text(x=0.33, y=0.2, s='p = %1.1e' % scipy.stats.wilcoxon(alpha_diff_os)[1], ha='center', size=12)\n",
      "ax.text(x=0.66, y=0.2, s='p = %1.1e' % scipy.stats.wilcoxon(alpha_diff_sh)[1], ha='center', size=12)\n",
      "ax.set_position((0.125, 0.125, 0.6, 0.9))"
     ],
     "language": "python",
     "metadata": {},
     "outputs": [
      {
       "metadata": {},
       "output_type": "display_data",
       "png": "[encoded data removed]",
       "text": [
        "<matplotlib.figure.Figure at 0x10e384bd0>"
       ]
      }
     ],
     "prompt_number": 16
    },
    {
     "cell_type": "code",
     "collapsed": false,
     "input": [
      "# Summarizes the tables at the phylum level for the uclust table\n",
      "ids_10 = aws_10_otu.ids('sample')\n",
      "tax_table_10 = np.zeros((len(ids_10)))\n",
      "taxa_10 = np.array([])\n",
      "for bin_, table in aws_10_otu.partition(lambda id_, md: md['taxonomy'][1], axis='observation'):\n",
      "    taxa_10 = np.hstack((taxa_10, bin_))\n",
      "    tax_table_10 = np.vstack((tax_table_10, table.sum('sample')))\n",
      "tax_table_10 = tax_table_10[1:, :]\n",
      "\n",
      "# Summarizes the table at the phylum level for the SortMeRNA table\n",
      "ids_14 = aws_14_otu.ids('sample')\n",
      "tax_table_14 = np.zeros((len(ids_14)))\n",
      "taxa_14 = np.array([])\n",
      "for bin_, table in aws_14_otu.partition(lambda id_, md: md['taxonomy'][1], axis='observation'):\n",
      "    taxa_14 = np.hstack((taxa_14, bin_))\n",
      "    tax_table_14 = np.vstack((tax_table_14, table.sum('sample')))\n",
      "tax_table_14 = tax_table_14[1:, :]"
     ],
     "language": "python",
     "metadata": {},
     "outputs": [],
     "prompt_number": 17
    },
    {
     "cell_type": "code",
     "collapsed": false,
     "input": [
      "# Caluclates a difference in the phyla seen between both methods\n",
      "diff = np.zeros((len(ids_14)))\n",
      "diff_taxa = np.array([])\n",
      "for id_10, tax_10 in enumerate(taxa_10):\n",
      "    if tax_10 in taxa_14:\n",
      "        id_14 = np.arange(0, len(taxa_14))[taxa_14 == tax_10]\n",
      "        mean_abund = np.vstack((tax_table_10[id_10, :], tax_table_14[id_14, :]))\n",
      "        diff = np.vstack((diff, (tax_table_10[id_10, :] - tax_table_14[id_14, :])/10000))\n",
      "        diff_taxa = np.hstack(tax_10)\n",
      "diff = diff[1:, :]\n",
      "\n",
      "# Identifies the most common phyla in the two methods\n",
      "ord_10 = np.argsort(tax_table_10.mean(1))\n",
      "ord_14 = np.argsort(tax_table_14.mean(1))\n",
      "\n",
      "# Orders the data\n",
      "diff = diff[ord_10[::-1]]\n",
      "\n",
      "# Gets the vector to plot\n",
      "diff_ord = [diff[ 0, :], diff[ 1, :], diff[ 2, :], diff[ 3, :], diff[ 4, :], diff[ 5, :], \n",
      "            diff[ 6, :], diff[ 7, :], diff[ 8, :], diff[ 9, :], diff[10, :], diff[11, :]]\n",
      "xticklabels = ['Firmictues', 'Bacteriodetes', 'Proteobacteria', 'Verrucomicrobia',\n",
      "               'Actinobacteria', 'Tenericutes', 'Cyanobacteria', 'Fusobacteria',\n",
      "               'Spirochaetes', 'Lentisphaerae', 'Euryarchaeota', 'Synergistetes']\n",
      "# Plots the data\n",
      "ax1 = plt.subplot(2, 1, 1)\n",
      "ax2 = plt.subplot(2, 1, 2)\n",
      "\n",
      "ph1_ax, ph1_feats = boxplot(diff_ord,  xticklabels='', xfont_angle=45, \n",
      "                            xfont_align='right', show_n=False, hide_xticks=True,\n",
      "                            ax=ax1)\n",
      "ph2_ax, ph2_feats = boxplot(diff_ord,  xticklabels=xticklabels, xfont_angle=45,\n",
      "                            xfont_align='right', ylims=[-0.025, 0.025], show_n=False,\n",
      "                            hide_xticks=True, ax=ax2)\n",
      "l = ph2_ax.set_ylabel('Difference in Relative Abundance')\n",
      "l.set_position((l.get_position()[0], 1.1))\n",
      "\n",
      "# Calculates the difference\n",
      "for i in diff_ord:\n",
      "    print '%1.2e\\t%1.2f' % (np.nanmean(i[np.isinf(i) == False]), scipy.stats.wilcoxon(i)[1])"
     ],
     "language": "python",
     "metadata": {},
     "outputs": [
      {
       "output_type": "stream",
       "stream": "stdout",
       "text": [
        "4.51e-03\t0.67\n",
        "3.88e-03\t0.84\n",
        "-8.64e-03\t0.00\n",
        "9.73e-05\t0.67\n",
        "1.04e-04\t0.62\n",
        "2.07e-05\t0.66\n",
        "1.24e-05\t0.68\n",
        "-2.22e-06\t0.99\n",
        "5.92e-07\t0.83\n",
        "3.70e-06\t0.88\n",
        "1.78e-06\t0.96\n",
        "2.51e-06\t0.92\n"
       ]
      },
      {
       "metadata": {},
       "output_type": "display_data",
       "png": "[encoded data removed]",
       "text": [
        "<matplotlib.figure.Figure at 0x10e42e910>"
       ]
      }
     ],
     "prompt_number": 18
    },
    {
     "cell_type": "code",
     "collapsed": false,
     "input": [
      "# Caluclates a difference in the phyla seen between both methods\n",
      "diff = np.zeros((len(ids_14)))\n",
      "diff_taxa = np.array([])\n",
      "for id_10, tax_10 in enumerate(taxa_10):\n",
      "    if tax_10 in taxa_14:\n",
      "        id_14 = np.arange(0, len(taxa_14))[taxa_14 == tax_10]\n",
      "        mean_abund = np.vstack((tax_table_10[id_10, :], tax_table_14[id_14, :]))\n",
      "        diff = np.vstack((diff, (tax_table_10[id_10, :] - tax_table_14[id_14, :])/tax_table_10[id_10, :]))\n",
      "        diff_taxa = np.hstack(tax_10)\n",
      "diff = diff[1:, :]\n",
      "\n",
      "# Identifies the most common phyla in the two methods\n",
      "ord_10 = np.argsort(tax_table_10.mean(1))\n",
      "ord_14 = np.argsort(tax_table_14.mean(1))\n",
      "\n",
      "# Orders the data\n",
      "diff = diff[ord_10[::-1]]\n",
      "\n",
      "# Gets the vector to plot\n",
      "diff_ord = [diff[ 0, :], diff[ 1, :], diff[ 2, :], diff[ 3, :], diff[ 4, :], diff[ 5, :], \n",
      "            diff[ 6, :], diff[ 7, :], diff[ 8, :], diff[ 9, :], diff[10, :], diff[11, :]]\n",
      "xticklabels = ['Firmictues', 'Bacteriodetes', 'Proteobacteria', 'Verrucomicrobia',\n",
      "               'Actinobacteria', 'Tenericutes', 'Cyanobacteria', 'Fusobacteria',\n",
      "               'Spirochaetes', 'Lentisphaerae', 'Euryarchaeota', 'Synergistetes']\n",
      "# Plots the data\n",
      "ax1 = plt.subplot(2, 1, 1)\n",
      "ax2 = plt.subplot(2, 1, 2)\n",
      "\n",
      "ph1_ax, ph1_feats = boxplot(diff_ord,  xticklabels='', xfont_angle=45, \n",
      "                            xfont_align='right', show_n=False, hide_xticks=True,\n",
      "                            ax=ax1)\n",
      "ph2_ax, ph2_feats = boxplot(diff_ord,  xticklabels=xticklabels, xfont_angle=45,\n",
      "                            xfont_align='right', ylims=[-50, 10], show_n=False,\n",
      "                            hide_xticks=True, ax=ax2)\n",
      "l = ph2_ax.set_ylabel('Fold Difference Abundance')\n",
      "ph1_ax.set_yticklabels(map(int, ph1_ax.get_yticks()))\n",
      "ph2_ax.set_yticklabels(map(int, ph2_ax.get_yticks()))\n",
      "l.set_position((l.get_position()[0], 1.1))\n",
      "\n",
      "for i in diff_ord:\n",
      "    print '%1.2f\\t%1.1e' % (np.nanmean(i[np.isinf(i) == False]), scipy.stats.wilcoxon(i)[1])"
     ],
     "language": "python",
     "metadata": {},
     "outputs": [
      {
       "output_type": "stream",
       "stream": "stdout",
       "text": [
        "-0.36\t1.0e-02\n",
        "-1.51\t1.4e-03\n",
        "-6.19\t4.2e-24\n",
        "-38.29\t1.1e-21\n",
        "-12.80\t1.8e-09\n",
        "-6.30\t9.6e-32\n",
        "-4.19\t6.0e-43\n",
        "-2.66\t8.0e-83\n",
        "1.00\t3.3e-112\n",
        "-0.08\t2.8e-85\n",
        "0.39\t1.2e-92\n",
        "0.66\t9.3e-104\n"
       ]
      },
      {
       "metadata": {},
       "output_type": "display_data",
       "png": "[encoded data removed]",
       "text": [
        "<matplotlib.figure.Figure at 0x10ec7d710>"
       ]
      }
     ],
     "prompt_number": 19
    },
    {
     "cell_type": "code",
     "collapsed": false,
     "input": [
      "sub_10 = tax_table_10[ord_10[::-1], :]\n",
      "sub_14 = tax_table_14[ord_14[::-1], :]"
     ],
     "language": "python",
     "metadata": {},
     "outputs": [],
     "prompt_number": 20
    },
    {
     "cell_type": "code",
     "collapsed": false,
     "input": [
      "from matplotlib import cm\n",
      "import matplotlib.colors as cols"
     ],
     "language": "python",
     "metadata": {},
     "outputs": [],
     "prompt_number": 21
    },
    {
     "cell_type": "code",
     "collapsed": false,
     "input": [
      "len(upper_10)"
     ],
     "language": "python",
     "metadata": {},
     "outputs": [
      {
       "ename": "NameError",
       "evalue": "name 'upper_10' is not defined",
       "output_type": "pyerr",
       "traceback": [
        "\u001b[0;31m---------------------------------------------------------------------------\u001b[0m\n\u001b[0;31mNameError\u001b[0m                                 Traceback (most recent call last)",
        "\u001b[0;32m<ipython-input-22-0bc3f1370f08>\u001b[0m in \u001b[0;36m<module>\u001b[0;34m()\u001b[0m\n\u001b[0;32m----> 1\u001b[0;31m \u001b[0mlen\u001b[0m\u001b[0;34m(\u001b[0m\u001b[0mupper_10\u001b[0m\u001b[0;34m)\u001b[0m\u001b[0;34m\u001b[0m\u001b[0m\n\u001b[0m",
        "\u001b[0;31mNameError\u001b[0m: name 'upper_10' is not defined"
       ]
      }
     ],
     "prompt_number": 22
    },
    {
     "cell_type": "code",
     "collapsed": false,
     "input": [
      "upper_10 = np.vstack((sub_10[:9, :], 1 - sub_10[:9, :].sum(0)))\n",
      "upper_14 = np.vstack((sub_14[:9, :], 1 - sub_14[:9, :].sum(0)))\n",
      "upper_10 = upper_10/10000\n",
      "upper_14 = upper_14/10000"
     ],
     "language": "python",
     "metadata": {},
     "outputs": []
    },
    {
     "cell_type": "code",
     "collapsed": false,
     "input": [
      "for id1 in xrange(9):\n",
      "    print upper_10[:id1, :].sum(0)"
     ],
     "language": "python",
     "metadata": {},
     "outputs": []
    },
    {
     "cell_type": "code",
     "collapsed": false,
     "input": [
      "# ax1 = plt.subplot(2, 1, 1)\n",
      "# ax2 = plt.subplot(2, 1, 2)\n",
      "ax1 = plt.axes()\n",
      "area_cmap = np.array([[213,62,79],\n",
      "                      [244,109,67],\n",
      "                      [253,174,97],\n",
      "                      [254,224,139],\n",
      "                      [230,245,152],\n",
      "                      [171,221,164],\n",
      "                      [102,194,165],\n",
      "                      [50,136,189 ]])/255.\n",
      "x=np.arange(0, upper_10.shape[1])\n",
      "for id1, cat in enumerate(taxa_10[ord_10[::-1][1:9]]):\n",
      "    print cat.replace('p__', '')\n",
      "    ax.plot(upper_10[:id1, ])\n",
      "#     id1 = id1+1\n",
      "    ax1.fill_between(x=x, y1=upper_10[:id1, :].sum(0), y2=upper_10[id1, :].sum(0),\n",
      "                     color=area_cmap[id1, :])"
     ],
     "language": "python",
     "metadata": {},
     "outputs": []
    },
    {
     "cell_type": "code",
     "collapsed": false,
     "input": [],
     "language": "python",
     "metadata": {},
     "outputs": []
    },
    {
     "cell_type": "code",
     "collapsed": false,
     "input": [],
     "language": "python",
     "metadata": {},
     "outputs": []
    }
   ],
   "metadata": {}
  }
 ]
}