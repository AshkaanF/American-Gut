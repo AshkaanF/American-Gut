{
 "metadata": {
  "name": "",
  "signature": "sha256:8bebd1db8a4fafaff564028201ddba3dd1c21ca3afca4a45d38901a970cc7e2a"
 },
 "nbformat": 3,
 "nbformat_minor": 0,
 "worksheets": [
  {
   "cells": [
    {
     "cell_type": "code",
     "collapsed": false,
     "input": [
      "import pandas as pd\n",
      "import numpy as np"
     ],
     "language": "python",
     "metadata": {},
     "outputs": [],
     "prompt_number": 35
    },
    {
     "cell_type": "code",
     "collapsed": false,
     "input": [
      "rural_1_fp = '/Users/jwdebelius/Downloads/zip_rural-2.csv'\n",
      "rural_2_fp = '/Users/jwdebelius/Downloads/Rural.Urban.Continuum.Codes.1974.1983.1993.2003.2013-2.csv'"
     ],
     "language": "python",
     "metadata": {},
     "outputs": [],
     "prompt_number": 7
    },
    {
     "cell_type": "code",
     "collapsed": false,
     "input": [
      "ref_1 = pd.read_csv(rural_1_fp, dtype={'zip':str, 'fips (st+cou)': str})\n",
      "ref_1.index = ref_1['zip']\n",
      "ref_2 = pd.read_csv(rural_2_fp, dtype={'FIPS':str})\n",
      "ref_2.index = ref_2['FIPS']"
     ],
     "language": "python",
     "metadata": {},
     "outputs": [],
     "prompt_number": 37
    },
    {
     "cell_type": "code",
     "collapsed": false,
     "input": [
      "all_ref = pd.concat([ref_1, ref_2])"
     ],
     "language": "python",
     "metadata": {},
     "outputs": [],
     "prompt_number": 29
    },
    {
     "cell_type": "code",
     "collapsed": false,
     "input": [
      "zip_dict = {}\n",
      "for zip_ in ref_1.index.values:\n",
      "    zip_dict[zip_] = {'county name': ref_1.loc[zip_, 'cname (abbr)'],\n",
      "                      'log population size': ref_1.loc[zip_, 'lzpop'],\n",
      "                      'log population density': ref_1.loc[zip_, 'lzden'],\n",
      "                      'rural urban continuum code 2003': ref_1.loc[zip_, 'ru2003'],\n",
      "                      'urban influence code 2003': ref_1.loc[zip_, 'ui2003']}\n",
      "\n",
      "for zip_ in ref_2.index.values:\n",
      "    try:\n",
      "        zip_dict[zip_]['rural urban continuum code 2013'] = ref_2.loc[zip_, 'Rural-Urban Continuum Code 2013']\n",
      "    except:\n",
      "        zip_dict[zip_]['rural urban continuum code 2013'] = np.nan"
     ],
     "language": "python",
     "metadata": {},
     "outputs": [
      {
       "ename": "KeyError",
       "evalue": "'01003'",
       "output_type": "pyerr",
       "traceback": [
        "\u001b[0;31m---------------------------------------------------------------------------\u001b[0m\n\u001b[0;31mKeyError\u001b[0m                                  Traceback (most recent call last)",
        "\u001b[0;32m<ipython-input-42-a14b2bf53f46>\u001b[0m in \u001b[0;36m<module>\u001b[0;34m()\u001b[0m\n\u001b[1;32m      8\u001b[0m \u001b[0;34m\u001b[0m\u001b[0m\n\u001b[1;32m      9\u001b[0m \u001b[0;32mfor\u001b[0m \u001b[0mzip_\u001b[0m \u001b[0;32min\u001b[0m \u001b[0mref_2\u001b[0m\u001b[0;34m.\u001b[0m\u001b[0mindex\u001b[0m\u001b[0;34m.\u001b[0m\u001b[0mvalues\u001b[0m\u001b[0;34m:\u001b[0m\u001b[0;34m\u001b[0m\u001b[0m\n\u001b[0;32m---> 10\u001b[0;31m     \u001b[0mzip_dict\u001b[0m\u001b[0;34m[\u001b[0m\u001b[0mzip_\u001b[0m\u001b[0;34m]\u001b[0m\u001b[0;34m[\u001b[0m\u001b[0;34m'rural urban continuum code 2013'\u001b[0m\u001b[0;34m]\u001b[0m \u001b[0;34m=\u001b[0m \u001b[0mref_2\u001b[0m\u001b[0;34m.\u001b[0m\u001b[0mloc\u001b[0m\u001b[0;34m[\u001b[0m\u001b[0mzip_\u001b[0m\u001b[0;34m,\u001b[0m \u001b[0;34m'Rural-Urban Continuum Code 2013'\u001b[0m\u001b[0;34m]\u001b[0m\u001b[0;34m\u001b[0m\u001b[0m\n\u001b[0m",
        "\u001b[0;31mKeyError\u001b[0m: '01003'"
       ]
      }
     ],
     "prompt_number": 42
    },
    {
     "cell_type": "code",
     "collapsed": false,
     "input": [
      "ref_2.columns"
     ],
     "language": "python",
     "metadata": {},
     "outputs": [
      {
       "metadata": {},
       "output_type": "pyout",
       "prompt_number": 41,
       "text": [
        "Index([u'FIPS', u'State', u'County', u'Rural-Urban Continuum Code 1974', u'Rural-Urban Continuum Code 1983', u'Rural-Urban Continuum Code 1993', u'Rural-Urban Continuum Code 2003', u'Rural-Urban Continuum Code 2013'], dtype='object')"
       ]
      }
     ],
     "prompt_number": 41
    },
    {
     "cell_type": "code",
     "collapsed": false,
     "input": [],
     "language": "python",
     "metadata": {},
     "outputs": []
    }
   ],
   "metadata": {}
  }
 ]
}