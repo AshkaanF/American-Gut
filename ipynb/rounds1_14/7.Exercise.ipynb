{
 "metadata": {
  "name": "",
  "signature": "sha256:a15640a92b17db889cc19e5ad8281d85e874293c67a7f1b5994e3c64a3d68775"
 },
 "nbformat": 3,
 "nbformat_minor": 0,
 "worksheets": [
  {
   "cells": [
    {
     "cell_type": "code",
     "collapsed": false,
     "input": [
      "%matplotlib inline"
     ],
     "language": "python",
     "metadata": {},
     "outputs": [],
     "prompt_number": 1
    },
    {
     "cell_type": "markdown",
     "metadata": {},
     "source": [
      "<a id=\"#intro\"></a>\n",
      "# [Category]\n",
      "\n",
      "[Text describing the module.]\n",
      "\n",
      "####Notebook Requirements\n",
      "<ul><li>cURL\n",
      "</li><li>Python 2.7\n",
      "</li><li>Numpy $\\geq$ 1.7\n",
      "</li><li>Biom format 2.0.1\n",
      "</li><li>Pandas 0.14.1\n",
      "</li><li>StatsModel 0.5.0\n",
      "</li><li>Scikit bio 0.1.4\n",
      "</li><li>Qiime 1.8.0-dev\n",
      "</li><li>Custom code libraries, <a href=\"\">pandas_fun.py</a> and <a href=\"\">power.py</a>.\n",
      "</li></ul>\n",
      "\n",
      "<a id=\"top\"></a>\n",
      "####Table of contents\n",
      "<ul><li><a href=\"#intro\">Introduction</a>\n",
      "</li><li><a href=\"#parameters\">Sets analysis parameters</a>\n",
      "</li><li><a href=\"#ifilepath\">Imports necessary files</a>\n",
      "</li><li><a href=\"#alpha\">Alpha Diversity</a>\n",
      "</li><li><a href=\"#beta\">Beta Diversity</a>\n",
      "</li><li><a href=\"#group\">Group Signifigance</a>\n",
      "</li><li><a href=\"#discussion\">Discussion</a>\n",
      "</li><li><a href=\"#refs\">References</a>\n",
      "</li></ul>\n",
      "\n",
      "We start by importing necessary functions, and determining if files should be overwritten."
     ]
    },
    {
     "cell_type": "code",
     "collapsed": false,
     "input": [
      "# File handling\n",
      "from os import remove, rename\n",
      "from os.path import abspath, isfile, exists, join as pjoin\n",
      "from shutil import move\n",
      "import numpy as np\n",
      "from matplotlib import rcParams\n",
      "import matplotlib.pylab as plt\n",
      "import pandas as pd\n",
      "from biom import load_table\n",
      "import skbio\n",
      "import statsmodels.api as sm\n",
      "import statsmodels.formula.api as smf\n",
      "from jwd_code.pandas_fun import (check_dir, \n",
      "                                 pad_index,\n",
      "                                 check_strs,\n",
      "                                 pretty_pandas_boxplot,\n",
      "                                 pretty_boxplot_split,\n",
      "                                 post_hoc_pandas,\n",
      "                                 make_duel_heatmaps,\n",
      "                                 split_taxa,\n",
      "                                 beta_diversity_bars)\n",
      "\n",
      "# Writes a file to save the json string tables\n",
      "def write_biom(table, fp):\n",
      "    \"\"\"Writes a biom table as a json string\"\"\"\n",
      "    file_ = open(fp, 'w')\n",
      "    file_.write(table.to_json(''))\n",
      "    file_.close()"
     ],
     "language": "python",
     "metadata": {},
     "outputs": [],
     "prompt_number": 4
    },
    {
     "cell_type": "markdown",
     "metadata": {},
     "source": [
      "We will also set up some plotting parameters so the generated figures use Helvetica or Arial as their default font."
     ]
    },
    {
     "cell_type": "code",
     "collapsed": false,
     "input": [
      "# Sets up plotting parameters so that the default setting is use to Helvetica\n",
      "# in plots\n",
      "rcParams['font.family'] = 'sans-serif'\n",
      "rcParams['font.sans-serif'] = ['Helvetica', 'Arial']\n",
      "rcParams['text.usetex'] = True"
     ],
     "language": "python",
     "metadata": {},
     "outputs": [],
     "prompt_number": 3
    },
    {
     "cell_type": "markdown",
     "metadata": {},
     "source": [
      "<a href=#top>Return to the top</a>\n",
      "\n",
      "<a id=\"parameters\"></a>\n",
      "#### Sets analysis parameters\n",
      "We can also set some necessary parameters for handling files and this analysis.\n",
      "\n",
      "<strong><code>overwrite</code></strong> indicates whether or not new files should be saved and downloaded if they are not otherwise avalaible. For a notebook which runs faster, <strong><code>overwrite</code></strong> should be set to <code><font color=\"green\">False</font></code>.\n",
      "\n",
      "###### Pandas file handling parameters\n",
      "* The <strong><code>txt_delim</code></strong> specifies the way columns are separated in the files. Qiime standards typically use text (.txt) files, which are separated by a tab-character (<code><font color=\"firebrick\">'\\t'</font></code>).\n",
      "* <strong><code>map_index</code></strong> specifies the name of the file containing the sample names. In Qiime, this is named <code>\u201c#SampleID\u201d</code>.\n",
      "* It is possible the mapping file may be missing values, as participants are free to skip any question, so possible missing values are given by <strong><code>map_nas</code></strong>.\n",
      "* <strong><code>write_na</code></strong> gives a value used when the files are written. Using an empty space, (<code><font color=\"firebrick\">''</font></code>), will cause certain Qiime scripts like <code>group_signifigance.py</code> will ignore the missing group.\n",
      "* <strong><code>date_cols</code></strong> tells pandas which columns to parse as time/date stamped during import.\n",
      "\n",
      "###### Categorical Parameters\n",
      "* <code><strong>category</strong></code> specifies the metadata category to be analyzed. These are typically ordered or categorical variables (i.e. <code>SLEEP_DURATION</code>, <code>AGE_CAT</code>, or <code>STATE</code>).\n",
      "* Since many varaibles used here are ordred, the relationship between the variables can be perserved using the <strong><code>c_order</code></strong> varaible.\n",
      "\n",
      "###### Alpha Diversity Parameters\n",
      "* <strong><code>a_div_metric</code></strong> selects the alpha diversity metric to use in analysis. Possible metrics are described in the <a href=\"\">Preprocessing Notebook</a>. The default metric, <font color=\"firebrick\"><code>PD_whole_tree_mean</code></font> uses the mean value from a phylogenetic metric calculated over 10 rarefactions.\n",
      "* The alpha diveristy results are typically plotted as a boxplot. The <code><strong>a_ylabel</strong></code> specifies how the y-axis of these boxplots should be labeled while <code><strong>a_ylim</strong></code> gives the limits for hte y-axis.\n",
      "\n",
      "###### Beta Diversity Parameters\n",
      "* <strong><code>ubd_ylabel</code></strong> and <strong><code>wbd_ylabel</code></strong> specify the ylabel for beta diveristy plots for the unweighted and weighted UniFrac distance plots.\n",
      "* The <strong><code>n_perm</code></strong> is the number of permutations to be run for the permanova analysis[cite needed]. Note that this limits the observable p-value.\n",
      "* For beta diveristy, the <strong><code>c_map</code></strong> specifies the colormap which should be used with the category."
     ]
    },
    {
     "cell_type": "code",
     "collapsed": false,
     "input": [
      "overwrite = False\n",
      "\n",
      "# Sets parameters for reading tables into pandas\n",
      "txt_delim = '\\t'\n",
      "map_index = '#SampleID'\n",
      "map_nas = ['NA', 'no_data', 'unknown', '']\n",
      "write_na = ''\n",
      "date_cols = [4, 42, 158, 134]\n",
      "\n",
      "# Categorical Parameters\n",
      "category = 'EXERCISE_FREQUENCY'\n",
      "c_order = ['Rarely', 'Occasionally', 'Regularly', 'Daily']\n",
      "\n",
      "# Alpha Diversity Parameters\n",
      "a_div_metric = 'PD_whole_tree_mean'\n",
      "a_ylabel = 'PD Whole Tree Mean'\n",
      "a_ylim = [10, 60]\n",
      "\n",
      "# Beta Diversity Parameters\n",
      "ubd_ylabel = 'Unweighted UniFrac Distance'\n",
      "wbd_ylabel = 'Weighted UniFrac Distance'\n",
      "n_perm = 999\n",
      "c_map = np.array([[166, 206, 227],\n",
      "                  [ 51, 160,  44],\n",
      "                  [227,  26,  28],\n",
      "                  [255, 127,   0]])/255."
     ],
     "language": "python",
     "metadata": {},
     "outputs": [],
     "prompt_number": 15
    },
    {
     "cell_type": "markdown",
     "metadata": {},
     "source": [
      "<a href=\"#top\">Return to the top</a>\n",
      "\n",
      "<a id=\"ifilepath\"></a>\n",
      "######Imports the files\n",
      "\n",
      "This points to the directories and files where analysis files are located. If the directories are not avaliable, they can be downloaded without processing. This notebook focuses on samples from the <a href=\"https://www.dropbox.com/s/c54ggzikun6rjcm/AG_1_10_fecal_subset.tgz\">American Gut rounds 1-14 healthy subset</a> and then <a href=\"https://www.dropbox.com/s/5ufd2v92i633q1i/AG_1_10_filtered_fecal_subset.tgz\">filtered American Gut rounds 1-14 healthy subset</a>. The data will be downloaded using cURL if the files cannot be found.\n",
      "\n",
      "The data is assumed to be saved in a directory called <font color=\"darkblue\">AGPanalysis</font> in the parent directory of the current directory. (It is assumed the filepath is located in the current, notebook directory). To change the location of these files, the <code>base_dir</code> can be changed to an alternative lcoation.\n",
      "\n",
      "We can begin by setting up directories to save the files which will be downloaded and handled here. The default setting is to perform the analysis in a new directory, <code>AGPanalysis</code> in the parent directory of the current directory (assumed to be the notebook directory).\n",
      "\n",
      "To change where data is saved, the <code>base_dir</code> should be set.\n",
      "\n",
      "The downloaded directory will contain all the necessary files, and filenames.\n",
      "\n",
      "This notebook will use files with the ending description <font color=\"firebrick\">\"_single\"</font>, denoting they have been filtered down to have only a single sample per indiviudal."
     ]
    },
    {
     "cell_type": "code",
     "collapsed": false,
     "input": [
      "# Sets up the base directory\n",
      "base_dir = pjoin(abspath('..'), 'agp_analysis_rounds_1_14')\n",
      "check_dir(base_dir)\n",
      "otu_dir = pjoin(base_dir, 'otu_tables')\n",
      "\n",
      "# Sets the directory where the files should be located\n",
      "fecal_dir = pjoin(otu_dir, 'fecal_samples')\n",
      "check_dir(fecal_dir)\n",
      "ass_dir = pjoin(fecal_dir, 'all_otus_subset_single_samples')\n",
      "check_dir(ass_dir)\n",
      "\n",
      "# Sets the subset filepath for all samples\n",
      "assr_otu_fp = pjoin(ass_dir, 'AGP_100nt_fecal_even10k.biom')\n",
      "assr_map_fp = pjoin(ass_dir, 'AGP_100nt_fecal_even10k.txt')\n",
      "assr_ubd_fp = pjoin(ass_dir, 'unweighted_unifrac_AGP_100nt_fecal_even10k.txt')\n",
      "assr_wbd_fp = pjoin(ass_dir, 'weighted_unifrac_AGP_100nt_fecal_even10k.txt')\n",
      "\n",
      "# Sets up filepath for saving the post-hoc beta diversity calculation\n",
      "bdiv_dir = pjoin(base_dir, 'beta_diversity')\n",
      "check_dir(bdiv_dir)\n",
      "assr_ubd_post_dir = pjoin(bdiv_dir, 'all_otus_single_subset_samples/unweighted')\n",
      "check_dir(assr_ubd_post_dir)\n",
      "assr_wbd_post_dir = pjoin(bdiv_dir, 'all_otus_single_subset_samples/weighted')\n",
      "check_dir(assr_wbd_post_dir)\n",
      "\n",
      "# Sets up filepath for saving the group signifigance results\n",
      "gsig_dir = pjoin(base_dir, 'group_signifigance')\n",
      "check_dir(gsig_dir)\n",
      "assr_gs_dir = pjoin(gsig_dir, 'all_otus_single_subset_samples')\n",
      "check_dir(assr_gs_dir)"
     ],
     "language": "python",
     "metadata": {},
     "outputs": [],
     "prompt_number": 6
    },
    {
     "cell_type": "markdown",
     "metadata": {},
     "source": [
      "Downloads the files if they are not already avaliable."
     ]
    },
    {
     "cell_type": "code",
     "collapsed": false,
     "input": [
      "# Gets data for single samples with all the OTUs\n",
      "if not exists(ass_dir) or overwrite:\n",
      "    # Downloads the files\n",
      "    !curl -OL https://www.dropbox.com/s/0jnxaubnocer9f8/all_otus_subset_single_samples.tgz\n",
      "    # Extracts the data\n",
      "    !tar -xzf all_otus_subset_single_samples.tgz\n",
      "    # Moves the data\n",
      "    remove(pjoin('.', 'all_otus_subset_single_samples.tgz'))\n",
      "    move(pjoin('.', 'all_otus_subset_single_samples'), fecal_dir)"
     ],
     "language": "python",
     "metadata": {},
     "outputs": [],
     "prompt_number": 7
    },
    {
     "cell_type": "markdown",
     "metadata": {},
     "source": [
      "Loads the data into the notebook for analysis."
     ]
    },
    {
     "cell_type": "code",
     "collapsed": false,
     "input": [
      "ass_otu = load_table(assr_otu_fp)\n",
      "ass_map = pad_index(pd.read_csv(assr_map_fp,\n",
      "                                sep=txt_delim, \n",
      "                                na_values=map_nas,\n",
      "                                parse_dates=date_cols),\n",
      "                    index_col=map_index)\n",
      "ass_ubd = skbio.DistanceMatrix.read(assr_ubd_fp)\n",
      "ass_wbd = skbio.DistanceMatrix.read(assr_wbd_fp)"
     ],
     "language": "python",
     "metadata": {},
     "outputs": [],
     "prompt_number": 8
    },
    {
     "cell_type": "markdown",
     "metadata": {},
     "source": [
      "<a href=\"#top\">Return to the top</a>\n",
      "\n",
      "<a id=\"alpha\"></a>\n",
      "##Alpha Diversity\n",
      "\n",
      "We'll start by looking at the influence of collection season on alpha diversity."
     ]
    },
    {
     "cell_type": "code",
     "collapsed": false,
     "input": [
      "alpha_cat_ax, alpha_cat_feat = \\\n",
      "    pretty_pandas_boxplot(ass_map, category, c_order, a_div_metric,\n",
      "                          boxplot_props={'ylabel': a_ylabel,\n",
      "                                          'ylims': a_ylim,\n",
      "                                          'title': category.replace('_', ' ').title(),\n",
      "                                          'hide_xticks': True})\n",
      "alpha_cat_post = post_hoc_pandas(ass_map, category, c_order, a_div_metric,\n",
      "                                 correct='fdr_bh')\n",
      "alpha_cat_post"
     ],
     "language": "python",
     "metadata": {},
     "outputs": [
      {
       "html": [
        "<div style=\"max-height:1000px;max-width:1500px;overflow:auto;\">\n",
        "<table border=\"1\" class=\"dataframe\">\n",
        "  <thead>\n",
        "    <tr style=\"text-align: right;\">\n",
        "      <th></th>\n",
        "      <th>Counts</th>\n",
        "      <th>Mean</th>\n",
        "      <th>Median</th>\n",
        "      <th>Stdv</th>\n",
        "      <th>Rarely</th>\n",
        "      <th>Occasionally</th>\n",
        "      <th>Regularly</th>\n",
        "    </tr>\n",
        "    <tr>\n",
        "      <th>EXERCISE_FREQUENCY</th>\n",
        "      <th></th>\n",
        "      <th></th>\n",
        "      <th></th>\n",
        "      <th></th>\n",
        "      <th></th>\n",
        "      <th></th>\n",
        "      <th></th>\n",
        "    </tr>\n",
        "  </thead>\n",
        "  <tbody>\n",
        "    <tr>\n",
        "      <th>Rarely</th>\n",
        "      <td>  84</td>\n",
        "      <td> 32.183199</td>\n",
        "      <td> 33.360663</td>\n",
        "      <td> 5.933820</td>\n",
        "      <td>      NaN</td>\n",
        "      <td>      NaN</td>\n",
        "      <td>NaN</td>\n",
        "    </tr>\n",
        "    <tr>\n",
        "      <th>Occasionally</th>\n",
        "      <td> 170</td>\n",
        "      <td> 33.112581</td>\n",
        "      <td> 33.882972</td>\n",
        "      <td> 5.775800</td>\n",
        "      <td> 1.000000</td>\n",
        "      <td>      NaN</td>\n",
        "      <td>NaN</td>\n",
        "    </tr>\n",
        "    <tr>\n",
        "      <th>Regularly</th>\n",
        "      <td> 352</td>\n",
        "      <td> 33.878069</td>\n",
        "      <td> 33.748182</td>\n",
        "      <td> 5.799456</td>\n",
        "      <td> 0.201066</td>\n",
        "      <td> 1.000000</td>\n",
        "      <td>NaN</td>\n",
        "    </tr>\n",
        "    <tr>\n",
        "      <th>Daily</th>\n",
        "      <td> 208</td>\n",
        "      <td> 34.644322</td>\n",
        "      <td> 34.472555</td>\n",
        "      <td> 5.808782</td>\n",
        "      <td> 0.036801</td>\n",
        "      <td> 0.303503</td>\n",
        "      <td>  1</td>\n",
        "    </tr>\n",
        "  </tbody>\n",
        "</table>\n",
        "</div>"
       ],
       "metadata": {},
       "output_type": "pyout",
       "prompt_number": 23,
       "text": [
        "                    Counts       Mean     Median      Stdv    Rarely  \\\n",
        "EXERCISE_FREQUENCY                                                     \n",
        "Rarely                  84  32.183199  33.360663  5.933820       NaN   \n",
        "Occasionally           170  33.112581  33.882972  5.775800  1.000000   \n",
        "Regularly              352  33.878069  33.748182  5.799456  0.201066   \n",
        "Daily                  208  34.644322  34.472555  5.808782  0.036801   \n",
        "\n",
        "                    Occasionally  Regularly  \n",
        "EXERCISE_FREQUENCY                           \n",
        "Rarely                       NaN        NaN  \n",
        "Occasionally                 NaN        NaN  \n",
        "Regularly               1.000000        NaN  \n",
        "Daily                   0.303503          1  "
       ]
      },
      {
       "metadata": {},
       "output_type": "display_data",
       "png": "[encoded data removed]",
       "text": [
        "<matplotlib.figure.Figure at 0x10eebbfd0>"
       ]
      }
     ],
     "prompt_number": 23
    },
    {
     "cell_type": "markdown",
     "metadata": {},
     "source": [
      "[More discussion of Alpha diversity and/or additional analyses]\n",
      "\n",
      "<a href=\"#top\">Return to the top</a>\n",
      "\n",
      "<a id=\"beta\"></a>\n",
      "##Beta Diversity\n",
      "\n",
      "We can also compare community structure over the seasons. We'll start by preforming a post-hoc between group comparison for the fields of interest, and then looking at unweighted UniFrac. Unweighted UniFrac distance considers the overlap of phylogenetic trees between two samples, based on presenance and absence of particular OTUs."
     ]
    },
    {
     "cell_type": "code",
     "collapsed": false,
     "input": [
      "# Performs post-hoc analysis comparing categories\n",
      "if not exists(pjoin(assr_ubd_post_dir, '%s_Stats.txt') % category) or overwrite:\n",
      "    !make_distance_boxplots.py -d $assr_ubd_fp -m $assr_map_fp -f $category -o $assr_ubd_post_dir --suppress_all_between --suppress_all_within\n",
      "\n",
      "# Loads the post-hoc table for category\n",
      "post_hoc_ubd = pd.read_csv(pjoin(assr_ubd_post_dir, '%s_Stats.txt') % category,\n",
      "                           sep=txt_delim,\n",
      "                           skiprows=5)\n",
      "\n",
      "# Plots the unweighted UniFrac\n",
      "ax_bdiv_cat, feats_bdiv_cat = beta_diversity_bars(ass_ubd, \n",
      "                                                  ass_map, \n",
      "                                                  category, \n",
      "                                                  c_order,\n",
      "                                                  'Winter', \n",
      "                                                  p_table=post_hoc_ubd,\n",
      "                                                  bar_props={'ylims': [0.45, 0.85],\n",
      "                                                             'colormap': c_map,\n",
      "                                                             'ylabel': ubd_ylabel,\n",
      "                                                             'title': 'Seasons'})\n",
      "# Formats the the plot to make it prettier\n",
      "ax_bdiv_cat.plot(np.arange(-0.25, 0.75, 0.01), \n",
      "                 np.array([0.4725, 0.4775]*50), 'k-',\n",
      "                 linewidth=7)\n",
      "ax_bdiv_cat.plot(np.arange(-0.25, 0.75, 0.01), \n",
      "                 np.array([0.4725, 0.4775]*50), 'w-',\n",
      "                 linewidth=3)\n",
      "yticklabels = ax_bdiv_cat.get_yticks()\n",
      "yticklabels[0] = 0\n",
      "ax_bdiv_cat.set_yticklabels(yticklabels, size=12)\n",
      "ax_bdiv_cat.set_position((0.125, 0.125, 0.5, 0.9))\n",
      "ax_bdiv_cat.spines['right'].set_visible(False)\n",
      "ax_bdiv_cat.spines['top'].set_visible(False)\n",
      "ax_bdiv_cat.yaxis.set_ticks_position('left')"
     ],
     "language": "python",
     "metadata": {},
     "outputs": [
      {
       "metadata": {},
       "output_type": "display_data",
       "png": "[encoded data removed]",
       "text": [
        "<matplotlib.figure.Figure at 0x115480710>"
       ]
      }
     ],
     "prompt_number": 35
    },
    {
     "cell_type": "markdown",
     "metadata": {},
     "source": [
      "We also see a signifigant difference in weighted UniFrac distance ...\n",
      "\n",
      "<a href=\"#top\">Return to the top</a>\n",
      "\n",
      "<a id=\"#group\"></a>\n",
      "##Group Signifigance\n",
      "\n",
      "We can also look for taxa or OTUs which are signifigantly different across the groups. We'll use two tests: the kruskal-wallis test, which is a rank-sum test and compare abundance, and the g-test, which is functionally simillar to the chi-square test and examines the presence/absence of taxa. We'll start by generating the appropriate files."
     ]
    },
    {
     "cell_type": "code",
     "collapsed": false,
     "input": [
      "# Sets up the order of the groups for testing\n",
      "h_order = ['%s_mean' %s for s in c_order]\n",
      "\n",
      "# Generates the group signifigance filepath for the kruskal wallis test\n",
      "gs_cat_kw_out = pjoin(assr_gs_dir, '%s_kw.txt' % category)\n",
      "# Generates the group signfigance filepath for hte g-test\n",
      "gs_cat_gt_out = pjoin(assr_gs_dir, '%s_gt.txt' % category)\n",
      "\n",
      "# Performs the appropriate tests\n",
      "if not exists(gs_cat_kw_out) or overwrite:\n",
      "    !group_significance.py -i $assr_otu_fp -m $assr_map_fp -c $category -o $gs_cat_kw_out -s kruskal_wallis\n",
      "if not exists(gs_cat_gt_out) or overwrite:\n",
      "    !group_significance.py -i $assr_otu_fp -m $assr_map_fp -c $category -o $gs_cat_gt_out -s g_test"
     ],
     "language": "python",
     "metadata": {},
     "outputs": [],
     "prompt_number": 26
    },
    {
     "cell_type": "code",
     "collapsed": false,
     "input": [
      "if exists(gs_cat_kw_out):\n",
      "    # Loads the group signifigance table\n",
      "    ass_cat_kw_table = pd.read_csv(gs_cat_kw_out, sep=txt_delim)\n",
      "    # Converts taxa to a pretty block\n",
      "    taxa, levels = split_taxa(ass_cat_kw_table.taxonomy.values, 7)\n",
      "    ass_cat_kw_table = ass_cat_kw_table.join(pd.DataFrame(taxa, \n",
      "                                                          columns=levels, \n",
      "                                                          index=ass_cat_kw_table.index))\n",
      "    # Checks there are signfigant OTUs\n",
      "    if True in ass_cat_kw_table.groupby(ass_cat_kw_table['Bonferroni_P'] < 0.05).groups:\n",
      "        # Orders the table with something like phylogeny (being able to show distance would be helpful)\n",
      "        ass_cat_kw_table = ass_cat_kw_table.sort(['phylum', 'p_class', 'p_order',\n",
      "                                                  'family', 'genus', 'species'])\n",
      "        # Adds a labeling column\n",
      "        ass_cat_kw_table['label'] = ass_cat_kw_table['genus'] + ' (' + \\\n",
      "            ass_cat_kw_table['OTU'].apply(lambda x: str(x)) + ')'\n",
      "        # Plots the heatmap\n",
      "        ass_cat_hm_feat, ass_cat_fig = \\\n",
      "            make_duel_heatmaps(ass_cat_kw_table,\n",
      "                               p_value='Bonferroni_P',\n",
      "                               order=h_order,\n",
      "                               label='label',\n",
      "                               clims2=[-2, 2],\n",
      "                               yfont_size=9,\n",
      "                               xfont_size=9)\n",
      "        ass_cat_fig.set_size_inches((7, 1))\n",
      "    else:\n",
      "        print 'There are no signifignatly different OTUs.'\n",
      "else:\n",
      "    print 'No kruskal-wallis results could be found'"
     ],
     "language": "python",
     "metadata": {},
     "outputs": [
      {
       "metadata": {},
       "output_type": "display_data",
       "png": "[encoded data removed]",
       "text": [
        "<matplotlib.figure.Figure at 0x110ed5ed0>"
       ]
      }
     ],
     "prompt_number": 32
    },
    {
     "cell_type": "code",
     "collapsed": false,
     "input": [
      "if exists(gs_cat_gt_out):\n",
      "    # Loads the group signifigance table\n",
      "    ass_cat_gt_table = pd.read_csv(gs_cat_gt_out, sep=txt_delim)\n",
      "    # Converts taxa to a pretty block\n",
      "    taxa, levels = split_taxa(ass_cat_gt_table.taxonomy.values, 7)\n",
      "    ass_cat_gt_table = ass_cat_gt_table.join(pd.DataFrame(taxa, \n",
      "                                                          columns=levels, \n",
      "                                                          index=ass_cat_gt_table.index))\n",
      "    # Checks there are signfigant OTUs\n",
      "    if True in ass_cat_gt_table.groupby(ass_cat_gt_table['Bonferroni_P'] < 0.05).groups:\n",
      "        # Orders the table with something like phylogeny (being able to show distance would be helpful)\n",
      "        ass_cat_gt_table = ass_cat_gt_table.sort(['phylum', 'p_class', 'p_order',\n",
      "                                                  'family', 'genus', 'species'])\n",
      "        # Adds a labeling column\n",
      "        ass_cat_gt_table['label'] = ass_cat_gt_table['genus'] + ' (' + \\\n",
      "            ass_cat_gt_table['OTU'].apply(lambda x: str(x)) + ')'\n",
      "        # Plots the heatmap\n",
      "        ass_cat_hm_feat, ass_cat_fig = \\\n",
      "            make_duel_heatmaps(ass_cat_gt_table,\n",
      "                               p_value='Bonferroni_P',\n",
      "                               order=h_order,\n",
      "                               label='label',\n",
      "                               clims2=[-2, 2],\n",
      "                               yfont_size=9)\n",
      "        ass_cat_fig.set_size_inches((12, 8))\n",
      "    else:\n",
      "        print 'There are no signifignatly different OTUs.'\n",
      "else:\n",
      "    print 'No g test results could be found'"
     ],
     "language": "python",
     "metadata": {},
     "outputs": [
      {
       "metadata": {},
       "output_type": "display_data",
       "png": "[encoded data removed]",
       "text": [
        "<matplotlib.figure.Figure at 0x1107c1750>"
       ]
      }
     ],
     "prompt_number": 27
    },
    {
     "cell_type": "markdown",
     "metadata": {},
     "source": [
      "We can also generate heatmaps, showing the OTUs identitifed as signifigant following Bonferroni corretion. The panel on the right reflects the absloute abudnance of hte OTUs. The table to the right shows the log ratio of these groups compared to the mean abundance across groups. The OTUs are grouped in a semi-phylogenetic manner."
     ]
    },
    {
     "cell_type": "markdown",
     "metadata": {},
     "source": [
      "... Text here describing the g test results...\n",
      "\n",
      "<a href=\"#top\">Return to the top</a>\n",
      "\n",
      "<a id=\"#discussion\"></a>\n",
      "##Discussion\n",
      "\n",
      "[Discussion text]\n",
      "\n",
      "<a href=\"#top\">Return to the top</a>\n",
      "\n",
      "<a id=\"#refs\"></a>\n",
      "###References\n",
      "*Suggest an un-numbered reference list, or in-text references*\n",
      "<ul><li>\n",
      "</li></ul>\n",
      "\n"
     ]
    },
    {
     "cell_type": "code",
     "collapsed": false,
     "input": [],
     "language": "python",
     "metadata": {},
     "outputs": []
    }
   ],
   "metadata": {}
  }
 ]
}