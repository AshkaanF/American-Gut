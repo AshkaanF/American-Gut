{
 "metadata": {
  "name": "",
  "signature": "sha256:54f7d79ca3b631f035eacbb40d7b85c35000e07ba218bfbac8052cd997fd8428"
 },
 "nbformat": 3,
 "nbformat_minor": 0,
 "worksheets": [
  {
   "cells": [
    {
     "cell_type": "markdown",
     "metadata": {},
     "source": [
      "<strong>License</strong>: BSD<br/>\n",
      "<strong>Copyright</strong>: Copyright The American Gut Project, 2014\n",
      "\n",
      "<a id=\"intro\"></a>\n",
      "# [Title]\n",
      "\n",
      "[text about data here... See google docs for up to date text in initial pull requests]"
     ]
    },
    {
     "cell_type": "markdown",
     "metadata": {},
     "source": [
      "<a href=\"#top\">Return to the Table of Contents</a>\n",
      "\n",
      "<a id=\"requirements\"></a>\n",
      "## Notebook Requirements\n",
      "* [Python 2.7.3](https://www.python.org/download/releases/2.7/)\n",
      "* [Qiime 1.9](https://www.qiime.org/install/install.html)\n",
      "* [Statsmodels 0.6.0](http://statsmodels.sourceforge.net)\n",
      "* [American Gut Python Library](https://github.com/biocore/American-Gut)\n",
      "* LaTeX. [LiveTex](http://www.tug.org/texlive/) offers one installation solution.\n",
      "\n",
      "<a id=\"top\"></a>\n",
      "##Table of contents\n",
      "<ul><li><a href=\"#intro\">Introduction</a>\n",
      "<ul><li>\n",
      "</li></ul>\n",
      "</li><li><a href=\"#requirements\">Notebook Requirements</a>\n",
      "</li><li><a href=\"#imports\">Function Import</a>\n",
      "</li><li><a href=\"#params\">Analysis parameters</a>\n",
      "<ul><li><a href=\"#params_save\">File Saving Parameters</a>\n",
      "</li><li><a href=\"#params_text\">Text File and Metadata Parameters</a>\n",
      "</li><li><a href=\"#params_cat\">Analysis Category Parameters</a>\n",
      "</li><li><a href=\"#params_alpha\">Alpha Diversity Parameters</a>\n",
      "</li><li><a href=\"#params_beta\">Beta Diversity Parameters</a>\n",
      "</li><li><a href=\"#params_gs\">Group Significance Parameters</a>\n",
      "</li><li><a href=\"#params_figs\">Plotting Parameters</a>\n",
      "</li></ul>\n",
      "</li><li><a href=\"#dir\">Files and Directories</a>\n",
      "<ul><li><a href=\"#dir_base\">Base Directory</a>\n",
      "</li><li><a href=\"#dir_data\">Sample Directory and Files</a>\n",
      "</li><li><a href=\"#dir_bdiv\">Beta Diversity Analsysis Directories and Files</a>\n",
      "</li><li><a href=\"#dir_gs\">Group Significance Analysis Directories and Files</a>\n",
      "</li><li><a href=\"#dir_image\">Image Directories and Files</a>\n",
      "</li></ul>\n",
      "</li><li><a href=\"#download\">Data Download</a>\n",
      "</li><li><a href=\"#alpha\">Alpha Diversity</a>\n",
      "</li><li><a href=\"#beta\">Beta Diversity</a>\n",
      "</li><li><a href=\"#group\">Group Significance</a>\n",
      "</li><li><a href=\"#discussion\">Discussion</a>\n",
      "</li><li><a href=\"#refs\">References</a>\n",
      "</li></ul>\n",
      "\n",
      "<a id=\"imports\"></a>\n",
      "##Imports Necessary Functions\n",
      "We start by importing necessary functions, and determining if files should be overwritten."
     ]
    },
    {
     "cell_type": "code",
     "collapsed": false,
     "input": [
      "import os\n",
      "import shutil\n",
      "\n",
      "import scipy\n",
      "import skbio\n",
      "import biom\n",
      "import numpy as np\n",
      "import pandas as pd\n",
      "import matplotlib.pylab as plt\n",
      "import americangut.diversity_analysis as div\n",
      "\n",
      "from matplotlib import rcParams"
     ],
     "language": "python",
     "metadata": {},
     "outputs": [],
     "prompt_number": 21
    },
    {
     "cell_type": "markdown",
     "metadata": {},
     "source": [
      "We will also set up some plotting parameters so the generated figures use Helvetica or Arial as their default font. For more on font properties, see the matplotlib documentation on [text objects](http://matplotlib.org/api/text_api.html?highlight=font#matplotlib.text.Text.set_fontproperties) and [rendering text with LaTex](http://matplotlib.org/users/pgf.html?highlight=font). We will also prompt the IPython notebook to display the images we generate live in the notebook."
     ]
    },
    {
     "cell_type": "code",
     "collapsed": false,
     "input": [
      "# Displays images inline\n",
      "%matplotlib inline\n",
      "\n",
      "# Sets up plotting parameters so that the default setting is use to \n",
      "# Helvetica in plots\n",
      "rcParams['font.family'] = 'sans-serif'\n",
      "rcParams['font.sans-serif'] = ['Helvetica', 'Arial']\n",
      "rcParams['text.usetex'] = True"
     ],
     "language": "python",
     "metadata": {},
     "outputs": [],
     "prompt_number": 2
    },
    {
     "cell_type": "markdown",
     "metadata": {},
     "source": [
      "<a href=#top>Return to the top</a>\n",
      "\n",
      "<a id=\"params\"></a>\n",
      "## Analysis Parameters\n",
      "[analysis_params]\n",
      "\n",
      "<a id=\"params_data\"></a>\n",
      "### Dataset Selection\n",
      "[dataset_params]"
     ]
    },
    {
     "cell_type": "code",
     "collapsed": false,
     "input": [
      "site = 'fecal'\n",
      "dataset = 'sub_participants_one_sample'"
     ],
     "language": "python",
     "metadata": {},
     "outputs": [],
     "prompt_number": 3
    },
    {
     "cell_type": "markdown",
     "metadata": {},
     "source": [
      "<a id=\"params_save\"></a>\n",
      "### File Saving Parameters\n",
      "[file save text]"
     ]
    },
    {
     "cell_type": "code",
     "collapsed": false,
     "input": [
      "overwrite = False\n",
      "save_images = True"
     ],
     "language": "python",
     "metadata": {},
     "outputs": [],
     "prompt_number": 4
    },
    {
     "cell_type": "markdown",
     "metadata": {},
     "source": [
      "<a href=\"#top\">Return to the top</a>\n",
      "\n",
      "<a id=\"params_text\"></a>\n",
      "### Text File and Metadata Parameters\n",
      "[text parameters text]"
     ]
    },
    {
     "cell_type": "code",
     "collapsed": false,
     "input": [
      "# Sets parameters for file handling and reading tables\n",
      "# into pandas\n",
      "txt_delim = '\\t'\n",
      "map_index = '#SampleID'\n",
      "map_nas = ['NA', 'no_data', 'unknown', '']\n",
      "write_na = ''\n",
      "date_cols = ['RUN_DATE', 'COLLECTION_DATE', 'BIRTH_DATE', 'SAMPLE_TIME']"
     ],
     "language": "python",
     "metadata": {},
     "outputs": [],
     "prompt_number": 5
    },
    {
     "cell_type": "markdown",
     "metadata": {},
     "source": [
      "<a href=\"#top\">Return to the top</a>\n",
      "\n",
      "<a id=\"params_cat\"></a>\n",
      "### Analysis Category Parameters\n",
      "[text parameters text]"
     ]
    },
    {
     "cell_type": "code",
     "collapsed": false,
     "input": [
      "# Categorical Parameters\n",
      "category = 'AGE_CAT'\n",
      "c_order = ['20s', '30s', '40s', '50s', '60s']"
     ],
     "language": "python",
     "metadata": {},
     "outputs": [],
     "prompt_number": 6
    },
    {
     "cell_type": "markdown",
     "metadata": {},
     "source": [
      "<a href=\"#top\">Return to the top</a>\n",
      "\n",
      "<a id=\"params_alpha\"></a>\n",
      "## Alpha Diversity Parameters\n",
      "[text parameters text]"
     ]
    },
    {
     "cell_type": "code",
     "collapsed": false,
     "input": [
      "# Alpha Diversity Parameters\n",
      "a_div_metric = 'PD_whole_tree_mean'\n",
      "a_ylabel = 'PD Whole Tree Mean'\n",
      "a_ylim = [5, 55]\n",
      "a_title = 'Age by Decade'\n",
      "a_correct = 'fdr_bh'"
     ],
     "language": "python",
     "metadata": {},
     "outputs": [],
     "prompt_number": 7
    },
    {
     "cell_type": "markdown",
     "metadata": {},
     "source": [
      "<a href=\"#top\">Return to the top</a>\n",
      "\n",
      "<a id=\"params_beta\"></a>\n",
      "## Beta Diversity Parameters\n",
      "[text parameters text]"
     ]
    },
    {
     "cell_type": "code",
     "collapsed": false,
     "input": [
      "# Beta Diversity Parameters\n",
      "b_div_metric = 'unweighted_unifrac'\n",
      "permanova_n_iter = 999\n",
      "post_n_iter = 999\n",
      "p_column = 'Nonparametric p-value'\n",
      "b_ref = '20s'\n",
      "bc_map = 'Blues'\n",
      "ubd_ylabel = 'Unweighted UniFrac Distance'\n",
      "b_title = 'Age by Decade'\n",
      "b_ylim = [0.55, 0.95]"
     ],
     "language": "python",
     "metadata": {},
     "outputs": [],
     "prompt_number": 8
    },
    {
     "cell_type": "markdown",
     "metadata": {},
     "source": [
      "<a href=\"#top\">Return to the top</a>\n",
      "\n",
      "<a id=\"params_gs\"></a>\n",
      "## Group Signifigance Parameters\n",
      "[text parameters text]"
     ]
    },
    {
     "cell_type": "code",
     "collapsed": false,
     "input": [
      "# Heatmap Parameters\n",
      "hm_cmap1 = 'Greens'\n",
      "hm_cmap2 = 'RdBu_r'\n",
      "hm_clims2 = [-3, 3]\n",
      "hm_xtick_size = 12\n",
      "hm_ytick_size = 10\n",
      "kw_crit=0.05\n",
      "gt_crit=0.001"
     ],
     "language": "python",
     "metadata": {},
     "outputs": [],
     "prompt_number": 45
    },
    {
     "cell_type": "markdown",
     "metadata": {},
     "source": [
      "<a href=\"#top\">Return to the top</a>\n",
      "\n",
      "<a id=\"params_figs\"></a>\n",
      "## Plotting Parameters\n",
      "[text parameters text]"
     ]
    },
    {
     "cell_type": "code",
     "collapsed": false,
     "input": [
      "xtick_angle = 0\n",
      "xtick_align = 'center'\n",
      "\n",
      "save_pad = 0.5\n",
      "save_bbox = 'tight'"
     ],
     "language": "python",
     "metadata": {},
     "outputs": [],
     "prompt_number": 10
    },
    {
     "cell_type": "markdown",
     "metadata": {},
     "source": [
      "<a href=\"#top\">Return to the top</a>\n",
      "\n",
      "<a id=\"dir\"></a>\n",
      "## Files and Directories\n",
      "\n",
      "[Base Import Text]\n",
      "<a id=\"dir_base\"></a>\n",
      "### Base Directory\n",
      "[base file text]"
     ]
    },
    {
     "cell_type": "code",
     "collapsed": false,
     "input": [
      "# Sets up the base directory\n",
      "# base_dir = pjoin(abspath('.'), 'agp_analysis')\n",
      "base_dir = '/Users/jwdebelius/Desktop/agp_analysis2'\n",
      "div.check_dir(base_dir)\n",
      "\n",
      "# Sets up data directory\n",
      "working_dir = os.path.join(base_dir, 'sample_data')\n",
      "div.check_dir(working_dir)\n",
      "\n",
      "# Sets up the analysis directory\n",
      "analysis_dir = os.path.join(base_dir, 'analysis_results')\n",
      "div.check_dir(analysis_dir)"
     ],
     "language": "python",
     "metadata": {},
     "outputs": [],
     "prompt_number": 11
    },
    {
     "cell_type": "markdown",
     "metadata": {},
     "source": [
      "<a href=\"#top\">Return to the top</a>\n",
      "<a id=\"dir_data\"></a>\n",
      "### Sample Directory and Files\n",
      "[OTU import text]"
     ]
    },
    {
     "cell_type": "code",
     "collapsed": false,
     "input": [
      "# Sets up OTU path directories\n",
      "site_dir = os.path.join(working_dir, site)\n",
      "div.check_dir(site_dir)\n",
      "\n",
      "data_dir = os.path.join(site_dir, dataset)\n",
      "\n",
      "# Sets the subset filepath for all samples\n",
      "data_otu_fp = os.path.join(data_dir, 'AGP_100nt_even10k_fecal.biom')\n",
      "data_map_fp = os.path.join(data_dir, 'AGP_100nt_even10k_fecal.txt')\n",
      "data_ubd_fp = os.path.join(data_dir, '%s_AGP_100nt_even10k_fecal.txt') % b_div_metric"
     ],
     "language": "python",
     "metadata": {},
     "outputs": [],
     "prompt_number": 12
    },
    {
     "cell_type": "markdown",
     "metadata": {},
     "source": [
      "<a href=\"#top\">Return to the top</a>\n",
      "<a id=\"dir_bdiv\"></a>\n",
      "### Beta Diversity Directories and Files\n",
      "[Beta diversity text]"
     ]
    },
    {
     "cell_type": "code",
     "collapsed": false,
     "input": [
      "bdiv_dir = os.path.join(analysis_dir, 'beta_diversity')\n",
      "div.check_dir(bdiv_dir)\n",
      "\n",
      "bdiv_site_dir = os.path.join(bdiv_dir, site)\n",
      "div.check_dir(bdiv_site_dir)\n",
      "\n",
      "data_bdiv_dir = os.path.join(bdiv_site_dir, dataset)\n",
      "div.check_dir(data_bdiv_dir)\n",
      "\n",
      "data_uud_post_dir = os.path.join(data_bdiv_dir, b_div_metric)\n",
      "div.check_dir(data_uud_post_dir)\n",
      "\n",
      "bdiv_post_fp = os.path.join(data_uud_post_dir, '%s_Stats.txt') % category"
     ],
     "language": "python",
     "metadata": {},
     "outputs": [],
     "prompt_number": 13
    },
    {
     "cell_type": "markdown",
     "metadata": {},
     "source": [
      "<a href=\"#top\">Return to the top</a>\n",
      "<a id=\"dir_gs\"></a>\n",
      "### Group Signifigance Directories and Files\n",
      "[gs directory text]"
     ]
    },
    {
     "cell_type": "code",
     "collapsed": false,
     "input": [
      "gs_dir = os.path.join(analysis_dir, 'group_signifigance')\n",
      "div.check_dir(gs_dir)\n",
      "\n",
      "gs_fecal_dir = os.path.join(gs_dir, site)\n",
      "div.check_dir(gs_fecal_dir)\n",
      "\n",
      "gs_data_dir = os.path.join(gs_fecal_dir, dataset)\n",
      "div.check_dir(gs_data_dir)\n",
      "\n",
      "gs_data_otu_dir = os.path.join(gs_data_dir, 'otus')\n",
      "div.check_dir(gs_data_otu_dir)\n",
      "\n",
      "kruskal_fp = os.path.join(gs_data_otu_dir, '%s_kw.txt') % category\n",
      "gtest_fp = os.path.join(gs_data_otu_dir, '%s_gt.txt') % category"
     ],
     "language": "python",
     "metadata": {},
     "outputs": [],
     "prompt_number": 14
    },
    {
     "cell_type": "markdown",
     "metadata": {},
     "source": [
      "<a href=\"#top\">Return to the top</a>\n",
      "<a id=\"dir_image\"></a>\n",
      "### Image Directories and Files\n",
      "[hi! text!]"
     ]
    },
    {
     "cell_type": "code",
     "collapsed": false,
     "input": [
      "image_dir = os.path.join(analysis_dir, 'images')\n",
      "div.check_dir(image_dir)\n",
      "\n",
      "site_image_dir = os.path.join(image_dir, site)\n",
      "div.check_dir(site_image_dir)\n",
      "\n",
      "data_image_dir = os.path.join(image_dir, dataset)\n",
      "div.check_dir(data_image_dir)\n",
      "\n",
      "image_pattern = os.path.join(data_image_dir, '%(div_metric)s_%(image_type)s_%s(category).png')"
     ],
     "language": "python",
     "metadata": {},
     "outputs": [],
     "prompt_number": 16
    },
    {
     "cell_type": "markdown",
     "metadata": {},
     "source": [
      "<a href=\"#top\">Return to the top</a>\n",
      "<a id=\"download\"></a>\n",
      "## Data Download\n",
      "[download text]"
     ]
    },
    {
     "cell_type": "code",
     "collapsed": false,
     "input": [
      "# Gets data for single samples with all the OTUs\n",
      "if not os.path.exists(data_dir) or overwrite:\n",
      "    # Downloads the files\n",
      "    !curl -OL https://www.dropbox.com/s/5gx2whigjhlcdhv/sub_participants_one_sample.tgz\n",
      "    # Extracts the data\n",
      "    !tar -xzf sub_participants_one_sample.tgz\n",
      "    # Moves the data\n",
      "    remove(pjoin('.', 'sub_participants_one_sample.tgz'))\n",
      "    move(pjoin('.', 'sub_participants_one_sample'), site_dir)"
     ],
     "language": "python",
     "metadata": {},
     "outputs": [],
     "prompt_number": 27
    },
    {
     "cell_type": "code",
     "collapsed": false,
     "input": [
      "# Loads the files into the notebook\n",
      "data_otu = biom.load_table(data_otu_fp)\n",
      "data_map = pd.read_csv(data_map_fp,\n",
      "                       sep=txt_delim, \n",
      "                       na_values=map_nas,\n",
      "                       parse_dates=date_cols,\n",
      "                       index_col=False)\n",
      "data_map.index = data_map[map_index]\n",
      "del data_map[map_index]\n",
      "data_ubd = skbio.DistanceMatrix.read(data_ubd_fp)"
     ],
     "language": "python",
     "metadata": {},
     "outputs": [],
     "prompt_number": 28
    },
    {
     "cell_type": "markdown",
     "metadata": {},
     "source": [
      "<a href=\"#top\">Return to the top</a>\n",
      "\n",
      "<a id=\"alpha\"></a>\n",
      "##Alpha Diversity\n",
      "\n",
      "[Alpha diversity text]"
     ]
    },
    {
     "cell_type": "code",
     "collapsed": false,
     "input": [
      "# Renders the boxplot\n",
      "alpha_age1_ax = div.pretty_pandas_boxplot(meta=data_map,\n",
      "                                          group=category, \n",
      "                                          order=c_order,\n",
      "                                          cat=a_div_metric,\n",
      "                                          ylabel=a_ylabel,\n",
      "                                          ylim=a_ylim,\n",
      "                                          title=a_title)\n",
      "# Displays the post-hoc table\n",
      "alpha_age1_post = div.post_hoc_pandas(meta=data_map,\n",
      "                                      group=category, \n",
      "                                      order=c_order,\n",
      "                                      cat=a_div_metric,\n",
      "                                      correct=a_correct)\n",
      "alpha_age1_post"
     ],
     "language": "python",
     "metadata": {},
     "outputs": [
      {
       "html": [
        "<div style=\"max-height:1000px;max-width:1500px;overflow:auto;\">\n",
        "<table border=\"1\" class=\"dataframe\">\n",
        "  <thead>\n",
        "    <tr style=\"text-align: right;\">\n",
        "      <th></th>\n",
        "      <th>Counts</th>\n",
        "      <th>Mean</th>\n",
        "      <th>Median</th>\n",
        "      <th>Stdv</th>\n",
        "      <th>20s</th>\n",
        "      <th>30s</th>\n",
        "      <th>40s</th>\n",
        "      <th>50s</th>\n",
        "    </tr>\n",
        "    <tr>\n",
        "      <th>AGE_CAT</th>\n",
        "      <th></th>\n",
        "      <th></th>\n",
        "      <th></th>\n",
        "      <th></th>\n",
        "      <th></th>\n",
        "      <th></th>\n",
        "      <th></th>\n",
        "      <th></th>\n",
        "    </tr>\n",
        "  </thead>\n",
        "  <tbody>\n",
        "    <tr>\n",
        "      <th>20s</th>\n",
        "      <td>  85</td>\n",
        "      <td> 32.288454</td>\n",
        "      <td> 32.230337</td>\n",
        "      <td> 6.032888</td>\n",
        "      <td>      NaN</td>\n",
        "      <td>      NaN</td>\n",
        "      <td>NaN</td>\n",
        "      <td>NaN</td>\n",
        "    </tr>\n",
        "    <tr>\n",
        "      <th>30s</th>\n",
        "      <td> 193</td>\n",
        "      <td> 33.150884</td>\n",
        "      <td> 33.037875</td>\n",
        "      <td> 5.819179</td>\n",
        "      <td> 1.000000</td>\n",
        "      <td>      NaN</td>\n",
        "      <td>NaN</td>\n",
        "      <td>NaN</td>\n",
        "    </tr>\n",
        "    <tr>\n",
        "      <th>40s</th>\n",
        "      <td> 197</td>\n",
        "      <td> 34.281175</td>\n",
        "      <td> 34.147376</td>\n",
        "      <td> 5.888196</td>\n",
        "      <td> 0.111190</td>\n",
        "      <td> 0.400346</td>\n",
        "      <td>NaN</td>\n",
        "      <td>NaN</td>\n",
        "    </tr>\n",
        "    <tr>\n",
        "      <th>50s</th>\n",
        "      <td> 199</td>\n",
        "      <td> 33.760899</td>\n",
        "      <td> 34.244398</td>\n",
        "      <td> 5.611256</td>\n",
        "      <td> 0.297562</td>\n",
        "      <td> 1.000000</td>\n",
        "      <td>  1</td>\n",
        "      <td>NaN</td>\n",
        "    </tr>\n",
        "    <tr>\n",
        "      <th>60s</th>\n",
        "      <td> 142</td>\n",
        "      <td> 34.676866</td>\n",
        "      <td> 34.926843</td>\n",
        "      <td> 5.933660</td>\n",
        "      <td> 0.050079</td>\n",
        "      <td> 0.186351</td>\n",
        "      <td>  1</td>\n",
        "      <td>  1</td>\n",
        "    </tr>\n",
        "  </tbody>\n",
        "</table>\n",
        "</div>"
       ],
       "metadata": {},
       "output_type": "pyout",
       "prompt_number": 31,
       "text": [
        "         Counts       Mean     Median      Stdv       20s       30s  40s  50s\n",
        "AGE_CAT                                                                      \n",
        "20s          85  32.288454  32.230337  6.032888       NaN       NaN  NaN  NaN\n",
        "30s         193  33.150884  33.037875  5.819179  1.000000       NaN  NaN  NaN\n",
        "40s         197  34.281175  34.147376  5.888196  0.111190  0.400346  NaN  NaN\n",
        "50s         199  33.760899  34.244398  5.611256  0.297562  1.000000    1  NaN\n",
        "60s         142  34.676866  34.926843  5.933660  0.050079  0.186351    1    1"
       ]
      },
      {
       "metadata": {},
       "output_type": "display_data",
       "png": "[encoded data removed]",
       "text": [
        "<matplotlib.figure.Figure at 0x10b5377d0>"
       ]
      }
     ],
     "prompt_number": 31
    },
    {
     "cell_type": "markdown",
     "metadata": {},
     "source": [
      "[Discussion of alpha alpha diversity]\n",
      "\n",
      "<a href=\"#top\">Return to the top</a>\n",
      "\n",
      "<a id=\"beta\"></a>\n",
      "##Beta Diversity\n",
      "[Beta diversity text]"
     ]
    },
    {
     "cell_type": "code",
     "collapsed": false,
     "input": [
      "# Performs post-hoc analysis comparing categories\n",
      "if not os.path.exists(bdiv_post_fp) or overwrite:\n",
      "    !make_distance_boxplots.py -d $data_ubd_fp -m $data_map_fp -f $category -o $data_uud_post_dir --suppress_all_between --suppress_all_within -n $num_post_iter\n",
      "\n",
      "# Loads the post-hoc table for category\n",
      "post_hoc_ubd = pd.read_csv(bdiv_post_fp,\n",
      "                           sep=txt_delim,\n",
      "                           skiprows=7)\n",
      "# Plots the unweighted UniFrac\n",
      "ax_bdiv_cat = div.beta_diversity_bars(data_ubd, data_map, category, \n",
      "                                      order=c_order, \n",
      "                                      ref_group=b_ref,\n",
      "                                      num_iter=permanova_n_iter,\n",
      "                                      p_table=post_hoc_ubd,\n",
      "                                      p_tab_col=p_column,\n",
      "                                      ylim=b_ylim,\n",
      "                                      colormap=bc_map,\n",
      "                                      ylabel=ubd_ylabel,\n",
      "                                      title=b_title)"
     ],
     "language": "python",
     "metadata": {},
     "outputs": [
      {
       "metadata": {},
       "output_type": "display_data",
       "png": "[encoded data removed]",
       "text": [
        "<matplotlib.figure.Figure at 0x10d5adf50>"
       ]
      }
     ],
     "prompt_number": 37
    },
    {
     "cell_type": "markdown",
     "metadata": {},
     "source": [
      "[Beta Diveristy Discussion]\n",
      "\n",
      "<a href=\"#top\">Return to the top</a>\n",
      "\n",
      "<a id=\"#group\"></a>\n",
      "##Group Signifigance\n",
      "[Group Signifigance data]"
     ]
    },
    {
     "cell_type": "code",
     "collapsed": false,
     "input": [
      "# Sets up the order of the groups for testing\n",
      "h_order = ['%s_mean' %s for s in c_order]\n",
      "\n",
      "# Performs the appropriate tests\n",
      "if not os.path.exists(kruskal_fp) or overwrite:\n",
      "    !group_significance.py -i $data_otu_fp -m $data_map_fp -c $category -o $kruskal_fp -s kruskal_wallis\n",
      "if not os.path.exists(gtest_fp) or overwrite:\n",
      "    !group_significance.py -i $data_otu_fp -m $data_map_fp -c $category -o $gtest_fp -s g_test\n",
      "\n",
      "# Plots the kruskal wallis heatmap\n",
      "if os.path.exists(kruskal_fp):\n",
      "    kw_table = pd.read_csv(kruskal_fp, sep=txt_delim)\n",
      "    [data_hm1_kw_ax, data_hm2_kw_ax], kw_feats = \\\n",
      "        div.make_dual_heatmaps(kw_table, \n",
      "                               h_order, \n",
      "                               cmap1=hm_cmap1, \n",
      "                               cmap2=hm_cmap2, \n",
      "                               clims2=hm_clims2, \n",
      "                               xtick_size=hm_xtick_size, \n",
      "                               ytick_size=hm_ytick_size,\n",
      "                               p_crit=kw_crit)"
     ],
     "language": "python",
     "metadata": {},
     "outputs": [
      {
       "metadata": {},
       "output_type": "display_data",
       "png": "[encoded data removed]",
       "text": [
        "<matplotlib.figure.Figure at 0x10d5167d0>"
       ]
      }
     ],
     "prompt_number": 41
    },
    {
     "cell_type": "markdown",
     "metadata": {},
     "source": [
      "[kruskal wallis discussion text]"
     ]
    },
    {
     "cell_type": "code",
     "collapsed": false,
     "input": [
      "if os.path.exists(gtest_fp):\n",
      "    gt_table = pd.read_csv(gtest_fp, sep=txt_delim)\n",
      "    [data_hm1_gt_ax, data_cat_hm2_gt_ax], data_cat_gt_feats = \\\n",
      "        div.make_dual_heatmaps(gt_table, \n",
      "                               h_order, \n",
      "                               cmap1=hm_cmap1, \n",
      "                               cmap2=hm_cmap2, \n",
      "                               clims2=hm_clims2, \n",
      "                               xtick_size=hm_xtick_size, \n",
      "                               ytick_size=hm_ytick_size,\n",
      "                               p_crit=gt_crit)"
     ],
     "language": "python",
     "metadata": {},
     "outputs": [
      {
       "metadata": {},
       "output_type": "display_data",
       "png": "[encoded data removed]",
       "text": [
        "<matplotlib.figure.Figure at 0x10e925e90>"
       ]
      }
     ],
     "prompt_number": 44
    },
    {
     "cell_type": "markdown",
     "metadata": {},
     "source": [
      "[g test discussion text]\n",
      "\n",
      "[Group signifigance discussion text]\n",
      "\n",
      "<a href=\"#top\">Return to the top</a>\n",
      "\n",
      "<a id=\"#discussion\"></a>\n",
      "##Discussion\n",
      "\n",
      "[Discussion text]\n",
      "\n",
      "<a href=\"#top\">Return to the top</a>\n",
      "\n",
      "<a id=\"#refs\"></a>\n",
      "## References\n",
      "*Suggest an un-numbered reference list, or in-text references*\n",
      "<ul><li>\n",
      "</li></ul>\n",
      "\n"
     ]
    },
    {
     "cell_type": "code",
     "collapsed": false,
     "input": [],
     "language": "python",
     "metadata": {},
     "outputs": []
    }
   ],
   "metadata": {}
  }
 ]
}