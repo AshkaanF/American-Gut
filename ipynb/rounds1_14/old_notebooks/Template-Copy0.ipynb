{
 "metadata": {
  "name": "",
  "signature": "sha256:4e76580fbfdd55315ffad384e1bef399b5d8a1e5a5f7675b726dadf8d4af22b8"
 },
 "nbformat": 3,
 "nbformat_minor": 0,
 "worksheets": [
  {
   "cells": [
    {
     "cell_type": "markdown",
     "metadata": {},
     "source": [
      "<strong>American Gut Project</strong><br/>\n",
      "<strong>Notebook</strong>: [Notebook Title]<br/>\n",
      "<strong>License</strong>: BSD<br/>\n",
      "<strong>Author of this notebook</strong>: J W Debelius<br/>\n",
      "<strong>Notebook created</strong>: January 2015<br />\n",
      "<strong>Last Update</strong> January 2015<br/>"
     ]
    },
    {
     "cell_type": "markdown",
     "metadata": {},
     "source": [
      "<a id=\"#intro\"></a>\n",
      "# [Title]\n",
      "\n",
      "[text about data here... See google docs for up to date text in initial pull requests]\n",
      "\n",
      "## Notebook Requirements\n",
      "[Various Notebook requirements... probably Qiime, Python, IPython, pandas, and statsmodels...]\n",
      "\n",
      "<a id=\"top\"></a>\n",
      "##Table of contents\n",
      "<ul><li><a href=\"#intro\">Introduction</a>\n",
      "</li><li><a href=\"#imports\">Function Import</a>\n",
      "</li><li><a href=\"#parameters\">Analysis parameters</a>\n",
      "<ul><li>Text file and metadata handling parameters\n",
      "</li><li>Alpha Diversity Parameters\n",
      "</li><li>Beta Diversity Parameters\n",
      "</li><li>Signifigant OTU Parameters\n",
      "</li></ul>\n",
      "</li><li><a href=\"#ifilepath\">File Import</a>\n",
      "</li><li><a href=\"#alpha\">Alpha Diversity</a>\n",
      "</li><li><a href=\"#beta\">Beta Diversity</a>\n",
      "</li><li><a href=\"#group\">Group Signifigance</a>\n",
      "</li><li><a href=\"#discussion\">Discussion</a>\n",
      "</li><li><a href=\"#refs\">References</a>\n",
      "</li></ul>\n",
      "\n",
      "<a id=\"imports\"></a>\n",
      "####Imports Necessary Functions\n",
      "We start by importing necessary functions, and determining if files should be overwritten.\n",
      "\n"
     ]
    },
    {
     "cell_type": "code",
     "collapsed": false,
     "input": [
      "import numpy as np\n",
      "import matplotlib.pylab as plt\n",
      "import pandas as pd\n",
      "import skbio\n",
      "\n",
      "from os import remove, rename\n",
      "from os.path import abspath, isfile, exists, join as pjoin\n",
      "from shutil import move\n",
      "\n",
      "from matplotlib import rcParams\n",
      "from biom import load_table\n",
      "from americangut.diversity_analysis import(check_dir,\n",
      "                                           pad_index,\n",
      "                                           pretty_pandas_boxplot,\n",
      "                                           post_hoc_pandas,\n",
      "                                           make_dual_heatmaps,\n",
      "                                           beta_diversity_bars)"
     ],
     "language": "python",
     "metadata": {},
     "outputs": [
      {
       "output_type": "stream",
       "stream": "stderr",
       "text": [
        "/Users/jwdebelius/.virtualenvs/qiime-19/lib/python2.7/site-packages/matplotlib/__init__.py:1312: UserWarning:  This call to matplotlib.use() has no effect\n",
        "because the backend has already been chosen;\n",
        "matplotlib.use() must be called *before* pylab, matplotlib.pyplot,\n",
        "or matplotlib.backends is imported for the first time.\n",
        "\n",
        "  warnings.warn(_use_error_msg)\n"
       ]
      }
     ],
     "prompt_number": 1
    },
    {
     "cell_type": "code",
     "collapsed": false,
     "input": [
      "%matplotlib inline"
     ],
     "language": "python",
     "metadata": {},
     "outputs": [],
     "prompt_number": 2
    },
    {
     "cell_type": "markdown",
     "metadata": {},
     "source": [
      "We will also set up some plotting parameters so the generated figures use Helvetica or Arial as their default font."
     ]
    },
    {
     "cell_type": "code",
     "collapsed": false,
     "input": [
      "# Sets up plotting parameters so that the default setting is use to Helvetica\n",
      "# in plots\n",
      "rcParams['font.family'] = 'sans-serif'\n",
      "rcParams['font.sans-serif'] = ['Helvetica', 'Arial']\n",
      "rcParams['text.usetex'] = True"
     ],
     "language": "python",
     "metadata": {},
     "outputs": [],
     "prompt_number": 3
    },
    {
     "cell_type": "markdown",
     "metadata": {},
     "source": [
      "<a href=#top>Return to the top</a>\n",
      "\n",
      "<a id=\"parameters\"></a>\n",
      "## Analysis Parameters\n",
      "[Description of parameters]"
     ]
    },
    {
     "cell_type": "code",
     "collapsed": false,
     "input": [],
     "language": "python",
     "metadata": {},
     "outputs": [],
     "prompt_number": 3
    },
    {
     "cell_type": "markdown",
     "metadata": {},
     "source": [
      "[Text Parameters]"
     ]
    },
    {
     "cell_type": "code",
     "collapsed": false,
     "input": [
      "# Sets parameters for file handling and reading tables\n",
      "# into pandas\n",
      "overwrite = False\n",
      "txt_delim = '\\t'\n",
      "map_index = '#SampleID'\n",
      "map_nas = ['NA', 'no_data', 'unknown', '']\n",
      "write_na = ''\n",
      "date_cols = [4, 42, 158, 134]"
     ],
     "language": "python",
     "metadata": {},
     "outputs": [],
     "prompt_number": 27
    },
    {
     "cell_type": "markdown",
     "metadata": {},
     "source": [
      "[Categorical Parameters]"
     ]
    },
    {
     "cell_type": "code",
     "collapsed": false,
     "input": [
      "# Categorical Parameters\n",
      "category = 'STATE'\n",
      "c_order = ['NY', 'CA']\n",
      "xtick_angle = 0\n",
      "xtick_align = 'center'"
     ],
     "language": "python",
     "metadata": {},
     "outputs": [],
     "prompt_number": 31
    },
    {
     "cell_type": "markdown",
     "metadata": {},
     "source": [
      "[Alpha Diveristy Parameters]"
     ]
    },
    {
     "cell_type": "code",
     "collapsed": false,
     "input": [
      "# Alpha Diversity Parameters\n",
      "a_div_metric = 'PD_whole_tree_mean'\n",
      "a_ylabel = 'PD Whole Tree Mean'\n",
      "a_ylim = [5, 55]\n",
      "a_title = 'Age by Decade'\n",
      "a_correct = 'fdr_bh'"
     ],
     "language": "python",
     "metadata": {},
     "outputs": [],
     "prompt_number": 5
    },
    {
     "cell_type": "markdown",
     "metadata": {},
     "source": [
      "[Beta Diversity Parametres]"
     ]
    },
    {
     "cell_type": "code",
     "collapsed": false,
     "input": [
      "# Beta Diversity Parameters\n",
      "permanova_n_iter = 999\n",
      "post_n_iter = 999\n",
      "p_column = 'Nonparametric p-value'\n",
      "b_ref = '20s'\n",
      "bc_map = 'Blues'\n",
      "ubd_ylabel = 'Unweighted UniFrac Distance'\n",
      "b_title = 'Age by Decade'\n",
      "b_ylim = [0.55, 0.95]"
     ],
     "language": "python",
     "metadata": {},
     "outputs": [],
     "prompt_number": 6
    },
    {
     "cell_type": "markdown",
     "metadata": {},
     "source": [
      "[Heatmap Parameters]"
     ]
    },
    {
     "cell_type": "code",
     "collapsed": false,
     "input": [
      "# Heatmap Parameters\n",
      "hm_cmap1 = 'Greens'\n",
      "hm_cmap2 = 'RdBu_r'\n",
      "hm_clims2 = [-3, 3]\n",
      "hm_xtick_size = 12\n",
      "hm_ytick_size = 10"
     ],
     "language": "python",
     "metadata": {},
     "outputs": [],
     "prompt_number": 7
    },
    {
     "cell_type": "markdown",
     "metadata": {},
     "source": [
      "<a href=\"#top\">Return to the top</a>\n",
      "\n",
      "<a id=\"ifilepath\"></a>\n",
      "#### File Import\n",
      "\n",
      "[Base Import Text]"
     ]
    },
    {
     "cell_type": "code",
     "collapsed": false,
     "input": [
      "# Sets up the base directory\n",
      "# base_dir = pjoin(abspath('.'), 'agp_analysis')\n",
      "base_dir = pjoin('/Users/jwdebelius/Desktop/', 'agp_analysis2')\n",
      "check_dir(base_dir)"
     ],
     "language": "python",
     "metadata": {},
     "outputs": [],
     "prompt_number": 17
    },
    {
     "cell_type": "markdown",
     "metadata": {},
     "source": [
      "[OTU import text]"
     ]
    },
    {
     "cell_type": "code",
     "collapsed": false,
     "input": [
      "# Sets up OTU path directories\n",
      "otu_dir = pjoin(base_dir, 'sample_data')\n",
      "check_dir(otu_dir)\n",
      "fecal_dir = pjoin(otu_dir, 'fecal')\n",
      "check_dir(fecal_dir)\n",
      "all_dir = pjoin(fecal_dir, 'all_participants_one_sample')\n",
      "check_dir(all_dir)\n",
      "\n",
      "# Sets the subset filepath for all samples\n",
      "all_otu_fp = pjoin(all_dir, 'AGP_100nt_even10k_fecal.biom')\n",
      "all_map_fp = pjoin(all_dir, 'AGP_100nt_even10k_fecal.txt')\n",
      "all_ubd_fp = pjoin(all_dir, 'unweighted_unifrac_AGP_100nt_even10k_fecal.txt')"
     ],
     "language": "python",
     "metadata": {},
     "outputs": [],
     "prompt_number": 24
    },
    {
     "cell_type": "markdown",
     "metadata": {},
     "source": [
      "[Beta diversity text]"
     ]
    },
    {
     "cell_type": "code",
     "collapsed": false,
     "input": [
      "# Sets up filepath for saving the post-hoc beta diversity calculation\n",
      "bdiv_dir = pjoin(base_dir, 'beta_diversity')\n",
      "check_dir(bdiv_dir)\n",
      "assr_bdiv_dir = pjoin(bdiv_dir, 'all_otus_single_subset_samples')\n",
      "check_dir(assr_bdiv_dir)\n",
      "assr_ubd_post_dir = pjoin(assr_bdiv_dir, 'unweighted')\n",
      "check_dir(assr_ubd_post_dir)\n",
      "\n",
      "# Sets up filepath for saving the group signifigance results\n",
      "gsig_dir = pjoin(base_dir, 'group_signifigance')\n",
      "check_dir(gsig_dir)\n",
      "assr_gsig_dir = pjoin(gsig_dir, 'all_otus_single_subset_samples')\n",
      "check_dir(assr_gsig_dir)\n",
      "assr_otu_gs_dir = pjoin(gsig_dir, 'otus')"
     ],
     "language": "python",
     "metadata": {},
     "outputs": [],
     "prompt_number": 25
    },
    {
     "cell_type": "markdown",
     "metadata": {},
     "source": [
      "[Download text]"
     ]
    },
    {
     "cell_type": "code",
     "collapsed": false,
     "input": [
      "# # Gets data for single samples with all the OTUs\n",
      "# if not exists(all_otu_fp) or not exists(all_map_fp) or overwrite:\n",
      "#     # Downloads the files\n",
      "#     !curl -OL https://www.dropbox.com/s/6p5f8m5vlre9fsj/all_otus_subset_single_samples.tgz\n",
      "#     # Extracts the data\n",
      "#     !tar -xzf all_otus_subset_single_samples.tgz\n",
      "#     # Moves the data\n",
      "#     remove(pjoin('.', 'all_otus_subset_single_samples.tgz'))\n",
      "#     move(pjoin('.', 'all_otus_subset_single_samples'), fecal_dir)\n",
      "\n",
      "# Loads the files into the notebook\n",
      "data_otu = load_table(all_otu_fp)\n",
      "data_map = pad_index(pd.read_csv(all_map_fp,\n",
      "                                sep=txt_delim, \n",
      "                                na_values=map_nas,\n",
      "                                parse_dates=date_cols),\n",
      "                    index_col=map_index)\n",
      "data_ubd = skbio.DistanceMatrix.read(all_ubd_fp)"
     ],
     "language": "python",
     "metadata": {},
     "outputs": [],
     "prompt_number": 28
    },
    {
     "cell_type": "markdown",
     "metadata": {},
     "source": [
      "<a href=\"#top\">Return to the top</a>\n",
      "\n",
      "<a id=\"alpha\"></a>\n",
      "##Alpha Diversity\n",
      "\n",
      "[Alpha diversity text]"
     ]
    },
    {
     "cell_type": "code",
     "collapsed": false,
     "input": [],
     "language": "python",
     "metadata": {},
     "outputs": []
    },
    {
     "cell_type": "code",
     "collapsed": false,
     "input": [
      "# Renders the boxplot\n",
      "alpha_age1_ax = pretty_pandas_boxplot(meta=data_map,\n",
      "                                      group=category, \n",
      "                                      order=c_order,\n",
      "                                      cat=a_div_metric,\n",
      "                                      ylabel=a_ylabel,\n",
      "                                      ylim=a_ylim,\n",
      "                                      title=a_title)\n",
      "# Displays the post-hoc table\n",
      "alpha_age1_post = post_hoc_pandas(meta=data_map,\n",
      "                                  group=category, \n",
      "                                  order=c_order,\n",
      "                                  cat=a_div_metric,\n",
      "                                  correct=a_correct)\n",
      "alpha_age1_post"
     ],
     "language": "python",
     "metadata": {},
     "outputs": [
      {
       "html": [
        "<div style=\"max-height:1000px;max-width:1500px;overflow:auto;\">\n",
        "<table border=\"1\" class=\"dataframe\">\n",
        "  <thead>\n",
        "    <tr style=\"text-align: right;\">\n",
        "      <th></th>\n",
        "      <th>Counts</th>\n",
        "      <th>Mean</th>\n",
        "      <th>Median</th>\n",
        "      <th>Stdv</th>\n",
        "      <th>NY</th>\n",
        "    </tr>\n",
        "    <tr>\n",
        "      <th>STATE</th>\n",
        "      <th></th>\n",
        "      <th></th>\n",
        "      <th></th>\n",
        "      <th></th>\n",
        "      <th></th>\n",
        "    </tr>\n",
        "  </thead>\n",
        "  <tbody>\n",
        "    <tr>\n",
        "      <th>NY</th>\n",
        "      <td> 121</td>\n",
        "      <td> 31.907534</td>\n",
        "      <td> 32.613900</td>\n",
        "      <td> 6.682022</td>\n",
        "      <td>      NaN</td>\n",
        "    </tr>\n",
        "    <tr>\n",
        "      <th>CA</th>\n",
        "      <td> 365</td>\n",
        "      <td> 32.837166</td>\n",
        "      <td> 33.259925</td>\n",
        "      <td> 6.438450</td>\n",
        "      <td> 0.237488</td>\n",
        "    </tr>\n",
        "  </tbody>\n",
        "</table>\n",
        "</div>"
       ],
       "metadata": {},
       "output_type": "pyout",
       "prompt_number": 33,
       "text": [
        "       Counts       Mean     Median      Stdv        NY\n",
        "STATE                                                  \n",
        "NY        121  31.907534  32.613900  6.682022       NaN\n",
        "CA        365  32.837166  33.259925  6.438450  0.237488"
       ]
      },
      {
       "metadata": {},
       "output_type": "display_data",
       "png": "[encoded data removed]",
       "text": [
        "<matplotlib.figure.Figure at 0x10c76fa90>"
       ]
      }
     ],
     "prompt_number": 33
    },
    {
     "cell_type": "markdown",
     "metadata": {},
     "source": [
      "[Discussion of alpha alpha diversity]\n",
      "\n",
      "<a href=\"#top\">Return to the top</a>\n",
      "\n",
      "<a id=\"beta\"></a>\n",
      "##Beta Diversity\n",
      "[Beta diversity text]"
     ]
    },
    {
     "cell_type": "code",
     "collapsed": false,
     "input": [
      "# # Performs post-hoc analysis comparing categories\n",
      "# if not exists(pjoin(assr_ubd_post_dir, '%s_Stats.txt') % category) or overwrite:\n",
      "#     !make_distance_boxplots.py -d $assr_ubd_fp -m $assr_map_fp -f $category -o $assr_ubd_post_dir --suppress_all_between --suppress_all_within -n $num_post_iter\n",
      "\n",
      "# # Loads the post-hoc table for category\n",
      "# post_hoc_ubd = pd.read_csv(pjoin(assr_ubd_post_dir, '%s_Stats.txt') % category,\n",
      "#                            sep=txt_delim,\n",
      "#                            skiprows=7)\n",
      "# Plots the unweighted UniFrac\n",
      "ax_bdiv_cat = beta_diversity_bars(ass_ubd, ass_map, category, c_order, b_ref,\n",
      "                                  num_iter=permanova_n_iter,\n",
      "#                                   p_table=post_hoc_ubd,\n",
      "                                  p_tab_col=p_column,\n",
      "                                  ylim=b_ylim,\n",
      "                                  colormap=bc_map,\n",
      "                                  ylabel=ubd_ylabel,\n",
      "                                  title=b_title)"
     ],
     "language": "python",
     "metadata": {},
     "outputs": [
      {
       "metadata": {},
       "output_type": "display_data",
       "png": "[encoded data removed]",
       "text": [
        "<matplotlib.figure.Figure at 0x10ec8b0d0>"
       ]
      }
     ],
     "prompt_number": 23
    },
    {
     "cell_type": "markdown",
     "metadata": {},
     "source": [
      "[Beta Diveristy Discussion]\n",
      "\n",
      "<a href=\"#top\">Return to the top</a>\n",
      "\n",
      "<a id=\"#group\"></a>\n",
      "##Group Signifigance\n",
      "[Group Signifigance data]"
     ]
    },
    {
     "cell_type": "code",
     "collapsed": false,
     "input": [
      "# Sets up the order of the groups for testing\n",
      "h_order = ['%s_mean' %s for s in c_order]\n",
      "\n",
      "# Generates the group signifigance filepath for the kruskal wallis test\n",
      "gs_ass_cat_kw_out = pjoin(assr_gs_dir, '%s_kw.txt' % category)\n",
      "\n",
      "# Generates the group signfigance filepath for hte g-test\n",
      "gs_ass_cat_gt_out = pjoin(assr_gs_dir, '%s_gt.txt' % category)\n",
      "\n",
      "# Performs the appropriate tests\n",
      "if not exists(gs_ass_cat_kw_out) or overwrite:\n",
      "    !group_significance.py -i $assr_otu_fp -m $assr_map_fp -c $category -o $gs_ass_cat_kw_out -s kruskal_wallis\n",
      "if not exists(gs_ass_cat_gt_out) or overwrite:\n",
      "    !group_significance.py -i $assr_otu_fp -m $assr_map_fp -c $category -o $gs_ass_cat_gt_out -s g_test\n",
      "\n",
      "# Plots the kruskal wallis heatmap\n",
      "if exists(gs_ass_cat_kw_out):\n",
      "    ass_cat_kw_table = pd.read_csv(gs_ass_cat_kw_out, sep=txt_delim)\n",
      "    [ass_cat_hm1_kw_ax, ass_cat_hm2_kw_ax], ass_cat_kw_feats = \\\n",
      "        make_dual_heatmaps(ass_cat_kw_table, h_order, \n",
      "                           cmap1=hm_cmap1, cmap2=hm_cmap2, clims2=hm_clims2, \n",
      "                           xtick_size=hm_xtick_size, ytick_size=hm_ytick_size)"
     ],
     "language": "python",
     "metadata": {},
     "outputs": [
      {
       "metadata": {},
       "output_type": "display_data",
       "png": "[encoded data removed]",
       "text": [
        "<matplotlib.figure.Figure at 0x10f585bd0>"
       ]
      }
     ],
     "prompt_number": 43
    },
    {
     "cell_type": "markdown",
     "metadata": {},
     "source": [
      "[kruskal wallis discussion text]"
     ]
    },
    {
     "cell_type": "code",
     "collapsed": false,
     "input": [
      "if exists(gs_ass_cat_gt_out):\n",
      "    ass_cat_gt_table = pd.read_csv(gs_ass_cat_gt_out, sep=txt_delim)\n",
      "    [ass_cat_hm1_gt_ax, ass_cat_hm2_gt_ax], ass_cat_gt_feats = \\\n",
      "        make_dual_heatmaps(ass_cat_gt_table, h_order, \n",
      "                           cmap1=hm_cmap1, cmap2=hm_cmap2, clims2=hm_clims2, \n",
      "                           xtick_size=hm_xtick_size, ytick_size=hm_ytick_size)"
     ],
     "language": "python",
     "metadata": {},
     "outputs": [
      {
       "metadata": {},
       "output_type": "display_data",
       "png": "[encoded data removed]",
       "text": [
        "<matplotlib.figure.Figure at 0x110028410>"
       ]
      }
     ],
     "prompt_number": 42
    },
    {
     "cell_type": "markdown",
     "metadata": {},
     "source": [
      "[g test discussion text]\n",
      "\n",
      "[Group signifigance discussion text]\n",
      "\n",
      "<a href=\"#top\">Return to the top</a>\n",
      "\n",
      "<a id=\"#discussion\"></a>\n",
      "##Discussion\n",
      "\n",
      "[Discussion text]\n",
      "\n",
      "<a href=\"#top\">Return to the top</a>\n",
      "\n",
      "<a id=\"#refs\"></a>\n",
      "###References\n",
      "*Suggest an un-numbered reference list, or in-text references*\n",
      "<ul><li>\n",
      "</li></ul>\n",
      "\n"
     ]
    }
   ],
   "metadata": {}
  }
 ]
}