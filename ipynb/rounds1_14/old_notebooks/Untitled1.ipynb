{
 "metadata": {
  "name": "",
  "signature": "sha256:def6ab36d66ec706889b2751737eb14b24f65cc1a9e235b46937357f3475baeb"
 },
 "nbformat": 3,
 "nbformat_minor": 0,
 "worksheets": [
  {
   "cells": [
    {
     "cell_type": "code",
     "collapsed": false,
     "input": [
      "from IPython.display import HTML"
     ],
     "language": "python",
     "metadata": {},
     "outputs": [],
     "prompt_number": 1
    },
    {
     "cell_type": "code",
     "collapsed": false,
     "input": [
      "s = \"\"\"<table>\n",
      "<tr>\n",
      "<th>Header 1</th>\n",
      "<th>Header 2</th>\n",
      "</tr>\n",
      "<tr>\n",
      "<td>row 1, cell 1</td>\n",
      "<td>row 1, cell 2</td>\n",
      "</tr>\n",
      "<tr>\n",
      "<td>row 2, cell 1</td>\n",
      "<td>row 2, cell 2</td>\n",
      "</tr>\n",
      "</table>\"\"\"\n",
      "HTML(s)"
     ],
     "language": "python",
     "metadata": {},
     "outputs": [
      {
       "html": [
        "<table>\n",
        "<tr>\n",
        "<th>Header 1</th>\n",
        "<th>Header 2</th>\n",
        "</tr>\n",
        "<tr>\n",
        "<td>row 1, cell 1</td>\n",
        "<td>row 1, cell 2</td>\n",
        "</tr>\n",
        "<tr>\n",
        "<td>row 2, cell 1</td>\n",
        "<td>row 2, cell 2</td>\n",
        "</tr>\n",
        "</table>"
       ],
       "metadata": {},
       "output_type": "pyout",
       "prompt_number": 5,
       "text": [
        "<IPython.core.display.HTML at 0x107844590>"
       ]
      }
     ],
     "prompt_number": 5
    },
    {
     "cell_type": "code",
     "collapsed": false,
     "input": [
      "s2 = \"\"\"<table border=\"0px solid white\">\n",
      "<tr>\n",
      "<th>Header 1</th>\n",
      "<th>Header 2</th>\n",
      "</tr>\n",
      "<tr>\n",
      "<td>row 1, cell 1</td>\n",
      "<td>row 1, cell 2</td>\n",
      "</tr>\n",
      "<tr>\n",
      "<td>row 2, cell 1</td>\n",
      "<td>row 2, cell 2</td>\n",
      "</tr>\n",
      "</table>\"\"\"\n",
      "HTML(s2)"
     ],
     "language": "python",
     "metadata": {},
     "outputs": [
      {
       "html": [
        "<table border=\"0px solid white\">\n",
        "<tr>\n",
        "<th>Header 1</th>\n",
        "<th>Header 2</th>\n",
        "</tr>\n",
        "<tr>\n",
        "<td>row 1, cell 1</td>\n",
        "<td>row 1, cell 2</td>\n",
        "</tr>\n",
        "<tr>\n",
        "<td>row 2, cell 1</td>\n",
        "<td>row 2, cell 2</td>\n",
        "</tr>\n",
        "</table>"
       ],
       "metadata": {},
       "output_type": "pyout",
       "prompt_number": 9,
       "text": [
        "<IPython.core.display.HTML at 0x1078444d0>"
       ]
      }
     ],
     "prompt_number": 9
    },
    {
     "cell_type": "code",
     "collapsed": false,
     "input": [],
     "language": "python",
     "metadata": {},
     "outputs": []
    }
   ],
   "metadata": {}
  }
 ]
}