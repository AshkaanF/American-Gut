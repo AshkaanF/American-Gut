{
 "metadata": {
  "name": ""
 },
 "nbformat": 3,
 "nbformat_minor": 0,
 "worksheets": [
  {
   "cells": [
    {
     "cell_type": "markdown",
     "metadata": {},
     "source": [
      "<ul><li>American Gut Project\n",
      "</li><li>License: BSD\n",
      "</li><li>Author of this notebook: JW Debelius\n",
      "</li><li>Last Update: July 2014\n",
      "</li></ul>"
     ]
    },
    {
     "cell_type": "markdown",
     "metadata": {},
     "source": [
      "<a id=\"top\"></a>"
     ]
    },
    {
     "cell_type": "markdown",
     "metadata": {},
     "source": [
      "This notebook is designed to demonstrate a set of data analysis techniques for the <a href=\"http://americangut.org\">American Gut Project</a> (AGP) data. It can serve as a framework for other scientists processing the data, examine steps, make suggestions, and ask their own questions. This notebook operates on pre-computed tables available through the <a href=\"https://github.com/biocore/American-Gut\">American Gut GitHub Page</a>, rather than processing the data from raw-sequences. \n",
      "\n",
      "This notebook can be run on a personal computer running a Unix-based operating system (i.e. Mac, Linux) which meets the run requirements.  However, running the processing steps on the full notebook, especially steps two and three take a while (thirty minutes or more) on a personal computer. To reduce run-time, the <code>overwrite</code> parameter should be set to <code><font color=\"green\">False</font></code>, which will only perform these computationally expensive steps if the resulting files are not present. The flag can be re-set (<code>Overwrite = <font color=\"green\">True</font></code>) to re-run the analysis as more data is added to the repository.\n",
      "\n",
      "To run this notebook, you will need:\n",
      "<ul><li><a href=\"http://curl.haxx.se/download.html\">The cURL download utility</a>. cURL is installed on Mac OSX 10.6 and higher.\n",
      "</li><li><a href=\"https://www.python.org/download/releases/2.7/\">Python 2.7</a>\n",
      "</li><li><a href=\"http://qiime.org\">QIIME 1.8</a>\n",
      "</li><li><a href=\"http://www.scipy.org\">SciPy 0.14.0</a>\n",
      "</li><li><a href=\"http://pandas.pydata.org\">pandas 0.13.0</a>\n",
      "</li><li>A custom scripts library, <a href=\"https://github.com/JWDebelius/American-Gut/blob/ipython/americangut/alpha_analysis.py\">alpha_analysis</a> avaliable from the American Gut GitHub repository.\n",
      "</li><li><a href=\"http://ipython.org\">iPython</a>\n",
      "</li></ul>\n",
      "\n",
      "This notebook will focus on the generation and analysis of alpha diversity in the American Gut population. Alpha diversity is a measure of intrasample variability or how many and how similar are the species in a particular location. We will focus on alpha diversity in a healthy subset of adults.\n",
      "\n",
      "The notebook will use the following major steps to generate results:\n",
      "<ol><li><a href=\"#download\">Download pre-computed biom table and mapping file from GitHub</a>\n",
      "</li><li><a href=\"#split\">Split the biom table so only fecal samples are examined</a>\n",
      "</li><li><a href=\"#rare\">Perform ten rarefactions on the dataset at 10,000 sequences/sample</a>\n",
      "</li><li><a href=\"#alpha\">Calculate alpha diversity for each rarefaction</a>\n",
      "</li><li><a href=\"#subset\">Generate a subset of healthy adults.</a>\n",
      "</li><li>Preform analysis. We will look at <a href=\"#etoh\">Alcohol Consumption</a> and <a href=\"#season\">Collection Season</a>.\n",
      "</li></ol>"
     ]
    },
    {
     "cell_type": "code",
     "collapsed": false,
     "input": [
      "# Initializes the notebook with inline display\n",
      "%matplotlib inline\n",
      "\n",
      "# Imports necessary functions\n",
      "from os import mkdir\n",
      "from os.path import abspath, join as pjoin, exists\n",
      "from shutil import copy2, move\n",
      "from time import strftime, strptime\n",
      "from numpy import nan, isnan\n",
      "from pandas import read_csv, Series, DataFrame\n",
      "from IPython.display import Image\n",
      "from americangut.alpha_analysis import (check_dir, pad_index,\n",
      "                                     pretty_boxplot,                                  \n",
      "                                     post_hoc_pandas)"
     ],
     "language": "python",
     "metadata": {},
     "outputs": [],
     "prompt_number": 1
    },
    {
     "cell_type": "markdown",
     "metadata": {},
     "source": [
      "<a id=\"filepath\"></a>"
     ]
    },
    {
     "cell_type": "markdown",
     "metadata": {},
     "source": [
      "We can start by setting up some new folders where the data will be downloaded and saved, and filepaths within the folder."
     ]
    },
    {
     "cell_type": "code",
     "collapsed": false,
     "input": [
      "# Gets the base directory for analyses. This is assumed to be the current directory.\n",
      "base_dir = abspath('.')\n",
      "# Creates a directory for handling the data\n",
      "analysis_dir = pjoin(base_dir, 'AmGutAnalysis')\n",
      "check_dir(analysis_dir)\n",
      "\n",
      "# Creates a new directory to put the raw OTU table and mapping file we'll download\n",
      "raw_dir = pjoin(analysis_dir, 'RawOTUtables') \n",
      "check_dir(raw_dir)\n",
      "# Sets up the location filepaths for the raw data\n",
      "raw_otu_zip = pjoin(raw_dir, 'AG_100nt.biom.gz')\n",
      "raw_otu_fp = pjoin(raw_dir, 'AG_100nt.biom')\n",
      "raw_map_fp = pjoin(raw_dir, 'AG_100nt.txt')\n",
      "\n",
      "# Creates a directory where tables split by site should be stored\n",
      "split_dir = pjoin(analysis_dir, 'SplitByBodysite')\n",
      "check_dir(split_dir)\n",
      "\n",
      "# Handles renaming the split files\n",
      "ori_feces_otu_fp = pjoin(split_dir, 'AG_100nt_UBERON:feces.biom')\n",
      "ori_feces_map_fp = pjoin(split_dir, 'mapping_UBERON:feces.txt')\n",
      "raw_feces_otu_fp = pjoin(split_dir, 'AG_100nt_fecal.biom')\n",
      "raw_feces_map_fp = pjoin(split_dir, 'AG_100nt_fecal.txt')\n",
      "\n",
      "# Sets up a directory for rarifaction\n",
      "rare_dir = pjoin(analysis_dir, 'Rarifaction')\n",
      "check_dir(rare_dir)\n",
      "\n",
      "# Sets the filename pattern which will appear for the rarified table\n",
      "rare_pattern_fp = pjoin(rare_dir, 'rarefaction_%i_%i.biom')\n",
      "\n",
      "# Sets up a directory for alpha diverstiy\n",
      "alpha_dir = pjoin(analysis_dir, 'Alpha')\n",
      "check_dir(alpha_dir)\n",
      "\n",
      "# Sets up the alpha diversity filepath\n",
      "alpha_pattern_fp = pjoin(alpha_dir, 'AG_fecal_even10k_alpha_%i.txt')\n",
      "\n",
      "# Sets the reference tree filepath\n",
      "tree_fp = '/Users/jwdebelius/lib/Greengenes/gg_13_8_otus/trees/97_otus.tree'"
     ],
     "language": "python",
     "metadata": {},
     "outputs": [],
     "prompt_number": 2
    },
    {
     "cell_type": "markdown",
     "metadata": {},
     "source": [
      "<a href=\"\">Return to the top</a>"
     ]
    },
    {
     "cell_type": "markdown",
     "metadata": {},
     "source": [
      "<a id=\"parameters\"></a>"
     ]
    },
    {
     "cell_type": "markdown",
     "metadata": {},
     "source": [
      "We can also set a series of parameters for analysis.\n",
      "\n",
      "<ul><li><code>overwrite</code> will force the computer to re-compute tables, even if a file of the same name already exists.\n",
      "<br>This can have values of <code><font color=\"green\">True</font></code> and <code><font color=\"green\">False</font></code>.\n",
      "<br>   \n",
      "\n",
      "</li><li><code>rarefaction_depth</code> determines how many sequences per sample should be randomly selected.<br>\n",
      "We chose 10,000 for this analysis because it balances capturing diversity with retaining samples. The American Gut samples have, on average, more sequences per sample than the samples in the Human Microbiome Project, allowing us to use a deeper rarefaction depth in analyzing the data.\n",
      "\n",
      "</li><li><code>num_rarefactions</code> is the number of times we rarify the data.<br>\n",
      "The more rarefactions calculated, the longer it will take the notebook to run. We selected 10 as a compromise between runtime and capturing a fuller picture of the data.\n",
      "<br>   \n",
      "\n",
      "</li><li><code>alpha_metrics</code> is a comma-delimited string, listing the desired metrics.<br>\n",
      "The current notebook is set to calculate two alpha diversity metrics, PD Whole Tree and Observed Species diversity.\n",
      "\n",
      "</li><li><code>div_metric</code> is the diversity metric to be used during analysis.<br>\n",
      "While we can calculate a variety of diversity metrics, it is advantageous to focus only on one metric during analysis. Here, we use the mean of the ten PD whole tree diversity calculations. PD whole tree diversity was selected for this analysis because it takes into account not only the number of different organisms present, but also their similarity and dissimilarity.\n",
      "<br>   \n",
      "\n",
      "</li><li>The <code>txt_delim</code> character separates cells in our text files. \n",
      "Qiime currently works with tab-delimited text format for metadata and alpha diversity files. The delimiter, <code><font color=\"DC143C\">\\t</font></code> represents a tab character. A comma separated file (csv) uses a comma (<code><font color=\"DC143C\">,</font></code>) delimiter.\n",
      "\n",
      "</li><li><code>map_index</code> is the name of the column containing the sample ids. \n",
      "This is important for integration between pandas-adjusted metadata and downstream Qiime scripts. The required name in Qiime is <code>#SampleID</code>.\n",
      "\n",
      "</li><li><code>map_nas</code> lists possible names for empty data fields. \n",
      "American Gut participants may skip any survey question they do not wish to answer. As a result, the mapping file may contain missing data fields. Pandas data structures handles these fields by specifying a special value, and ignores them in calculations.\n",
      "\n",
      "</li></ul>"
     ]
    },
    {
     "cell_type": "code",
     "collapsed": false,
     "input": [
      "# Overwrite all current files\n",
      "overwrite = False\n",
      "\n",
      "# Sets up rarifaction parameter for 10,000 sequences/sample and 10 rounds of rarifaction.\n",
      "rarifaction_depth = 10000\n",
      "num_rarifactions = 10\n",
      "\n",
      "# Sets the list of alpha diversity metrics to calculate\n",
      "alpha_metrics = 'PD_whole_tree,observed_species'\n",
      "# Lists the alpha diversity metric to use for analysis\n",
      "div_metric = 'PD_whole_tree_mean'\n",
      "\n",
      "# Sets up parameters for when pandas reads and writes data.\n",
      "txt_delim = '\\t'\n",
      "map_index = '#SampleID'\n",
      "map_nas = ['NA', 'no_data', 'unknown']"
     ],
     "language": "python",
     "metadata": {},
     "outputs": [],
     "prompt_number": 3
    },
    {
     "cell_type": "markdown",
     "metadata": {},
     "source": [
      "<a href=\"#top\">Return to the top</a>\n",
      "\n",
      "Now the parameters and directories are set up, let's get started."
     ]
    },
    {
     "cell_type": "markdown",
     "metadata": {},
     "source": [
      "<a id=\"download\"></a>"
     ]
    },
    {
     "cell_type": "markdown",
     "metadata": {},
     "source": [
      "###1. Download data from GitHub\n",
      "We now use <code>cURL</code> to download the data.\n",
      "If the data has already been downloaded, it will not be downloaded again unless the notebook is explicitly set to <code>Overwrite = <font color=\"green\">True</font></code>.\n",
      "Alternatively, to use previously downloaded tables, change the <code>raw_feces_otu_fp</code> and <code>raw_feces_map_fp</code> in the <a href=\"#filepath\">filepath block</a> to direct the notebook to the appropriate files."
     ]
    },
    {
     "cell_type": "code",
     "collapsed": false,
     "input": [
      "# Gets the biom file\n",
      "if not exists(raw_otu_fp) or overwrite:\n",
      "    # Downloads the compressed biom file\n",
      "    !curl -OL https://github.com/biocore/American-Gut/raw/master/data/AG/AG_100nt.biom.gz --compressed\n",
      "    # Unzips the biom file\n",
      "    !gunzip AG_100nt.biom.gz\n",
      "    # Moves the biom file to its final location\n",
      "    move(pjoin('.', 'AG_100nt.biom'), raw_otu_fp)\n",
      "\n",
      "if not exists(raw_map_fp) or overwrite:\n",
      "    # Downloads the mapping file\n",
      "    !curl -OL https://github.com/biocore/American-Gut/raw/master/data/AG/AG_100nt.txt\n",
      "    move(pjoin('.', 'AG_100nt.txt'), raw_map_fp)"
     ],
     "language": "python",
     "metadata": {},
     "outputs": [],
     "prompt_number": 4
    },
    {
     "cell_type": "markdown",
     "metadata": {},
     "source": [
      "<a href=\"#top\">Return to the top</a>"
     ]
    },
    {
     "cell_type": "markdown",
     "metadata": {},
     "source": [
      "<a id=\"split\"></a>"
     ]
    },
    {
     "cell_type": "markdown",
     "metadata": {},
     "source": [
      "###2. Splits the OTU table by Body Site\n",
      "\n",
      "For more information on splitting out tables using a metadata field, see the <a href=\"http://qiime.org/scripts/split_otu_table.html\">Qiime documentation</a>. <br><em>Note: due to the size of the table, this may take a while to run.</em>"
     ]
    },
    {
     "cell_type": "code",
     "collapsed": false,
     "input": [
      "# Splits the otu table by body site\n",
      "if not exists(ori_feces_otu_fp) or overwrite:\n",
      "    !split_otu_table.py -i $raw_otu_fp -m $raw_map_fp -f BODY_SITE -o $split_dir\n",
      "\n",
      "    # Renames the fecal files to something tidier\n",
      "    copy2(ori_feces_otu_fp, raw_feces_otu_fp)\n",
      "    copy2(ori_feces_map_fp, raw_feces_map_fp)"
     ],
     "language": "python",
     "metadata": {},
     "outputs": [],
     "prompt_number": 5
    },
    {
     "cell_type": "markdown",
     "metadata": {},
     "source": [
      "<a href=\"#top\">Return to the top</a>"
     ]
    },
    {
     "cell_type": "markdown",
     "metadata": {},
     "source": [
      "<a id=\"rare\"></a>"
     ]
    },
    {
     "cell_type": "markdown",
     "metadata": {},
     "source": [
      "###3. Rarifies the table\n",
      "\n",
      "<p>Next, we rarefy the data to 10,000 sequences per sample. This depth was chosen since it balances a better picture of diversity with retaining samples. Rarefaction begins by removing samples from the table which do not have the minimum number of counts. Sequences are then drawn randomly out of a weighted pool until we reach the appropriate number. </p>\n",
      "\n",
      "Rarefaction is necessary to make intra sample diversity comparisons possible. Below is a panel from Figure 1 of <a href=\"http://jnci.oxfordjournals.org/content/early/2013/11/27/jnci.djt300.full\">Human Gut Microbiome and Risk of Colorectal Cancer</a> (Ahn et al, 2013). The figure compares <a href=\"http://en.wikipedia.org/wiki/Diversity_index#Shannon_index\">Shannon Diversity</a> between individuals with colorectal cancer (n=47, red circles) and healthy controls (n=94, empty triangles) over several rarefaction depths, or sequence counts per sample. The figure also illustrates the importance of even sampling depth. If a control sample with 500 sequences per sample were compared with a cancer sample at a depth of 2500 sequences per sample, the cancer sample would appear more diverse. Comparisons at the same depth reveal the true pattern in the data: cancer samples are less diverse than controls.\n"
     ]
    },
    {
     "cell_type": "code",
     "collapsed": false,
     "input": [
      "Image(url='https://raw.githubusercontent.com/JWDebelius/American-Gut/ipython/ipynb/images/ahn2013jncicolorectalf1.jpg', \n",
      "      height=300, width=300*4/3)"
     ],
     "language": "python",
     "metadata": {},
     "outputs": [
      {
       "html": [
        "<img src=\"https://raw.githubusercontent.com/JWDebelius/American-Gut/ipython/ipynb/images/ahn2013jncicolorectalf1.jpg\" width=\"400\" height=\"300\"/>"
       ],
       "metadata": {},
       "output_type": "pyout",
       "prompt_number": 6,
       "text": [
        "<IPython.core.display.Image at 0x10402b550>"
       ]
      }
     ],
     "prompt_number": 6
    },
    {
     "cell_type": "markdown",
     "metadata": {},
     "source": [
      "<p>To control for bias which might occur with a single, random subsampling of the data, we use multiple rounds of rarefaction to more accurately estimate the alpha diversity.</p>\n",
      "<p><em>Note: due to the size of the table, this may take a while to run.</em></p>"
     ]
    },
    {
     "cell_type": "code",
     "collapsed": false,
     "input": [
      "# Preforms multiple rarifactions at an even depth\n",
      "if not exists(rare_pattern_fp % (rarifaction_depth, 0)) or overwrite:\n",
      "    !multiple_rarefactions_even_depth.py -i $raw_feces_otu_fp -o $rare_dir -d $rarifaction_depth -n $num_rarifactions  --lineages_included"
     ],
     "language": "python",
     "metadata": {},
     "outputs": [],
     "prompt_number": 7
    },
    {
     "cell_type": "markdown",
     "metadata": {},
     "source": [
      "<a href=\"#top\">Return to the top</a>"
     ]
    },
    {
     "cell_type": "markdown",
     "metadata": {},
     "source": [
      "<a id=\"alpha\"></a>"
     ]
    },
    {
     "cell_type": "markdown",
     "metadata": {},
     "source": [
      "###4. Calculates alpha diversity for the samples\n",
      "Alpha diversity is a measure of intra sample diversity, or how much variability we find in each sample. There are a variety of ways to calculate alpha diversity. This notebook will calculate two metrics: Observed Species Diversity and PD Whole Tree Diversity.\n",
      "\n",
      "<a href=\"http://scikit-bio.org/generated/skbio.math.diversity.alpha.observed_otus.html#skbio.math.diversity.alpha.observed_otus\">Observed Species Diversity</a>  counts the number of bacterial species in a sample. Imagine looking at three households. In household one, there are three humans. In household two, there is a human, a dog, and a rat. In household three, there is a human, a dog, and a bearded dragon. Using observed species diversity, we would say that household one is less diverse than Household two and three, which by Observed species diversity are equally diverse. (H<sub>1</sub> < H<sub>2</sub> = H<sub>3</sub>).\n",
      "\n",
      "However, when examining diversity, it can be useful to look beyond just the number of bacterial species present, and instead look at some of the bacterial traits. <a href=\"http://www.sciencemag.org/content/308/5728/1635.full\">PD Whole Tree Diversity</a> is a diversity metric which takes into account the evolutionary similarity between different bacterial species. For example, going back to the households we talked about earlier, the household one, with three humans, would again be the least diverse, because we are only looking at one species. Household two and household three both have the same number of species, but household three would be considered more diverse since it contains a reptile (the bearded dragon) while household two only contains mammals, and mammals are more similar to each other than they are to any reptile. (H<sub>1</sub> < H<sub>2</sub> < H<sub>3</sub>)."
     ]
    },
    {
     "cell_type": "code",
     "collapsed": false,
     "input": [
      "# Sets up a holding object for the alpha diversity\n",
      "alpha_rounds = {'%s' % m:{} for m in alpha_metrics.split(',')}\n",
      "\n",
      "# Calculates the alpha diversity for each round\n",
      "for i in arange(0, 10):\n",
      "    rare_fp = rare_pattern_fp % (rarifaction_depth, i)\n",
      "    alpha_fp = alpha_pattern_fp % i\n",
      "    # Calculates the alpha diversity\n",
      "    if not exists(alpha_fp):\n",
      "        !alpha_diversity.py -i $rare_fp -o $alpha_fp -m $alpha_metrics -t $tree_fp\n",
      "\n",
      "    # Reads in the alpha diversity\n",
      "    alpha = pad_index(read_csv(alpha_fp, sep='\\t'), 'Unnamed: 0')\n",
      "\n",
      "    # Pulls out the data\n",
      "    for col in alpha_rounds:\n",
      "        alpha_rounds['%s' %col]['%i' % i] = alpha[col]\n",
      "        alpha_rounds['%s' %col]['%i' % i].name = '%i' % i\n",
      "        \n",
      "# Calculates the mean, median and standard deviaton between rounds\n",
      "metrics = {}\n",
      "for metric in alpha_rounds:\n",
      "    metrics['%s_mean' % metric] = DataFrame(alpha_rounds[metric]).mean(1)\n",
      "    metrics['%s_stdv' % metric] = DataFrame(alpha_rounds[metric]).std(1)\n",
      "    metrics['%s_med' % metric] = DataFrame(alpha_rounds[metric]).median(1)\n",
      "    \n",
      "# Adds the alpha diversity to the mapping file\n",
      "aw_map = pad_index(read_csv(raw_map_fp, \n",
      "                            sep=txt_delim, \n",
      "                            na_values=map_nas),\n",
      "                   index_col=map_index)\n",
      "alpha_df = DataFrame(metrics)\n",
      "if '%s_mean' % alpha_rounds.keys()[0] not in aw_map.columns:\n",
      "    aw_map = aw_map.join(alpha_df)"
     ],
     "language": "python",
     "metadata": {},
     "outputs": [],
     "prompt_number": 8
    },
    {
     "cell_type": "markdown",
     "metadata": {},
     "source": [
      "After reading in the mapping file, we can remove any sample which did not contain the 10,000 sequences/sample we requested using rarefaction. Since the missing alpha diversity is stored as a Not a Number (<code>nan</code>) value, we will ask the computer to only keep metadata rows where the alpha diversity is not <code>nan</code>."
     ]
    },
    {
     "cell_type": "code",
     "collapsed": false,
     "input": [
      "aw_map = aw_map.groupby(isnan(aw_map['%s_mean' % alpha_rounds.keys()[0]])).get_group(False)"
     ],
     "language": "python",
     "metadata": {},
     "outputs": [],
     "prompt_number": 9
    },
    {
     "cell_type": "markdown",
     "metadata": {},
     "source": [
      "<a href=\"#top\">Return to the top</a>"
     ]
    },
    {
     "cell_type": "markdown",
     "metadata": {},
     "source": [
      "<a id=\"subset\"></a>"
     ]
    },
    {
     "cell_type": "markdown",
     "metadata": {},
     "source": [
      "###5. Filters out samples with known effects on diversity.\n",
      "\n",
      "<p>Certain health aspects of participants may have known influences on alpha diversity which overwhelms other potential influences. As a result, we chose to filter out individuals who may belong to a group which confounds the data.</p>\n",
      "\n",
      "<p><a href=\"http://www.pnas.org/content/108/Supplement_1/4554.long\">Recent antibiotic use</a> has been shown to affect alpha diversity; only participants who reported not using antibiotics in the last year were considered in this analysis.</p>\n",
      "\n",
      "<p><a href=\"http://www.ncbi.nlm.nih.gov/pubmed/23013615\">Inflammatory Bowel Disease</a>\n",
      "and \n",
      "<a href=\"http://www.ncbi.nlm.nih.gov/pubmed/20140211\">Type II diabetes</a>\n",
      "are associated with decreased alpha diversity than age-matched controls. \n",
      "Studies examining alpha diversity in Type I diabetes have been somewhat inconclusive. \n",
      "<a href=\"http://www.ncbi.nlm.nih.gov/pubmed/20613793\">Giongo et al, 2011</a>\n",
      "showed decreased diversity in diabetics (<em>n</em>=4) compared to controls (<em>n</em>=4) over time, while \n",
      "<a href=\"http://www.ncbi.nlm.nih.gov/pubmed/24448554\">Mej\u00eda-Leon et al, 2014</a>\n",
      "found no significant difference in alpha diversity between controls (<em>n</em>=8), newly diagnosed cases (<em>n</em>=8) and children who had been diabetic for more than two years (<em>n</em>=13) at a single time point. We chose to be conservative and exclude type I diabetics from this dataset. \n",
      "\n",
      "A relationship between \n",
      "<a href=\"http://www.ncbi.nlm.nih.gov/pmc/articles/PMC2677729/\">obesity</a>\n",
      "and lower alpha diversity has also been previously observed. In addition, we found that individuals who were considered underweight also had lower diversity than people in the \"normal\" or \"overweight\" BMI categories. As a result, we selected only to include subjects who had a BMI between 18.5 and 30.\n",
      "\n",
      "We removed anyone under the age of 20 for three reasons: \n",
      "<a href=\"http://www.ncbi.nlm.nih.gov/pubmed/22699611\">young children</a>\n",
      "have low diversity compared to adults. \n",
      "<a href=\"http://win.niddk.nih.gov/statistics/\">BMI qualifications in children under 18</a>\n",
      "into categories such as \"underweight\", \"normal\", and \"overweight\" depend on the child's age and gender. Finally, we considered alcohol consumption as a variable which might affect alpha diversity. Since the overwhelming majority of American Gut participants are American, we chose to set the lower limit of the age range near the legal drinking age to remove potential age-related biases.\n",
      "\n",
      "To filter the data, we define a series of filter functions. A sample must pass all five filter functions to be used in analysis. For large sets of data, it is more convenient to define a single filtered set using the Pandas function, <a href=\"http://pandas.pydata.org/pandas-docs/dev/generated/pandas.DataFrame.apply.html\"><code>apply</code></a> and then splitting the table based on the aggrigated results, rather than splitting the table individually using each filter function."
     ]
    },
    {
     "cell_type": "code",
     "collapsed": false,
     "input": [
      "# Defines the filtering functions for alpha diversity\n",
      "subset_f = {'AGE': lambda x: 19 < x,            \n",
      "            'DIABETES': lambda x: x == 'I do not have diabetes',\n",
      "            'IBD': lambda x: x == 'I do not have IBD',\n",
      "            'ANTIBIOTIC_SELECT': lambda x: x == 'Not in the last year',\n",
      "            'BMI': lambda x: 18.5 <= x < 30}\n",
      "\n",
      "# Determines which samples meet the requirements of the categories\n",
      "new_bin = {}\n",
      "for cat, f in subset_f.iteritems():\n",
      "    new_bin[cat] = aw_map[cat].apply(f)\n",
      "\n",
      "# Builds up the new binary dataframe\n",
      "bin_frame = DataFrame(new_bin)\n",
      "\n",
      "# Adds a column to the current dataframe to look at the subset\n",
      "bin_series = DataFrame(new_bin).all(1)\n",
      "\n",
      "# Filters the original mapping file so only samples which satisfy the criteria are included in the new metadata file.\n",
      "sw_map = aw_map.groupby(bin_series).get_group(True)"
     ],
     "language": "python",
     "metadata": {},
     "outputs": [],
     "prompt_number": 10
    },
    {
     "cell_type": "markdown",
     "metadata": {},
     "source": [
      "<a href=\"#top\">Return to the top</a>"
     ]
    },
    {
     "cell_type": "markdown",
     "metadata": {},
     "source": [
      "###6. Analysis"
     ]
    },
    {
     "cell_type": "markdown",
     "metadata": {},
     "source": [
      "<a id=\"etoh\"></a>"
     ]
    },
    {
     "cell_type": "markdown",
     "metadata": {},
     "source": [
      "####Alcohol Frequency"
     ]
    },
    {
     "cell_type": "markdown",
     "metadata": {},
     "source": [
      "<p>With the clean subset of data, we can start investigating the data. \n",
      "One question of interest to our group was the effect of alcohol consumption on diverity of the gut microbiome.</p>"
     ]
    },
    {
     "cell_type": "code",
     "collapsed": false,
     "input": [
      "# Identifies the metadata category being analyzed\n",
      "category = 'ALCOHOL_FREQ'"
     ],
     "language": "python",
     "metadata": {},
     "outputs": [],
     "prompt_number": 11
    },
    {
     "cell_type": "markdown",
     "metadata": {},
     "source": [
      "We asked participants about their frequency of alcohol consumption, providing the options \"<code>Never</code>\", \"<code>Rarely, a few times/month</code>\", \"<code>Occasionally, 1-2 times/week</code>\", \"<code>Regularly, 3-5 times/week</code>\" and \"<code>Daily</code>\". Partipants were also free to skip this question.\n",
      "\n",
      "Because of the lenght of many group names, we chose to shorten them using a mapping dictionary. This type of data alteration takes three steps:\n",
      "<ol><li>Set up a dictionary which keys the current possible values in the mapping file to the desired value.\n",
      "</li><li>Convert the dictionary to a function. This uses an anonymous function, called a \n",
      "<a href=\"https://docs.python.org/2/tutorial/controlflow.html#lambda-expressions\">lambda function</a>.\n",
      "</li><li>Apply the function to a data column in the dataframe.\n",
      "</li></ol>\n",
      "\n",
      "In this case, we choose to write to a new column, called <code>ALCOHOL_FREQ</code>."
     ]
    },
    {
     "cell_type": "code",
     "collapsed": false,
     "input": [
      "# Sets up the mapping dictionary\n",
      "freq_map = {'Never': 'Never', \n",
      "           'Rarely (few times/month)': 'Rarely', \n",
      "           'Rarely': 'Rarely',\n",
      "           'Occasionally (1-2 times/week)': 'Occasionally',\n",
      "           'Occasionally': 'Occasionally',\n",
      "           'Regularly (3-5 times/week)': 'Regularly',\n",
      "           'Regularly': 'Regularly',\n",
      "           'Daily': 'Daily',\n",
      "           nan: nan}\n",
      "\n",
      "# Defines the anonymous function. This function will take the value of x\n",
      "# and look it up in the freq_map dictionary.\n",
      "f = lambda x: freq_map[x]\n",
      "\n",
      "# Applies the function.\n",
      "sw_map[category] = sw_map.ALCOHOL_FREQUENCY.apply(f)"
     ],
     "language": "python",
     "metadata": {},
     "outputs": [],
     "prompt_number": 12
    },
    {
     "cell_type": "markdown",
     "metadata": {},
     "source": [
      "Because of the inherent ordinal nature of the data, we choose to order groups in ascending order of their consumption frequency. If we do not define this order, the  plotting function will sort the data alphabetically, which will make less sense."
     ]
    },
    {
     "cell_type": "code",
     "collapsed": false,
     "input": [
      "order = ['Never', 'Rarely', 'Occasionally', 'Regularly', 'Daily']"
     ],
     "language": "python",
     "metadata": {},
     "outputs": [],
     "prompt_number": 13
    },
    {
     "cell_type": "markdown",
     "metadata": {},
     "source": [
      "We approached this question by looking at the mean PD whole tree diversity within the subjects. We started by using \n",
      "<a href=\"http://en.wikipedia.org/wiki/Box_plot\">boxplots</a>,\n",
      "a method of displaying information about the distribution of data and a \n",
      "<a href=\"http://en.wikipedia.org/wiki/Kruskal\u2013Wallis_one-way_analysis_of_variance\">krushkal-wallis</a>\n",
      "test to compare alpha divesrity between groups. In the boxplots show below, the notch indicates a parametric 95% confidence interval."
     ]
    },
    {
     "cell_type": "code",
     "collapsed": false,
     "input": [
      "fig, features = pretty_boxplot(sw_map.groupby(category),\n",
      "                               order=order,\n",
      "                               cat='PD_whole_tree_mean',\n",
      "                               ylabel='PD Whole Tree Diversity',\n",
      "                               title='Alcohol Frequency',\n",
      "                               ylims=[10, 55])"
     ],
     "language": "python",
     "metadata": {},
     "outputs": [
      {
       "metadata": {},
       "output_type": "display_data",
       "png": "[encoded data removed]",
       "text": [
        "<matplotlib.figure.Figure at 0x10644b510>"
       ]
      }
     ],
     "prompt_number": 14
    },
    {
     "cell_type": "markdown",
     "metadata": {},
     "source": [
      "he box plots suggest that alpha diversity increases with more frequent alcohol consumption, and that there is a significant difference between at least one of these groups. To identify the group or groups which are significantly different, we can perform a series of pair-wise comparisons between the groups. To prevent multiple hypothesis error, p-values are corrected using the \n",
      "<a href=\"http://en.wikipedia.org/wiki/Bonferroni_correction\">Bonferroni method.</a>\n"
     ]
    },
    {
     "cell_type": "code",
     "collapsed": false,
     "input": [
      "post_hoc_pandas(sw_map.groupby(category),\n",
      "                order=order,\n",
      "                cat='PD_whole_tree_mean')"
     ],
     "language": "python",
     "metadata": {},
     "outputs": [
      {
       "html": [
        "<div style=\"max-height:1000px;max-width:1500px;overflow:auto;\">\n",
        "<table border=\"1\" class=\"dataframe\">\n",
        "  <thead>\n",
        "    <tr style=\"text-align: right;\">\n",
        "      <th></th>\n",
        "      <th>Counts</th>\n",
        "      <th>Mean</th>\n",
        "      <th>Median</th>\n",
        "      <th>Stdv</th>\n",
        "      <th>Never</th>\n",
        "      <th>Rarely</th>\n",
        "      <th>Occasionally</th>\n",
        "      <th>Regularly</th>\n",
        "    </tr>\n",
        "  </thead>\n",
        "  <tbody>\n",
        "    <tr>\n",
        "      <th>Never</th>\n",
        "      <td> 147</td>\n",
        "      <td> 31.936497</td>\n",
        "      <td> 32.155952</td>\n",
        "      <td> 6.395952</td>\n",
        "      <td>      NaN</td>\n",
        "      <td>    NaN</td>\n",
        "      <td>NaN</td>\n",
        "      <td>NaN</td>\n",
        "    </tr>\n",
        "    <tr>\n",
        "      <th>Rarely</th>\n",
        "      <td> 220</td>\n",
        "      <td> 33.795375</td>\n",
        "      <td> 33.938822</td>\n",
        "      <td> 5.942170</td>\n",
        "      <td> 0.038656</td>\n",
        "      <td>    NaN</td>\n",
        "      <td>NaN</td>\n",
        "      <td>NaN</td>\n",
        "    </tr>\n",
        "    <tr>\n",
        "      <th>Occasionally</th>\n",
        "      <td> 191</td>\n",
        "      <td> 34.139921</td>\n",
        "      <td> 34.148822</td>\n",
        "      <td> 5.540361</td>\n",
        "      <td> 0.008049</td>\n",
        "      <td> 1.0000</td>\n",
        "      <td>NaN</td>\n",
        "      <td>NaN</td>\n",
        "    </tr>\n",
        "    <tr>\n",
        "      <th>Regularly</th>\n",
        "      <td> 203</td>\n",
        "      <td> 34.036713</td>\n",
        "      <td> 33.704426</td>\n",
        "      <td> 5.679557</td>\n",
        "      <td> 0.013750</td>\n",
        "      <td> 1.0000</td>\n",
        "      <td>  1</td>\n",
        "      <td>NaN</td>\n",
        "    </tr>\n",
        "    <tr>\n",
        "      <th>Daily</th>\n",
        "      <td> 139</td>\n",
        "      <td> 34.772054</td>\n",
        "      <td> 35.014882</td>\n",
        "      <td> 5.177115</td>\n",
        "      <td> 0.000514</td>\n",
        "      <td> 0.8326</td>\n",
        "      <td>  1</td>\n",
        "      <td>  1</td>\n",
        "    </tr>\n",
        "  </tbody>\n",
        "</table>\n",
        "<p>5 rows \u00d7 8 columns</p>\n",
        "</div>"
       ],
       "metadata": {},
       "output_type": "pyout",
       "prompt_number": 15,
       "text": [
        "              Counts       Mean     Median      Stdv     Never  Rarely  \\\n",
        "Never            147  31.936497  32.155952  6.395952       NaN     NaN   \n",
        "Rarely           220  33.795375  33.938822  5.942170  0.038656     NaN   \n",
        "Occasionally     191  34.139921  34.148822  5.540361  0.008049  1.0000   \n",
        "Regularly        203  34.036713  33.704426  5.679557  0.013750  1.0000   \n",
        "Daily            139  34.772054  35.014882  5.177115  0.000514  0.8326   \n",
        "\n",
        "              Occasionally  Regularly  \n",
        "Never                  NaN        NaN  \n",
        "Rarely                 NaN        NaN  \n",
        "Occasionally           NaN        NaN  \n",
        "Regularly                1        NaN  \n",
        "Daily                    1          1  \n",
        "\n",
        "[5 rows x 8 columns]"
       ]
      }
     ],
     "prompt_number": 15
    },
    {
     "cell_type": "markdown",
     "metadata": {},
     "source": [
      "The post-hoc test shows that adults who drink have signifignatly lower PD whole tree alpha diversity than any group of adults who consume alcohol, and that the frequency of consumption does not siginfigantly increase the diveristy between the groups of drinkers."
     ]
    },
    {
     "cell_type": "markdown",
     "metadata": {},
     "source": [
      "<a href=\"#top\">Return to the top</a>"
     ]
    },
    {
     "cell_type": "markdown",
     "metadata": {},
     "source": [
      "<a id=\"season\"></a>"
     ]
    },
    {
     "cell_type": "markdown",
     "metadata": {},
     "source": [
      "####Collection Month\n",
      "\n",
      "<p>Another area of interest for our group was to look at the effect of season on the human gut microbiome. Previous work has shown a seasonal effects on alpha diversity on the microbiome of a variety of environments, including the \n",
      "<a href=\"http://www.ncbi.nlm.nih.gov/pubmed/22071345\">English Channel</a>\n",
      "and \n",
      "<a href= \"http://www.ncbi.nlm.nih.gov/pubmed/23152108\">squirrels gut microbiomes</a>\n",
      ". A recently published paper examined seasonal variation in \n",
      "<a href=\"http://www.ncbi.nlm.nih.gov/pubmed/24618913\">Hutterite communities of South Dakota</a>\n",
      ".</p>\n",
      "\n",
      "<p>Before submitting samples for analysis, participants were asked for the collection date and time. We chose to look at alpha diversity during the year, combining samples collected in 2013 and 2014 into months. The information was stored as a standard calendar date, and so, to get the month, we once again have to massage the data. In this case, we will create a new metadata category for the parsed field.</p>"
     ]
    },
    {
     "cell_type": "code",
     "collapsed": false,
     "input": [
      "# Sets up the category parameters\n",
      "category = 'COLLECTION_MONTH'\n",
      "base_cat = 'COLLECTION_DATE'\n",
      "\n",
      "# Sets a function to convert the collection date, if necessary\n",
      "def get_month(date_str):\n",
      "    \"\"\"converts a date to a month string\"\"\"\n",
      "    if len(date_str) > 8:\n",
      "        return strftime('%B', strptime(date_str, '%m/%d/%Y'))\n",
      "    else:\n",
      "        return strftime('%B', strptime(date_str, '%m/%d/%y'))\n",
      "# Converts the collection date\n",
      "if category not in sw_map.columns:\n",
      "    sw_map[category]= sw_map[base_cat].apply(get_month)"
     ],
     "language": "python",
     "metadata": {},
     "outputs": [],
     "prompt_number": 16
    },
    {
     "cell_type": "markdown",
     "metadata": {},
     "source": [
      "We set the calender order for the months, since, once again, the order of the data matters, and then we can generate a boxplot. This boxplot uses rotated axis labels to allow everything to fit."
     ]
    },
    {
     "cell_type": "code",
     "collapsed": false,
     "input": [
      "order = ['January', 'February', 'March', 'April', 'May', 'June', \n",
      "         'July', 'August', 'September', 'October', 'November', \n",
      "         'December']\n",
      "\n",
      "fig, features = pretty_boxplot(sw_map.groupby(category),\n",
      "                               order=order,\n",
      "                               cat='PD_whole_tree_mean',\n",
      "                               ylabel='PD Whole Tree Diversity',\n",
      "                               title='Collection Month',\n",
      "                               xfont_angle=45,\n",
      "                               xfont_align='right',\n",
      "                               ylims=[10, 55])"
     ],
     "language": "python",
     "metadata": {},
     "outputs": [
      {
       "metadata": {},
       "output_type": "display_data",
       "png": "[encoded data removed]",
       "text": [
        "<matplotlib.figure.Figure at 0x106441150>"
       ]
      }
     ],
     "prompt_number": 17
    },
    {
     "cell_type": "markdown",
     "metadata": {},
     "source": [
      "The boxplot of collection mnth suggests that alpha diveristy is higher in the last fall and early Winter (November, December, January) than other months."
     ]
    },
    {
     "cell_type": "markdown",
     "metadata": {},
     "source": [
      "<a href=\"#top\">Return to the top</a>"
     ]
    }
   ],
   "metadata": {}
  }
 ]
}