{
 "metadata": {
  "name": "",
  "signature": "sha256:52527f89140c86d7d72595f2cefaa06fe81e568a2304fbdb1c8dad95bb66e5e7"
 },
 "nbformat": 3,
 "nbformat_minor": 0,
 "worksheets": [
  {
   "cells": [
    {
     "cell_type": "markdown",
     "metadata": {},
     "source": [
      "**License**: BSD <br/>\n",
      "**Copyright**: Copyright American Gut Project, 2014"
     ]
    },
    {
     "cell_type": "code",
     "collapsed": false,
     "input": [
      "# This cell allows us to render the notebook in the way we wish no matter where the notebook is rendered.\n",
      "from IPython.core.display import HTML\n",
      "css_file = 'ag.css'\n",
      "HTML(open(css_file, \"r\").read())"
     ],
     "language": "python",
     "metadata": {},
     "outputs": [
      {
       "html": [
        "<style>\n",
        "\tdiv.cell{\n",
        "\t\tmax-width: 100 em;\n",
        "\t\tmargin-left: auto;\n",
        "\t\tmargin-right: auto;\n",
        "\t}\n",
        "\n",
        "\tdiv.text_cell_render{\n",
        "\t\tline-height : 200%; /*Increases the spacing between the text lines*/\n",
        "\t\twidth : 750 px; /*Sets the width to approximately 700 pixels... about 80 characters */\n",
        "\t\tfont-family: \"Charis SIL\", serif; /*Default font: Charis SIL;*/\n",
        "\t\tfont-size: 11.5pt;\n",
        "\t}\n",
        "\n",
        "\tdiv.text_cell_render h1{\n",
        "\t\tfont-size: 24pt;\n",
        "\t\tfont-family: \"Helvetica Neue\", \"Helvetica\", \"Arial\", sans-serif;\n",
        "\t\tfont-weight: bold;\n",
        "\t}\n",
        "\n",
        "\tdiv.text_cell_render h2{\n",
        "\t\tfont-size: 18pt;\n",
        "\t\tfont-family: \"Helvetica Neue\", \"Helvetica\", \"Arial\", sans-serif;\n",
        "\t\tfont-style: italic;\n",
        "\t}\n",
        "\n",
        "\tdiv.text_cell_render h3{\n",
        "\t\tfont-size: 16pt;\n",
        "\t\tfont-family: \"Helvetica Neue\", \"Helvetica\", \"Arial\", sans-serif;\n",
        "\t\tcolor: #808080;\n",
        "\t\ttext-decoration: underline;\t\n",
        "\t}\n",
        "\n",
        "\tdiv.text_cell_render h4{\n",
        "\t\tfont-size: 15pt;\n",
        "\t\tfont-family: \"Helvetica Neue\", \"Helvetica\", \"Arial\", sans-serif;\n",
        "\t\tcolor: #808080;\n",
        "\t\tfont-style: italic;\t\n",
        "\t}\n",
        "\n",
        "\t#table{\n",
        "\t\tborder: 0px;\n",
        "\t}\n",
        "\n",
        "\t.CodeMirror{\n",
        "    \tfont-family: Consolas, monospace;\n",
        "    }\n",
        "    \n",
        "    .render_html ol {list-style: decimal; margin: 1em 2em;}\n",
        "\n",
        "</style>\n"
       ],
       "metadata": {},
       "output_type": "pyout",
       "prompt_number": 1,
       "text": [
        "<IPython.core.display.HTML at 0x1056fc250>"
       ]
      }
     ],
     "prompt_number": 1
    },
    {
     "cell_type": "markdown",
     "metadata": {},
     "source": [
      "<a id=\"top\"></a>\n",
      "\n",
      "This notebook is designed to demonstrate a set of data analysis techniques for the <a href=\"http://americangut.org\">American Gut Project</a> (AGP) data. It can serve as a framework for other scientists to process the data, examine steps, make suggestions, and ask their own questions. This notebook operates on pre-computed tables available through the <a href=\"https://github.com/biocore/American-Gut\">American Gut GitHub Page</a>, rather than processing the data from raw-sequences. \n",
      "\n",
      "This notebook can be run on a personal computer running a Unix-based operating system (i.e. Mac, Linux) which meets the run requirements.  However, running the processing steps on the full notebook - especially steps two and three - take a while (thirty minutes or more) on a personal computer. To reduce run-time, the <code>overwrite</code> parameter should be set to <code><font color=\"green\">False</font></code>, which will only perform these computationally expensive steps if the resulting files are not present. The flag can be re-set (<code>Overwrite = <font color=\"green\">True</font></code>) to re-run the analysis as more data is added to the repository.\n",
      "\n",
      "To run this notebook, you will need:\n",
      "<ul><li><a href=\"http://curl.haxx.se/download.html\">The cURL download utility</a>. cURL is installed on Mac OSX 10.6 and higher.\n",
      "</li><li><a href=\"https://www.python.org/download/releases/2.7/\">Python 2.7</a>\n",
      "</li><li><a href=\"http://qiime.org\">QIIME 1.9</a>\n",
      "</li><li><a href=\"https://github.com/Biocore/American-Gut/blob/ipython/americangut/\">The American Gut GitHub repository.</a>\n",
      "</li></ul>\n",
      "\n",
      "This notebook will focus on the generation and analysis of alpha diversity in the American Gut population. Alpha diversity is a measure of intrasample variability or how many and how similar are the species in a particular location. We will focus on alpha diversity in a healthy subset of adults.\n",
      "\n",
      "The notebook will use the following major steps to generate results:\n",
      "<ol><li><a href=\"#download\">Download the pre-computed biom table and mapping file from GitHub</a>\n",
      "</li><li><a href=\"#split\">Split the biom table so only fecal samples are examined</a>\n",
      "</li><li><a href=\"#rare\">Perform ten rarefactions on the dataset at 10,000 sequences/sample</a>\n",
      "</li><li><a href=\"#alpha\">Calculate alpha diversity for each rarefaction</a>\n",
      "</li><li><a href=\"#subset\">Generate a subset of healthy adults.</a>\n",
      "</li><li>Preform analysis. We will look at several metadata categories:\n",
      "<ul><li><a href=\"#age\">Participant Age</a>\n",
      "</li><li><a href=\"#etoh\">Alcohol Consumption</a>\n",
      "</li><li><a href=\"#season\">Collection Season</a>\n",
      "</li><li><a href=\"#exercise\">Exercise Frequency</a>\n",
      "</li><li><a href=\"#sleep\">Sleep Duration</a>\n",
      "</li></ul>\n",
      "</li><li>Interpret. This is not described in the notebook and left up to end users.\n",
      "</li></ol>"
     ]
    },
    {
     "cell_type": "code",
     "collapsed": false,
     "input": [
      "# Imports necessary functions\n",
      "from os import mkdir\n",
      "from os.path import abspath, join as pjoin, exists\n",
      "from shutil import copy2, move\n",
      "from time import strftime, strptime\n",
      "from numpy import nan, isnan, arange\n",
      "from pandas import read_csv, Series, DataFrame\n",
      "from IPython.display import Image\n",
      "from americangut.diversity_analysis import (check_dir, \n",
      "                                            pad_index,\n",
      "                                            pretty_pandas_boxplot)\n",
      "\n",
      "# Initializes the notebook with inline display\n",
      "%matplotlib inline"
     ],
     "language": "python",
     "metadata": {},
     "outputs": [],
     "prompt_number": 25
    },
    {
     "cell_type": "markdown",
     "metadata": {},
     "source": [
      "<a id=\"filepath\"></a>\n",
      "\n",
      "We can start by setting up some new folders where the data will be downloaded and saved, and filepaths within the folder."
     ]
    },
    {
     "cell_type": "code",
     "collapsed": false,
     "input": [
      "# Gets the base directory for analyses. This is assumed to be the current directory.\n",
      "base_dir = abspath('.')\n",
      "# Creates a directory for handling the data\n",
      "analysis_dir = pjoin(base_dir, 'agp_analysis')\n",
      "check_dir(analysis_dir)\n",
      "\n",
      "# Creates a new directory to put the raw OTU table and mapping file we'll download\n",
      "otu_dir = pjoin(analysis_dir, 'otu_tables') \n",
      "check_dir(otu_dir)\n",
      "raw_dir = pjoin(otu_dir, 'all_samples')\n",
      "check_dir(raw_dir)\n",
      "# Sets up the location filepaths for the raw data\n",
      "raw_otu_zip = pjoin(raw_dir, 'AG_100nt.biom.gz')\n",
      "raw_otu_fp = pjoin(raw_dir, 'AG_100nt.biom')\n",
      "raw_map_fp = pjoin(raw_dir, 'AG_100nt.txt')\n",
      "\n",
      "# Creates a directory where tables split by site should be stored\n",
      "split_dir = pjoin(analysis_dir, 'SplitByBodysite')\n",
      "check_dir(split_dir)\n",
      "\n",
      "# Handles renaming the split files\n",
      "ori_feces_otu_fp = pjoin(split_dir, 'AG_100nt__BODY_SITE_UBERON:feces__.biom')\n",
      "ori_feces_map_fp = pjoin(split_dir, 'AG_100nt__BODY_SITE_UBERON:feces__.txt')\n",
      "raw_feces_otu_fp = pjoin(split_dir, 'AG_100nt_fecal.biom')\n",
      "raw_feces_map_fp = pjoin(split_dir, 'AG_100nt_fecal.txt')\n",
      "\n",
      "# Sets up a directory for rarifaction\n",
      "rare_dir = pjoin(analysis_dir, 'Rarifaction')\n",
      "check_dir(rare_dir)\n",
      "\n",
      "# Sets the filename pattern which will appear for the rarified table\n",
      "rare_pattern_fp = pjoin(rare_dir, 'rarefaction_%i_%i.biom')\n",
      "\n",
      "# Sets up a directory for alpha diverstiy\n",
      "alpha_dir = pjoin(analysis_dir, 'Alpha')\n",
      "check_dir(alpha_dir)\n",
      "\n",
      "# Sets up the alpha diversity filepath\n",
      "alpha_pattern_fp = pjoin(alpha_dir, 'AG_fecal_even10k_alpha_%i.txt')\n",
      "\n",
      "# Sets the reference tree filepath\n",
      "tree_fp = '/Users/jwdebelius/lib/Greengenes/gg_13_8_otus/trees/97_otus.tree'"
     ],
     "language": "python",
     "metadata": {},
     "outputs": [],
     "prompt_number": 19
    },
    {
     "cell_type": "markdown",
     "metadata": {},
     "source": [
      "<a href=\"\">Return to the top</a>\n",
      "\n",
      "<a id=\"parameters\"></a>\n",
      "\n",
      "We can also set a series of parameters for analysis.\n",
      "\n",
      "<ul><li><code>overwrite</code> will force the computer to re-compute tables, even if a file of the same name already exists.\n",
      "<br>This can have values of <code><font color=\"green\">True</font></code> and <code><font color=\"green\">False</font></code>.\n",
      "<br>   \n",
      "\n",
      "</li><li><code>rarefaction_depth</code> determines how many sequences per sample should be randomly selected.<br>\n",
      "We chose 10,000 for this analysis because it balances capturing diversity with retaining samples. The American Gut samples have, on average, more sequences per sample than the samples in the Human Microbiome Project, allowing us to use a deeper rarefaction depth in analyzing the data.\n",
      "\n",
      "</li><li><code>num_rarefactions</code> is the number of times we rarify the data.<br>\n",
      "The more rarefactions calculated, the longer it will take the notebook to run. We selected 10 as a compromise between runtime and capturing a fuller picture of the data.\n",
      "<br>   \n",
      "\n",
      "</li><li><code>alpha_metrics</code> is a comma-delimited string, listing the desired metrics.<br>\n",
      "The current notebook is set to calculate two alpha diversity metrics, PD Whole Tree and Observed Species diversity.\n",
      "\n",
      "</li><li><code>div_metric</code> is the diversity metric to be used during analysis.<br>\n",
      "While we can calculate a variety of diversity metrics, it is advantageous to focus only on one metric during analysis. Here, we use the mean of the ten PD whole tree diversity calculations. PD whole tree diversity was selected for this analysis because it takes into account not only the number of different organisms present, but also their similarity and dissimilarity.\n",
      "<br>   \n",
      "\n",
      "</li><li>The <code>txt_delim</code> character separates cells in our text files. \n",
      "Qiime currently works with tab-delimited text format for metadata and alpha diversity files. The delimiter, <code><font color=\"DC143C\">\\t</font></code> represents a tab character. A comma separated file (csv) uses a comma (<code><font color=\"DC143C\">,</font></code>) delimiter.\n",
      "\n",
      "</li><li><code>map_index</code> is the name of the column containing the sample ids. \n",
      "This is important for integration between pandas-adjusted metadata and downstream Qiime scripts. The required name in Qiime is <code>#SampleID</code>.\n",
      "\n",
      "</li><li><code>map_nas</code> lists possible names for empty data fields. \n",
      "American Gut participants may skip any survey question they do not wish to answer. As a result, the mapping file may contain missing data fields. Pandas data structures handle these fields by specifying a special value, and ignores them in calculations.\n",
      "\n",
      "</li></ul>"
     ]
    },
    {
     "cell_type": "code",
     "collapsed": false,
     "input": [
      "# Overwrite all current files\n",
      "overwrite = False\n",
      "\n",
      "# Sets up rarifaction parameter for 10,000 sequences/sample and 10 rounds of rarifaction.\n",
      "rarifaction_depth = 10000\n",
      "num_rarifactions = 10\n",
      "\n",
      "# Sets the list of alpha diversity metrics to calculate\n",
      "alpha_metrics = 'PD_whole_tree,observed_species'\n",
      "# Lists the alpha diversity metric to use for analysis\n",
      "div_metric = 'PD_whole_tree_mean'\n",
      "\n",
      "# Sets up parameters for when pandas reads and writes data.\n",
      "txt_delim = '\\t'\n",
      "map_index = '#SampleID'\n",
      "map_nas = ['NA', 'no_data', 'unknown']"
     ],
     "language": "python",
     "metadata": {},
     "outputs": [],
     "prompt_number": 8
    },
    {
     "cell_type": "markdown",
     "metadata": {},
     "source": [
      "<a href=\"#top\">Return to the top</a>\n",
      "\n",
      "Now the parameters and directories are set up, let's get started.\n",
      "\n",
      "<a id=\"download\"></a>\n",
      "\n",
      "###1. Download data from GitHub\n",
      "We now use <code>cURL</code> to download the data.\n",
      "If the data has already been downloaded, it will not be downloaded again unless the notebook is explicitly set to <code>Overwrite = <font color=\"green\">True</font></code>.\n",
      "Alternatively, to use previously downloaded tables, change the <code>raw_feces_otu_fp</code> and <code>raw_feces_map_fp</code> in the <a href=\"#filepath\">filepath block</a> to direct the notebook to the appropriate files."
     ]
    },
    {
     "cell_type": "code",
     "collapsed": false,
     "input": [
      "# Gets the biom file\n",
      "if not exists(raw_otu_fp) or overwrite:\n",
      "    # Downloads the compressed biom file\n",
      "    !curl -OL https://github.com/biocore/American-Gut/raw/master/data/AG/AG_100nt.biom.gz --compressed\n",
      "    # Unzips the biom file\n",
      "    !gunzip AG_100nt.biom.gz\n",
      "    # Moves the biom file to its final location\n",
      "    move(pjoin('.', 'AG_100nt.biom'), raw_otu_fp)\n",
      "\n",
      "if not exists(raw_map_fp) or overwrite:\n",
      "    # Downloads the mapping file\n",
      "    !curl -OL https://github.com/biocore/American-Gut/raw/master/data/AG/AG_100nt.txt\n",
      "    move(pjoin('.', 'AG_100nt.txt'), raw_map_fp)"
     ],
     "language": "python",
     "metadata": {},
     "outputs": [
      {
       "output_type": "stream",
       "stream": "stdout",
       "text": [
        "  % Total    % Received % Xferd  Average Speed   Time    Time     Time  Current\r\n",
        "                                 Dload  Upload   Total   Spent    Left  Speed\r\n",
        "\r",
        "  0     0    0     0    0     0      0      0 --:--:-- --:--:-- --:--:--     0"
       ]
      },
      {
       "output_type": "stream",
       "stream": "stdout",
       "text": [
        "\r",
        "100   152    0   152    0     0    184      0 --:--:-- --:--:-- --:--:--   184\r\n"
       ]
      },
      {
       "output_type": "stream",
       "stream": "stdout",
       "text": [
        "\r",
        "  0     0    0     0    0     0      0      0 --:--:-- --:--:-- --:--:--     0"
       ]
      },
      {
       "output_type": "stream",
       "stream": "stdout",
       "text": [
        "\r",
        "  1 5838k    1 87335    0     0  46963      0  0:02:07  0:00:01  0:02:06 89026"
       ]
      },
      {
       "output_type": "stream",
       "stream": "stdout",
       "text": [
        "\r",
        " 20 5838k   20 1186k    0     0   414k      0  0:00:14  0:00:02  0:00:12  597k"
       ]
      },
      {
       "output_type": "stream",
       "stream": "stdout",
       "text": [
        "\r",
        " 32 5838k   32 1872k    0     0   484k      0  0:00:12  0:00:03  0:00:09  627k"
       ]
      },
      {
       "output_type": "stream",
       "stream": "stdout",
       "text": [
        "\r",
        " 43 5838k   43 2568k    0     0   513k      0  0:00:11  0:00:04  0:00:07  623k"
       ]
      },
      {
       "output_type": "stream",
       "stream": "stdout",
       "text": [
        "\r",
        " 54 5838k   54 3194k    0     0   544k      0  0:00:10  0:00:05  0:00:05  639k"
       ]
      },
      {
       "output_type": "stream",
       "stream": "stdout",
       "text": [
        "\r",
        " 67 5838k   67 3960k    0     0   577k      0  0:00:10  0:00:06  0:00:04  774k"
       ]
      },
      {
       "output_type": "stream",
       "stream": "stdout",
       "text": [
        "\r",
        " 83 5838k   83 4889k    0     0   622k      0  0:00:09  0:00:07  0:00:02  741k"
       ]
      },
      {
       "output_type": "stream",
       "stream": "stdout",
       "text": [
        "\r",
        "100 5838k  100 5838k    0     0   660k      0  0:00:08  0:00:08 --:--:--  796k\r\n"
       ]
      },
      {
       "output_type": "stream",
       "stream": "stdout",
       "text": [
        "  % Total    % Received % Xferd  Average Speed   Time    Time     Time  Current\r\n",
        "                                 Dload  Upload   Total   Spent    Left  Speed\r\n",
        "\r",
        "  0     0    0     0    0     0      0      0 --:--:-- --:--:-- --:--:--     0"
       ]
      },
      {
       "output_type": "stream",
       "stream": "stdout",
       "text": [
        "\r",
        "  0     0    0     0    0     0      0      0 --:--:-- --:--:-- --:--:--     0\r",
        "100   148    0   148    0     0    187      0 --:--:-- --:--:-- --:--:--   187\r\n"
       ]
      },
      {
       "output_type": "stream",
       "stream": "stdout",
       "text": [
        "\r",
        "  0     0    0     0    0     0      0      0 --:--:--  0:00:01 --:--:--     0"
       ]
      },
      {
       "output_type": "stream",
       "stream": "stdout",
       "text": [
        "\r",
        "  9 6692k    9  608k    0     0   227k      0  0:00:29  0:00:02  0:00:27  904k"
       ]
      },
      {
       "output_type": "stream",
       "stream": "stdout",
       "text": [
        "\r",
        " 23 6692k   23 1568k    0     0   426k      0  0:00:15  0:00:03  0:00:12  935k"
       ]
      },
      {
       "output_type": "stream",
       "stream": "stdout",
       "text": [
        "\r",
        " 35 6692k   35 2397k    0     0   513k      0  0:00:13  0:00:04  0:00:09  896k"
       ]
      },
      {
       "output_type": "stream",
       "stream": "stdout",
       "text": [
        "\r",
        " 47 6692k   47 3176k    0     0   560k      0  0:00:11  0:00:05  0:00:06  864k"
       ]
      },
      {
       "output_type": "stream",
       "stream": "stdout",
       "text": [
        "\r",
        " 59 6692k   59 3976k    0     0   594k      0  0:00:11  0:00:06  0:00:05  848k"
       ]
      },
      {
       "output_type": "stream",
       "stream": "stdout",
       "text": [
        "\r",
        " 71 6692k   71 4804k    0     0   626k      0  0:00:10  0:00:07  0:00:03  839k"
       ]
      },
      {
       "output_type": "stream",
       "stream": "stdout",
       "text": [
        "\r",
        " 86 6692k   86 5792k    0     0   667k      0  0:00:10  0:00:08  0:00:02  844k"
       ]
      },
      {
       "output_type": "stream",
       "stream": "stdout",
       "text": [
        "\r",
        "100 6692k  100 6692k    0     0   701k      0  0:00:09  0:00:09 --:--:--  882k\r\n"
       ]
      }
     ],
     "prompt_number": 9
    },
    {
     "cell_type": "markdown",
     "metadata": {},
     "source": [
      "<a href=\"#top\">Return to the top</a>\n",
      "\n",
      "<a id=\"split\"></a>\n",
      "\n",
      "###2. Splits the OTU table by Body Site\n",
      "\n",
      "For more information on splitting out tables using a metadata field, see the <a href=\"http://qiime.org/scripts/split_otu_table.html\">Qiime documentation</a>. <br><em>Note: due to the size of the table, this takes about an hour to run on a laptop with 8gb memory.</em>"
     ]
    },
    {
     "cell_type": "code",
     "collapsed": false,
     "input": [
      "raw_feces_otu_fp"
     ],
     "language": "python",
     "metadata": {},
     "outputs": [
      {
       "metadata": {},
       "output_type": "pyout",
       "prompt_number": 17,
       "text": [
        "'/Users/jwdebelius/Repositories/American-Gut/ipynb/agp_analysis/SplitByBodysite/AG_100nt_fecal.biom'"
       ]
      }
     ],
     "prompt_number": 17
    },
    {
     "cell_type": "code",
     "collapsed": false,
     "input": [
      "# Splits the otu table by body site\n",
      "if not exists(raw_feces_otu_fp) or overwrite:\n",
      "    !split_otu_table.py -i $raw_otu_fp -m $raw_map_fp -f BODY_SITE -o $split_dir\n",
      "\n",
      "    # Renames the fecal files to something tidier\n",
      "    copy2(ori_feces_otu_fp, raw_feces_otu_fp)\n",
      "    copy2(ori_feces_map_fp, raw_feces_map_fp)"
     ],
     "language": "python",
     "metadata": {},
     "outputs": [],
     "prompt_number": 21
    },
    {
     "cell_type": "markdown",
     "metadata": {},
     "source": [
      "<a href=\"#top\">Return to the top</a>\n",
      "\n",
      "<a id=\"rare\"></a>\n",
      "\n",
      "###3. Rarify the table\n",
      "\n",
      "<p>Next, we rarefy the data to 10,000 sequences per sample. This depth was chosen since it balances a better picture of diversity with retaining samples. Rarefaction begins by removing samples from the table which do not have the minimum number of counts. Sequences are then drawn randomly out of a weighted pool until we reach the appropriate number. </p>\n",
      "\n",
      "Rarefaction is necessary to make intra sample diversity comparisons possible. Below is a panel from Figure 1 of <a href=\"http://jnci.oxfordjournals.org/content/early/2013/11/27/jnci.djt300.full\">Human Gut Microbiome and Risk of Colorectal Cancer</a> (Ahn et al, 2013). The figure compares <a href=\"http://en.wikipedia.org/wiki/Diversity_index#Shannon_index\">Shannon Diversity</a> between individuals with colorectal cancer (n=47, red circles) and healthy controls (n=94, empty triangles) over several rarefaction depths, or sequence counts per sample. The figure also illustrates the importance of even sampling depth. If a control sample with 500 sequences per sample were compared with a cancer sample at a depth of 2500 sequences per sample, the cancer sample would appear more diverse. Comparisons at the same depth reveal the true pattern in the data: cancer samples are less diverse than controls.\n"
     ]
    },
    {
     "cell_type": "code",
     "collapsed": false,
     "input": [
      "Image(url='https://github.com/biocore/American-Gut/blob/master/ipynb/images/ahn2013jncicolorectalf1.jpg?raw=true', \n",
      "      height=300, width=300*4/3)"
     ],
     "language": "python",
     "metadata": {},
     "outputs": [
      {
       "html": [
        "<img src=\"https://github.com/biocore/American-Gut/blob/master/ipynb/images/ahn2013jncicolorectalf1.jpg?raw=true\" width=\"400\" height=\"300\"/>"
       ],
       "metadata": {},
       "output_type": "pyout",
       "prompt_number": 22,
       "text": [
        "<IPython.core.display.Image at 0x10bd41690>"
       ]
      }
     ],
     "prompt_number": 22
    },
    {
     "cell_type": "markdown",
     "metadata": {},
     "source": [
      "<p>To control for bias which might occur with a single, random subsampling of the data, we use multiple rounds of rarefaction to more accurately estimate the alpha diversity.</p>\n",
      "<p><em>Note: due to the size of the table, this takes about an hour to run on a laptop with 8gb of memory.</em></p>"
     ]
    },
    {
     "cell_type": "code",
     "collapsed": false,
     "input": [
      "# Preforms multiple rarifactions at an even depth\n",
      "if not exists(rare_pattern_fp % (rarifaction_depth, 0)) or overwrite:\n",
      "    !multiple_rarefactions_even_depth.py -i $raw_feces_otu_fp -o $rare_dir -d $rarifaction_depth -n $num_rarifactions  --lineages_included"
     ],
     "language": "python",
     "metadata": {},
     "outputs": [],
     "prompt_number": 23
    },
    {
     "cell_type": "markdown",
     "metadata": {},
     "source": [
      "<a href=\"#top\">Return to the top</a>\n",
      "\n",
      "<a id=\"alpha\"></a>\n",
      "\n",
      "###4. Calculates alpha diversity for the samples\n",
      "Alpha diversity is a measure of intra sample diversity, or how much variability we find in each sample. There are a variety of ways to calculate alpha diversity. This notebook will calculate two metrics: Observed Species Diversity and PD Whole Tree Diversity.\n",
      "\n",
      "<a href=\"http://scikit-bio.org/generated/skbio.math.diversity.alpha.observed_otus.html#skbio.math.diversity.alpha.observed_otus\">Observed Species Diversity</a>  counts the number of bacterial species in a sample. Imagine looking at three households. In household one, there are three humans. In household two, there is a human, a dog, and a rat. In household three, there is a human, a dog, and a bearded dragon. Using observed species diversity, we would say that household one is less diverse than Household two and three, which by Observed species diversity are equally diverse. (H<sub>1</sub> < H<sub>2</sub> = H<sub>3</sub>).\n",
      "\n",
      "However, when examining diversity, it can be useful to look beyond just the number of bacterial species present, and instead look at some of the bacterial traits. <a href=\"http://www.sciencemag.org/content/308/5728/1635.full\">PD Whole Tree Diversity</a> is a diversity metric which takes into account the evolutionary similarity between different bacterial species. For example, going back to the households we talked about earlier, household one with its three humans would again be the least diverse, because we are only looking at one species. Household two and household three both have the same number of species, but household three would be considered more diverse since it contains a reptile (the bearded dragon) while household two only contains mammals, and mammals are more similar to each other than a reptile. (H<sub>1</sub> < H<sub>2</sub> < H<sub>3</sub>)."
     ]
    },
    {
     "cell_type": "code",
     "collapsed": false,
     "input": [
      "# Sets up a holding object for the alpha diversity\n",
      "alpha_rounds = {'%s' % m:{} for m in alpha_metrics.split(',')}\n",
      "\n",
      "# Calculates the alpha diversity for each round\n",
      "for i in arange(0, 10):\n",
      "    rare_fp = rare_pattern_fp % (rarifaction_depth, i)\n",
      "    alpha_fp = alpha_pattern_fp % i\n",
      "    # Calculates the alpha diversity\n",
      "    if not exists(alpha_fp):\n",
      "        !alpha_diversity.py -i $rare_fp -o $alpha_fp -m $alpha_metrics -t $tree_fp\n",
      "\n",
      "    # Reads in the alpha diversity\n",
      "    alpha = pad_index(read_csv(alpha_fp, sep='\\t'), 'Unnamed: 0')\n",
      "\n",
      "    # Pulls out the data\n",
      "    for col in alpha_rounds:\n",
      "        alpha_rounds['%s' %col]['%i' % i] = alpha[col]\n",
      "        alpha_rounds['%s' %col]['%i' % i].name = '%i' % i\n",
      "        \n",
      "# Calculates the mean, median and standard deviaton between rounds\n",
      "metrics = {}\n",
      "for metric in alpha_rounds:\n",
      "    metrics['%s_mean' % metric] = DataFrame(alpha_rounds[metric]).mean(1)\n",
      "    metrics['%s_stdv' % metric] = DataFrame(alpha_rounds[metric]).std(1)\n",
      "    metrics['%s_med' % metric] = DataFrame(alpha_rounds[metric]).median(1)\n",
      "    \n",
      "# Adds the alpha diversity to the mapping file\n",
      "aw_map = pad_index(read_csv(raw_map_fp, \n",
      "                            sep=txt_delim, \n",
      "                            na_values=map_nas),\n",
      "                   index_col=map_index)\n",
      "alpha_df = DataFrame(metrics)\n",
      "if '%s_mean' % alpha_rounds.keys()[0] not in aw_map.columns:\n",
      "    aw_map = aw_map.join(alpha_df)"
     ],
     "language": "python",
     "metadata": {},
     "outputs": [],
     "prompt_number": 26
    },
    {
     "cell_type": "markdown",
     "metadata": {},
     "source": [
      "After reading in the mapping file, we can remove any sample which did not contain the 10,000 sequences/sample we requested using rarefaction. Since the missing alpha diversity is stored as a Not a Number (<code>nan</code>) value, we will ask the computer to only keep metadata rows where the alpha diversity is not <code>nan</code>."
     ]
    },
    {
     "cell_type": "code",
     "collapsed": false,
     "input": [
      "aw_map = aw_map.groupby(isnan(aw_map['%s_mean' % alpha_rounds.keys()[0]])).get_group(False)"
     ],
     "language": "python",
     "metadata": {},
     "outputs": [],
     "prompt_number": 27
    },
    {
     "cell_type": "markdown",
     "metadata": {},
     "source": [
      "<a href=\"#top\">Return to the top</a>\n",
      "\n",
      "<a id=\"subset\"></a>\n",
      "\n",
      "###5. Filters out samples with known effects on diversity.\n",
      "\n",
      "<p>Certain health aspects of participants may have known influences on alpha diversity which overwhelms other potential influences. As a result, we chose to filter out individuals who may belong to a group which confounds the data.</p>\n",
      "\n",
      "<p><a href=\"http://www.pnas.org/content/108/Supplement_1/4554.long\">Recent antibiotic use</a> has been shown to affect alpha diversity; only participants who reported not using antibiotics in the last year were considered in this analysis.</p>\n",
      "\n",
      "<p><a href=\"http://www.ncbi.nlm.nih.gov/pubmed/23013615\">Inflammatory Bowel Disease</a>\n",
      "and \n",
      "<a href=\"http://www.ncbi.nlm.nih.gov/pubmed/20140211\">Type II diabetes</a>\n",
      "are associated with decreased alpha diversity compared to age-matched controls. \n",
      "Studies examining alpha diversity in Type I diabetes have been somewhat inconclusive. \n",
      "<a href=\"http://www.ncbi.nlm.nih.gov/pubmed/20613793\">Giongo et al, 2011</a>\n",
      "showed decreased diversity in diabetics (<em>n</em>=4) compared to controls (<em>n</em>=4) over time, while \n",
      "<a href=\"http://www.ncbi.nlm.nih.gov/pubmed/24448554\">Mej\u00eda-Leon et al, 2014</a>\n",
      "found no significant difference in alpha diversity between controls (<em>n</em>=8), newly diagnosed cases (<em>n</em>=8) and children who had been diabetic for more than two years (<em>n</em>=13) at a single time point. We chose to be conservative and exclude type I diabetics from this dataset. \n",
      "\n",
      "A relationship between \n",
      "<a href=\"http://www.ncbi.nlm.nih.gov/pmc/articles/PMC2677729/\">obesity</a>\n",
      "and lower alpha diversity has also been previously observed. In addition, we found that individuals who were considered underweight also had lower diversity than people in the \"normal\" or \"overweight\" BMI categories. As a result, we selected only to include subjects who had a BMI between 18.5 and 30.\n",
      "\n",
      "We removed anyone under the age of 20 for three reasons: \n",
      "<a href=\"http://www.ncbi.nlm.nih.gov/pubmed/22699611\">young children</a>\n",
      "have low diversity compared to adults. \n",
      "<a href=\"http://win.niddk.nih.gov/statistics/\">BMI qualifications in children under 18</a>\n",
      "into categories such as \"underweight\", \"normal\", and \"overweight\" depend on the child's age and gender. Finally, we considered alcohol consumption as a variable which might affect alpha diversity. Since the overwhelming majority of American Gut participants are American, we chose to set the lower limit of the age range near the legal drinking age to remove potential age-related biases.\n",
      "\n",
      "To filter the data, we define a series of filter functions. A sample must pass all five filter functions to be used in analysis. For large sets of data, it is more convenient to define a single filtered set using the Pandas function, <a href=\"http://pandas.pydata.org/pandas-docs/dev/generated/pandas.DataFrame.apply.html\"><code>apply</code></a> and then splitting the table based on the aggregated results, rather than splitting the table individually using each filter function."
     ]
    },
    {
     "cell_type": "code",
     "collapsed": false,
     "input": [
      "# Defines the filtering functions for alpha diversity\n",
      "subset_f = {'AGE': lambda x: 19 < x and not isnan(x),          \n",
      "            'DIABETES': lambda x: x == 'I do not have diabetes',\n",
      "            'IBD': lambda x: x == 'I do not have IBD',\n",
      "            'ANTIBIOTIC_SELECT': lambda x: x == 'Not in the last year',\n",
      "            'BMI': lambda x: 18.5 <= x < 30 and not isnan(x)}\n",
      "\n",
      "# Determines which samples meet the requirements of the categories\n",
      "new_bin = {}\n",
      "for cat, f in subset_f.iteritems():\n",
      "    new_bin[cat] = aw_map[cat].apply(f)\n",
      "\n",
      "# Builds up the new binary dataframe\n",
      "bin_frame = DataFrame(new_bin)\n",
      "\n",
      "# Adds a column to the current dataframe to look at the subset\n",
      "bin_series = DataFrame(new_bin).all(1)\n",
      "\n",
      "# Filters the original mapping file so only samples which satisfy the criteria are included in the new metadata file.\n",
      "sw_map = aw_map.groupby(bin_series).get_group(True)"
     ],
     "language": "python",
     "metadata": {},
     "outputs": [],
     "prompt_number": 28
    },
    {
     "cell_type": "markdown",
     "metadata": {},
     "source": [
      "<a href=\"#top\">Return to the top</a>\n",
      "\n",
      "###6. Analysis\n",
      "\n",
      "<a id=\"age\"></a>\n",
      "\n",
      "####Age in years\n",
      "The microbiome changes throughout an individual's life time. Drastic shifts are seen within the \n",
      "<a href=\" http://www.ncbi.nlm.nih.gov/pubmed/22699611\">first three years of life</a>,\n",
      "when the microbiome is generally believed to be settling into an adult configuration. \n",
      "<a href=\"http://www.ncbi.nlm.nih.gov/pubmed/21624126\">Looking at an indiviudal over time</a>\n",
      "shows changes in an indiivudal, although the changes within an individual are smaller than the difference between two individuals or two body sites ont he same individual. \n",
      "\n",
      "Here, we can use the clean subset of adults to look for changes in diversity as a population ages. Participants provided their age in years, or were free to skip the question. However, sometimes it's easier to see patterns if we can create groups in the data. We can convert continous data to categorical data in two steps:\n",
      "<ol><li>Define a mapping dictionary with partitions. Here, we use <a href=\"https://docs.python.org/2/tutorial/controlflow.html#if-statements\">if statements</a> in our function.\n",
      "</li><li>Apply the function to the continous data column, and save it to a new column in the data frame.\n",
      "</li></ol>\n",
      "\n",
      "\n",
      "We're going to map continous age into decade. So, we'll use if/else logic to convert to decades."
     ]
    },
    {
     "cell_type": "code",
     "collapsed": false,
     "input": [
      "def convert_age(x):\n",
      "    \"\"\"Converts continous age to decade categories\"\"\"\n",
      "    if isnan(x):\n",
      "        return x\n",
      "    elif x < 30:\n",
      "        return \"20s\" \n",
      "    elif x < 40:\n",
      "        return \"30s\"\n",
      "    elif x < 50:\n",
      "        return \"40s\"\n",
      "    elif x < 60:\n",
      "        return \"50s\"\n",
      "    else:\n",
      "        return \"60+\"\n",
      "age = sw_map['AGE'].apply(convert_age)\n",
      "    \n",
      "# Applies the function to create a new column, AGE_CAT\n",
      "sw_map['AGE_CAT'] = age"
     ],
     "language": "python",
     "metadata": {},
     "outputs": [],
     "prompt_number": 32
    },
    {
     "cell_type": "markdown",
     "metadata": {},
     "source": [
      "Since age by decade has an order, and that order is important in our ability to understand and interpret what we're seeing, we can set the order automatically."
     ]
    },
    {
     "cell_type": "code",
     "collapsed": false,
     "input": [
      "age_order = ['20s', '30s', '40s', '50s', '60+']"
     ],
     "language": "python",
     "metadata": {},
     "outputs": [],
     "prompt_number": 33
    },
    {
     "cell_type": "markdown",
     "metadata": {},
     "source": [
      "We approached the question of age by looking at the PD whole tree diversity within the subjects. We started by using \n",
      "<a href=\"http://en.wikipedia.org/wiki/Box_plot\">boxplots</a> and a \n",
      "<a href=\"http://en.wikipedia.org/wiki/Kruskal\u2013Wallis_one-way_analysis_of_variance\">krushkal-wallis</a>\n",
      "test to compare alpha diversity between groups. In the boxplots shown below, the notch indicates a parametric 95% confidence interval."
     ]
    },
    {
     "cell_type": "code",
     "collapsed": false,
     "input": [
      "a_fig = pretty_pandas_boxplot(sw_map,\n",
      "                              'AGE_CAT',\n",
      "                              order=age_order,\n",
      "                              cat=div_metric,\n",
      "                              ylabel='PD Whole Tree Diversity',\n",
      "                              title='Age by Decade',\n",
      "                              ylim=[10, 55])"
     ],
     "language": "python",
     "metadata": {},
     "outputs": [
      {
       "metadata": {},
       "output_type": "display_data",
       "png": "[encoded data removed]",
       "text": [
        "<matplotlib.figure.Figure at 0x10c393a90>"
       ]
      }
     ],
     "prompt_number": 40
    },
    {
     "cell_type": "markdown",
     "metadata": {},
     "source": [
      "The box plots suggest that alpha diversity increases as age increases. \n",
      "\n",
      "<a href=\"#top\">Return to the top</a>\n",
      "\n",
      "<a id=\"etoh\"></a>\n",
      "\n",
      "####Alcohol Frequency\n",
      "<p>With the clean subset of data, we can start investigating the data. \n",
      "One question of interest to our group was the effect of alcohol consumption on diversity of the gut microbiome.</p>"
     ]
    },
    {
     "cell_type": "code",
     "collapsed": false,
     "input": [
      "# Identifies the metadata category being analyzed\n",
      "category = 'ALCOHOL_FREQUENCY'"
     ],
     "language": "python",
     "metadata": {},
     "outputs": [],
     "prompt_number": 41
    },
    {
     "cell_type": "markdown",
     "metadata": {},
     "source": [
      "We asked participants about their frequency of alcohol consumption, providing the options \"<code>Never</code>\", \"<code>Rarely, a few times/month</code>\", \"<code>Occasionally, 1-2 times/week</code>\", \"<code>Regularly, 3-5 times/week</code>\" and \"<code>Daily</code>\". Partipants were also free to skip this question.\n",
      "\n",
      "Because of the lenght of many group names, we chose to shorten them."
     ]
    },
    {
     "cell_type": "code",
     "collapsed": false,
     "input": [
      "# Applies the function.\n",
      "sw_map.loc[sw_map.ALCOHOL_FREQUENCY=='Rarely (few times/month)', 'ALCOHOL_FREQUENCY'] = 'Rarely'\n",
      "sw_map.loc[sw_map.ALCOHOL_FREQUENCY=='Occasionally (1-2 times/week)', 'ALCOHOL_FREQUENCY'] = 'Occasionally'\n",
      "sw_map.loc[sw_map.ALCOHOL_FREQUENCY=='Regularly (3-5 times/week)', 'ALCOHOL_FREQUENCY'] = 'Regularly'"
     ],
     "language": "python",
     "metadata": {},
     "outputs": [],
     "prompt_number": 43
    },
    {
     "cell_type": "markdown",
     "metadata": {},
     "source": [
      "Because of the inherent ordinal nature of the data, we choose to order groups in ascending order of their consumption frequency. If we do not define this order, the  plotting function will sort the data alphabetically, which will make less sense."
     ]
    },
    {
     "cell_type": "code",
     "collapsed": false,
     "input": [
      "order = ['Never', 'Rarely', 'Occasionally', 'Regularly', 'Daily']"
     ],
     "language": "python",
     "metadata": {},
     "outputs": [],
     "prompt_number": 44
    },
    {
     "cell_type": "markdown",
     "metadata": {},
     "source": [
      "We then generated a boxplot and post-hoc analysis for the alcohol frequency"
     ]
    },
    {
     "cell_type": "code",
     "collapsed": false,
     "input": [
      "fig= pretty_pandas_boxplot(sw_map,\n",
      "                           category,\n",
      "                           order=order,\n",
      "                           cat=div_metric,\n",
      "                           ylabel='PD Whole Tree Diversity',\n",
      "                           title='Alcohol Frequency',\n",
      "                           ylim=[10, 55])"
     ],
     "language": "python",
     "metadata": {},
     "outputs": [
      {
       "metadata": {},
       "output_type": "display_data",
       "png": "[encoded data removed]",
       "text": [
        "<matplotlib.figure.Figure at 0x10bcebe50>"
       ]
      }
     ],
     "prompt_number": 48
    },
    {
     "cell_type": "markdown",
     "metadata": {},
     "source": [
      "The post-hoc test shows that adults who don't drink have signifignatly lower PD whole tree alpha diversity than any group of adults who consume alcohol, and that the frequency of consumption does not siginfigantly increase the diversity between the groups of drinkers.\n",
      "\n",
      "<a href=\"#top\">Return to the top</a>\n",
      "\n",
      "<a id=\"season\"></a>\n",
      "\n",
      "####Collection Month\n",
      "\n",
      "<p>Another area of interest for our group was to look at the effect of season on the human gut microbiome. Previous work has shown seasonal effects on alpha diversity on the microbiome of a variety of environments, including the \n",
      "<a href=\"http://www.ncbi.nlm.nih.gov/pubmed/22071345\">English Channel</a>\n",
      "and \n",
      "<a href= \"http://www.ncbi.nlm.nih.gov/pubmed/23152108\">squirrels gut microbiomes</a>\n",
      ". A recently published paper examined seasonal variation in \n",
      "<a href=\"http://www.ncbi.nlm.nih.gov/pubmed/24618913\">Hutterite communities of South Dakota</a>\n",
      ".</p>\n",
      "\n",
      "<p>Before submitting samples for analysis, participants were asked for the collection date and time. We chose to look at alpha diversity during the year, combining samples collected in 2013 and 2014 into months. The information was stored as a standard calendar date, and so, to get the month, we once again have to parse the data. In this case, we will create a new metadata category for the parsed field.</p>"
     ]
    },
    {
     "cell_type": "code",
     "collapsed": false,
     "input": [
      "# Sets up the category parameters\n",
      "category = 'COLLECTION_MONTH'\n",
      "base_cat = 'COLLECTION_DATE'\n",
      "\n",
      "# Sets a function to convert the collection date, if necessary\n",
      "def get_month(date_str):\n",
      "    \"\"\"converts a date to a month string\"\"\"\n",
      "    if len(date_str) > 8:\n",
      "        return strftime('%B', strptime(date_str, '%m/%d/%Y'))\n",
      "    else:\n",
      "        return strftime('%B', strptime(date_str, '%m/%d/%y'))\n",
      "# Converts the collection date\n",
      "if category not in sw_map.columns:\n",
      "    sw_map[category]= sw_map[base_cat].apply(get_month)"
     ],
     "language": "python",
     "metadata": {},
     "outputs": [],
     "prompt_number": 50
    },
    {
     "cell_type": "markdown",
     "metadata": {},
     "source": [
      "We set the calender order for the months, since, once again, the order of the data matters, and we generate a boxplot. This boxplot uses rotated axis labels to allow everything to fit."
     ]
    },
    {
     "cell_type": "code",
     "collapsed": false,
     "input": [
      "order = ['January', 'February', 'March', 'April', 'May', 'June', \n",
      "         'July', 'August', 'September', 'October', 'November', \n",
      "         'December']\n",
      "\n",
      "fig = pretty_pandas_boxplot(sw_map,\n",
      "                            category,\n",
      "                            order=order,\n",
      "                            cat='PD_whole_tree_mean',\n",
      "                            ylabel='PD Whole Tree Diversity',\n",
      "                            title='Collection Month',\n",
      "                            xfont_angle=45,\n",
      "                            xfont_align='right',\n",
      "                            ylim=[10, 55])"
     ],
     "language": "python",
     "metadata": {},
     "outputs": [
      {
       "metadata": {},
       "output_type": "display_data",
       "png": "[encoded data removed]",
       "text": [
        "<matplotlib.figure.Figure at 0x10bcef510>"
       ]
      }
     ],
     "prompt_number": 52
    },
    {
     "cell_type": "markdown",
     "metadata": {},
     "source": [
      "The boxplot of collection month suggests that alpha diversity is higher in the late fall and early winter (November, December, January) than other months.\n",
      "\n",
      "<a href=\"#top\">Return to the top</a>\n",
      "\n",
      "<a id=\"exercise\"></a>\n",
      "\n",
      "####Exercise\n",
      "We also had questions about the effect of exercise on the microbiome. Particiapants were asked if they exercised <code>Never</code>, <code>Rarely, (few times/month)</code>, <code>Occasionally (1-2 times/week)</code>, <code>Regularly, (3-5 times/week)</code> and <code>Daily</code>. They were also asked where they exercised: <code>Indoors</code>, <code>Outdoors</code>, <code>Both</code>, <code>Depends on the season</code> and <code>None of the above</code>. Partipants were also free to omit this question.\n",
      "\n",
      "We're going to start by looking at the effect of exercise frequency. We'll start by checking the number of samples in each group, since we need a certain number of samples to be able to make a fair comparison between categories. "
     ]
    },
    {
     "cell_type": "code",
     "collapsed": false,
     "input": [
      "order_1 = ['Never', 'Rarely (few times/month)', 'Occasionally (1-2 times/week)',\n",
      "           'Regularly (3-5 times/week)', 'Daily']\n",
      "sw_map.groupby('EXERCISE_FREQUENCY').count().PD_whole_tree_mean.loc[order_1]"
     ],
     "language": "python",
     "metadata": {},
     "outputs": [
      {
       "metadata": {},
       "output_type": "pyout",
       "prompt_number": 53,
       "text": [
        "EXERCISE_FREQUENCY\n",
        "Never                             14\n",
        "Rarely (few times/month)          72\n",
        "Occasionally (1-2 times/week)    178\n",
        "Regularly (3-5 times/week)       405\n",
        "Daily                            235\n",
        "Name: PD_whole_tree_mean, dtype: int64"
       ]
      }
     ],
     "prompt_number": 53
    },
    {
     "cell_type": "markdown",
     "metadata": {},
     "source": [
      "Of 904 samples in the healthy subset for rounds 1-10, only 14 individuals report <code>Never</code> exercising, so we'll combine them with the people who report rarely exercising. As a result, we combine samples from people who report never exercising and people who report rarely exercising into a single category, <code>Rarely</code>. We also remove the long descriptors from the map name."
     ]
    },
    {
     "cell_type": "code",
     "collapsed": false,
     "input": [
      "# Applies the function.\n",
      "sw_map.loc[sw_map.EXERCISE_FREQUENCY=='Never','EXERCISE_FREQUENCY'] = 'Rarely'\n",
      "sw_map.loc[sw_map.EXERCISE_FREQUENCY=='Rarely (few times/month)','EXERCISE_FREQUENCY'] = 'Rarely'\n",
      "sw_map.loc[sw_map.EXERCISE_FREQUENCY=='Occasionally (1-2 times/week)','EXERCISE_FREQUENCY'] = 'Occasionally'\n",
      "sw_map.loc[sw_map.EXERCISE_FREQUENCY=='Regularly (3-5 times/week)','EXERCISE_FREQUENCY'] = 'Regularly'"
     ],
     "language": "python",
     "metadata": {},
     "outputs": [],
     "prompt_number": 54
    },
    {
     "cell_type": "markdown",
     "metadata": {},
     "source": [
      "Let's use a boxplot to visualize the exercise frequency. Again, we'll set an order for the data."
     ]
    },
    {
     "cell_type": "code",
     "collapsed": false,
     "input": [
      "# Sets the frequency order\n",
      "order = ['Rarely', 'Occasionally', 'Regularly', 'Daily']\n",
      "\n",
      "# Generates a boxplot\n",
      "fig = pretty_pandas_boxplot(sw_map,\n",
      "                            'EXERCISE_FREQUENCY',\n",
      "                            order=order,\n",
      "                            cat=div_metric,\n",
      "                            ylabel='PD Whole Tree Diversity',\n",
      "                            title='Exercise Frequency',\n",
      "                            ylim=[10, 55])"
     ],
     "language": "python",
     "metadata": {},
     "outputs": [
      {
       "metadata": {},
       "output_type": "display_data",
       "png": "[encoded data removed]",
       "text": [
        "<matplotlib.figure.Figure at 0x10c38ce50>"
       ]
      }
     ],
     "prompt_number": 57
    },
    {
     "cell_type": "markdown",
     "metadata": {},
     "source": [
      "Exercise frequency has some effect; we can also look at the influence of exercise location on alpha diversity. In rounds 1-10, there are only 10 people who report the <code>None of the above</code> category. "
     ]
    },
    {
     "cell_type": "code",
     "collapsed": false,
     "input": [
      "sw_map.groupby('EXERCISE_LOCATION').count().PD_whole_tree_mean"
     ],
     "language": "python",
     "metadata": {},
     "outputs": [
      {
       "metadata": {},
       "output_type": "pyout",
       "prompt_number": 58,
       "text": [
        "EXERCISE_LOCATION\n",
        "Both                     290\n",
        "Depends on the season    106\n",
        "Indoors                  176\n",
        "None of the above         10\n",
        "Outdoors                 286\n",
        "Name: PD_whole_tree_mean, dtype: int64"
       ]
      }
     ],
     "prompt_number": 58
    },
    {
     "cell_type": "markdown",
     "metadata": {},
     "source": [
      "For the sake of simplicity, let's treat this as an unknown answer, since the category is so small compared to the rest of the data that our krushkall wallis will be more prone to error. Let's also shorten \"Depends on the season\" to \"Depends\" to make the x-axis labels cleaner."
     ]
    },
    {
     "cell_type": "code",
     "collapsed": false,
     "input": [
      "sw_map.loc[sw_map.EXERCISE_LOCATION=='Depends on the season','EXERCISE_LOCATION'] = 'Depends'\n",
      "sw_map.loc[sw_map.EXERCISE_LOCATION=='None of the above','EXERCISE_LOCATION'] = nan"
     ],
     "language": "python",
     "metadata": {},
     "outputs": [],
     "prompt_number": 59
    },
    {
     "cell_type": "markdown",
     "metadata": {},
     "source": [
      "We can now create a boxplot of the exericse location. "
     ]
    },
    {
     "cell_type": "code",
     "collapsed": false,
     "input": [
      "# Generates a boxplot\n",
      "fig = pretty_pandas_boxplot(sw_map,\n",
      "                            'EXERCISE_LOCATION',\n",
      "                            order=None,\n",
      "                            cat=div_metric,\n",
      "                            ylabel='PD Whole Tree Diversity',\n",
      "                            title='Exercise Frequency',\n",
      "                            ylim=[10, 55])"
     ],
     "language": "python",
     "metadata": {},
     "outputs": [
      {
       "metadata": {},
       "output_type": "display_data",
       "png": "[encoded data removed]",
       "text": [
        "<matplotlib.figure.Figure at 0x10c321410>"
       ]
      }
     ],
     "prompt_number": 63
    },
    {
     "cell_type": "markdown",
     "metadata": {},
     "source": [
      "<a href=\"#top\">Return to the top</a>\n",
      "\n",
      "<a id=\"sleep\"></a>\n",
      "\n",
      "####Sleep Duration\n",
      "We also decided to look at the effect of sleep duration on microbial diversity. We asked participants how much sleep they got, on average. Options were <code>Less than 5 hours</code>, <code>5-6 hours</code>, <code>6-7 hours</code>, <code>7-8 hours</code> or <code>8 or more hours</code> or to leave the question blank. It seems unlikely that many people would sleep less than 5 hours, so we start by checking the number of indiviudals who gave each response."
     ]
    },
    {
     "cell_type": "code",
     "collapsed": false,
     "input": [
      "order = ['Less than 5 hours', '5-6 hours', '6-7 hours', '7-8 hours', '8 or more hours']\n",
      "sw_map.groupby('SLEEP_DURATION').count().PD_whole_tree_mean[order]"
     ],
     "language": "python",
     "metadata": {},
     "outputs": [
      {
       "metadata": {},
       "output_type": "pyout",
       "prompt_number": 64,
       "text": [
        "SLEEP_DURATION\n",
        "Less than 5 hours     12\n",
        "5-6 hours             63\n",
        "6-7 hours            293\n",
        "7-8 hours            398\n",
        "8 or more hours      132\n",
        "Name: PD_whole_tree_mean, dtype: int64"
       ]
      }
     ],
     "prompt_number": 64
    },
    {
     "cell_type": "markdown",
     "metadata": {},
     "source": [
      "In rounds 1-10, there were only 12 people who reported sleeping less than five hours a night. Let's combine these individuals with people who sleep betwen 5 and 6 hours a night into a category we'll call <code>Less than 6 hours</code>."
     ]
    },
    {
     "cell_type": "code",
     "collapsed": false,
     "input": [
      "# Applies the fucntion to the table\n",
      "sw_map.loc[sw_map.SLEEP_DURATION=='Less than 5 hours','SLEEP_DURATION'] = 'Less than 6 hours'\n",
      "sw_map.loc[sw_map.SLEEP_DURATION=='5-6 hours','SLEEP_DURATION'] = 'Less than 6 hours'"
     ],
     "language": "python",
     "metadata": {},
     "outputs": [],
     "prompt_number": 65
    },
    {
     "cell_type": "markdown",
     "metadata": {},
     "source": [
      "This data is also intrinsically ordered, so lets set an order to make sure the results make sense when we plot them."
     ]
    },
    {
     "cell_type": "code",
     "collapsed": false,
     "input": [
      "sleep_order = ['Less than 6 hours', '6-7 hours', '7-8 hours', '8 or more hours']"
     ],
     "language": "python",
     "metadata": {},
     "outputs": [],
     "prompt_number": 66
    },
    {
     "cell_type": "markdown",
     "metadata": {},
     "source": [
      "Now, we can generate a boxplot showing the changes in alpha diversity associated with sleep."
     ]
    },
    {
     "cell_type": "code",
     "collapsed": false,
     "input": [
      "fig = pretty_pandas_boxplot(sw_map,\n",
      "                            'SLEEP_DURATION',\n",
      "                            order=sleep_order,\n",
      "                            cat=div_metric,\n",
      "                            ylabel='PD Whole Tree Diversity',\n",
      "                            title='Sleep Duration',\n",
      "                            ylim=[10, 55])"
     ],
     "language": "python",
     "metadata": {},
     "outputs": [
      {
       "metadata": {},
       "output_type": "display_data",
       "png": "[encoded data removed]",
       "text": [
        "<matplotlib.figure.Figure at 0x10c3214d0>"
       ]
      }
     ],
     "prompt_number": 69
    },
    {
     "cell_type": "markdown",
     "metadata": {},
     "source": [
      "People who sleep longer appear to have higher alpha diversity.\n",
      "\n",
      "<a href=\"#top\">Return to the top</a>"
     ]
    }
   ],
   "metadata": {}
  }
 ]
}