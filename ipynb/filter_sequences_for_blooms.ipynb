{
 "cells": [
  {
   "cell_type": "markdown",
   "metadata": {},
   "source": [
    "Early in the American Gut Project, it was observed that some organisms bloomed likely as a result of increased shipping time and delay between when samples were collected and when they were put on ice (more detail can be found [here](http://americangut.org/?page_id=277)). The purpose of this notebook is to apply the filter developed in order to bioinformatically subtract these observed bloom sequences from fecal samples. It is important to apply this filter when combining data with the American Gut as to remove a potential study-effect bias as all fecal data in the American Gut has had this filter applied. The specific steps covered are:\n",
    "\n",
    "* Filter demultiplexed sequence data to only fecal samples\n",
    "* Determine what sequences in the fecal samples recruit to the observed bloom sequences\n",
    "* Remove the recruited bloom sequences from the demultiplexed sequence data\n",
    "\n",
    "The filtering is only intended to be applied to fecal data. As such, this notebook allows you to describe what metadata column and value to use so that only fecal samples are used."
   ]
  },
  {
   "cell_type": "code",
   "execution_count": null,
   "metadata": {
    "collapsed": true
   },
   "outputs": [],
   "source": [
    "import os\n",
    "import multiprocessing\n",
    "import americangut.notebook_environment as agenv"
   ]
  },
  {
   "cell_type": "markdown",
   "metadata": {},
   "source": [
    "Next, we'll establish the paths we will be creating."
   ]
  },
  {
   "cell_type": "code",
   "execution_count": null,
   "metadata": {
    "collapsed": false
   },
   "outputs": [],
   "source": [
    "fecal_sequences         = agenv.get_new_path(agenv.filenames['fecal-sequences'])\n",
    "filtered_sequences      = agenv.get_new_path(agenv.filenames['filtered-sequences'])\n",
    "observed_blooms         = agenv.get_new_path(agenv.filenames['observed-blooms'])\n",
    "observed_blooms_biom    = agenv.get_new_path(agenv.filenames['observed-blooms-biom'])\n",
    "observed_blooms_otu_map = agenv.get_new_path(agenv.filenames['observed-blooms-otu-map'])"
   ]
  },
  {
   "cell_type": "markdown",
   "metadata": {},
   "source": [
    "This next call will setup and verify the path to the bloom sequences used for filtering."
   ]
  },
  {
   "cell_type": "code",
   "execution_count": null,
   "metadata": {
    "collapsed": false
   },
   "outputs": [],
   "source": [
    "bloom_sequences = agenv.get_bloom_sequences()"
   ]
  },
  {
   "cell_type": "markdown",
   "metadata": {},
   "source": [
    "Now let's setup the paths to the sequences to filter. We need the metadata as well in order to reduce the data to just the fecal samples. Please replace these variables with your own paths if you wish to filter your data for blooms (a necessary precursor if you wish to combine data with the American Gut). "
   ]
  },
  {
   "cell_type": "code",
   "execution_count": null,
   "metadata": {
    "collapsed": false
   },
   "outputs": [],
   "source": [
    "# If you are filtering your own data, please update these filepath variables as necessary\n",
    "sequences = agenv.get_existing_path(agenv.filenames['raw-sequences'])\n",
    "metadata  = agenv.get_existing_path(agenv.filenames['raw-metadata'])"
   ]
  },
  {
   "cell_type": "markdown",
   "metadata": {},
   "source": [
    "We also need to specify what specific metadata category and value correspond indicate what samples are fecal. It is possible that these values are study specific, so please modify these as needed if you filtering other datasets. "
   ]
  },
  {
   "cell_type": "code",
   "execution_count": null,
   "metadata": {
    "collapsed": true
   },
   "outputs": [],
   "source": [
    "# If you are filtering your own data, please update these variables to reflect your mapping file\n",
    "metadata_category = 'BODY_SITE'\n",
    "metadata_value    = 'UBERON:feces'"
   ]
  },
  {
   "cell_type": "markdown",
   "metadata": {},
   "source": [
    "Now that we know what sequences to focus on, we can filter the input data down to just those that need to be considered for filtering."
   ]
  },
  {
   "cell_type": "code",
   "execution_count": null,
   "metadata": {
    "collapsed": true
   },
   "outputs": [],
   "source": [
    "_fecal_states = ':'.join([metadata_category, metadata_value])\n",
    "\n",
    "!filter_fasta.py -f $sequences \\\n",
    "                 -o $fecal_sequences \\\n",
    "                 --mapping_fp $metadata \\\n",
    "                 --valid_states $_fecal_states"
   ]
  },
  {
   "cell_type": "markdown",
   "metadata": {},
   "source": [
    "The next thing we need to do is setup the parameters for SortMeRNA, which is the method we'll use to compare all the input data to our reference of bloom sequences."
   ]
  },
  {
   "cell_type": "code",
   "execution_count": null,
   "metadata": {
    "collapsed": false
   },
   "outputs": [],
   "source": [
    "_params_file = agenv.get_path('sortmerna_pick_params.txt')\n",
    "with open(_params_file, 'w') as f:\n",
    "    f.write(\"pick_otus:otu_picking_method sortmerna\\n\")\n",
    "    f.write(\"pick_otus:similarity 0.97\\n\")\n",
    "    f.write(\"pick_otus:threads %d\\n\" % multiprocessing.cpu_count())\n",
    "    \n",
    "!pick_closed_reference_otus.py -i $fecal_sequences \\\n",
    "                               -o $observed_blooms \\\n",
    "                               -r $bloom_sequences \\\n",
    "                               -p $_params_file"
   ]
  },
  {
   "cell_type": "markdown",
   "metadata": {},
   "source": [
    "And now, we can remove the blooms from the input sequences. "
   ]
  },
  {
   "cell_type": "code",
   "execution_count": null,
   "metadata": {
    "collapsed": false
   },
   "outputs": [],
   "source": [
    "!filter_fasta.py -f $sequences \\\n",
    "                 -m $observed_blooms_otu_map \\\n",
    "                 -n \\\n",
    "                 -o $filtered_sequences"
   ]
  },
  {
   "cell_type": "markdown",
   "metadata": {},
   "source": [
    "Finally, let's do a quick sanity check that we have sequence data and we'll also dump out summary information about how many reads per sample recruited to the blooms."
   ]
  },
  {
   "cell_type": "code",
   "execution_count": null,
   "metadata": {
    "collapsed": false
   },
   "outputs": [],
   "source": [
    "assert os.stat(filtered_sequences).st_size > 0\n",
    "!biom summarize-table -i $observed_blooms_biom"
   ]
  }
 ],
 "metadata": {
  "kernelspec": {
   "display_name": "Python 2",
   "language": "python",
   "name": "python2"
  },
  "language_info": {
   "codemirror_mode": {
    "name": "ipython",
    "version": 2
   },
   "file_extension": ".py",
   "mimetype": "text/x-python",
   "name": "python",
   "nbconvert_exporter": "python",
   "pygments_lexer": "ipython2",
   "version": "2.7.10"
  }
 },
 "nbformat": 4,
 "nbformat_minor": 0
}
