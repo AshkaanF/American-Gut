{
 "metadata": {
  "name": "",
  "signature": "sha256:7ffa42ab7085523eb96b8acbf9cea247586e873f39a3aff6bfbbd4f802b6f48d"
 },
 "nbformat": 3,
 "nbformat_minor": 0,
 "worksheets": [
  {
   "cells": [
    {
     "cell_type": "markdown",
     "metadata": {},
     "source": [
      "The American Gut Project is compiling processing IPython Notebooks of interesting analyses. This index Notebook provides links to the subsequent Notebooks and will be updated as more analyses are added.\n",
      "\n",
      "* Primary processing pipeline [Notebook](module2_v1.0.ipynb)\n",
      "* Dataset Generation [Notebook](Preprocessing.ipynb)\n",
      "* Alpha diversity analysis [Notebook](Alpha%20diversity%20notebook.ipynb)\n",
      "* Shared OTUs [Notebook](shared_otus.ipynb)\n",
      "\n"
     ]
    }
   ],
   "metadata": {}
  }
 ]
}