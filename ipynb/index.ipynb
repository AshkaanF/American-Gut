{
<<<<<<< HEAD
 "metadata": {
  "name": "",
  "signature": "sha256:7ffa42ab7085523eb96b8acbf9cea247586e873f39a3aff6bfbbd4f802b6f48d"
 },
 "nbformat": 3,
 "nbformat_minor": 0,
 "worksheets": [
  {
   "cells": [
    {
     "cell_type": "markdown",
     "metadata": {},
     "source": [
      "The American Gut Project is compiling processing IPython Notebooks of interesting analyses. This index Notebook provides links to the subsequent Notebooks and will be updated as more analyses are added.\n",
      "\n",
      "* Primary processing pipeline [Notebook](module2_v1.0.ipynb)\n",
      "* Dataset Generation [Notebook](Preprocessing.ipynb)\n",
      "* Alpha diversity analysis [Notebook](Alpha%20diversity%20notebook.ipynb)\n",
      "* Shared OTUs [Notebook](shared_otus.ipynb)\n",
      "\n"
     ]
    }
   ],
   "metadata": {}
=======
 "cells": [
  {
   "cell_type": "markdown",
   "metadata": {},
   "source": [
    "The American Gut Project is compiling processing IPython Notebooks of interesting analyses. This index Notebook provides links to the subsequent Notebooks and will be updated as more analyses are added.\n",
    "\n",
    "**Notebooks working with Sequence Data**\n",
    "* Primary processing pipeline [Notebook](module2_v1.0.ipynb)\n",
    "* Filter bloom sequences [Notebook](FilterAndPickOTUs.ipynb)\n",
    "\n",
    "**Analyses Across Categories**\n",
    "* Alpha diversity analysis [Notebook](Alpha%20diversity%20notebook.ipynb)\n",
    "* Shared OTUs [Notebook](shared_otus.ipynb)\n",
    "* Statistical Power and Effect Size [Notebook](power.ipynb)"
   ]
>>>>>>> 2efe03ff180c913149c107f950c16e2576c6a811
  }
 ],
 "metadata": {
  "kernelspec": {
   "display_name": "Python 2",
   "language": "python",
   "name": "python2"
  },
  "language_info": {
   "codemirror_mode": {
    "name": "ipython",
    "version": 2
   },
   "file_extension": ".py",
   "mimetype": "text/x-python",
   "name": "python",
   "nbconvert_exporter": "python",
   "pygments_lexer": "ipython2",
   "version": "2.7.3"
  }
 },
 "nbformat": 4,
 "nbformat_minor": 0
}
