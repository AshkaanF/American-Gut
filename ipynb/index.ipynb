{
 "metadata": {
  "name": ""
 },
 "nbformat": 3,
 "nbformat_minor": 0,
 "worksheets": [
  {
   "cells": [
    {
     "cell_type": "markdown",
     "metadata": {},
     "source": [
      "The American Gut Project is compiling processing IPython Notebooks of interesting analyses. This index Notebook provides links to the subsequent Notebooks and will be updated as more analyses are added.\n",
      "\n",
      "* Primary processing pipeline [Notebook](module2_v1.0.ipynb)\n",
      "* Alpha diversity analysis [Notebook](Alpha%20diversity%20notebook.ipynb)\n",
      "* Shared OTUs [Notebook](shared_otus.ipynb)\n",
      "* Filter bloom sequences [Notebook](FilterAndPickOTUs.ipynb)"
     ]
    }
   ],
   "metadata": {}
  }
 ]
}
