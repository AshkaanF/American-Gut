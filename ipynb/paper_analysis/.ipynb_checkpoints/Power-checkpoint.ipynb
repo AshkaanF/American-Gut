{
 "metadata": {
  "name": "",
  "signature": "sha256:45f132b82d8646e3e9c81e1f98ba221a6569f543c10b049ee1830fb8ffefe2f2"
 },
 "nbformat": 3,
 "nbformat_minor": 0,
 "worksheets": [
  {
   "cells": [
    {
     "cell_type": "code",
     "collapsed": false,
     "input": [
      "%matplotlib inline"
     ],
     "language": "python",
     "metadata": {},
     "outputs": [],
     "prompt_number": 1
    },
    {
     "cell_type": "markdown",
     "metadata": {},
     "source": [
      "# Power Analysis\n",
      "[Text describing the import.]\n",
      "\n",
      "####Notebook Requirements\n",
      "<ul><li>cURL\n",
      "</li><li>Python 2.7\n",
      "</li><li>Numpy $\\geq$ 1.7\n",
      "</li><li>Biom format 2.0.1\n",
      "</li><li>Pandas 0.14.1\n",
      "</li><li>StatsModel 0.5.0\n",
      "</li><li>Scikit bio 0.1.4\n",
      "</li><li>Qiime 1.8.0-dev\n",
      "</li><li>Custom code libraries, <a href=\"\">alpha_analysis.py</a> and <a href=\"\">power.py</a>.\n",
      "</li></ul>\n",
      "\n",
      "<a id=\"top\"></a>\n",
      "####Table of contents\n",
      "<ul><li><a href=\"#parameters\">Sets analysis parameters</a>\n",
      "</li><li><a href=\"#ifilepath\">Imports necessary files</a>\n",
      "</li><li><a href=\"#clean\">Cleans up the mapping categories</a>\n",
      "</li><li><a href=\"#functions\">Defines test functions</a>\n",
      "</li><li>Category\n",
      "<ul><li>Alpha Diversity\n",
      "</li><li>Beta Diversity\n",
      "</li><li>Group Signifigance\n",
      "</li></ul>\n",
      "</li><li>Next round of analysis...\n",
      "</li></ul>\n",
      "\n",
      "We start by importing necessary functions, and determining if files should be overwritten."
     ]
    },
    {
     "cell_type": "code",
     "collapsed": false,
     "input": [
      "from os import remove, rename\n",
      "from os.path import abspath, isfile, exists, join as pjoin\n",
      "from americangut.alpha_analysis import check_dir, pad_index\n",
      "from copy import deepcopy\n",
      "from future.utils import viewitems\n",
      "import numpy as np\n",
      "from scipy.stats import kruskal, nanmean\n",
      "from statsmodels.stats.power import FTestAnovaPower\n",
      "ft = FTestAnovaPower()\n",
      "from power.power import *\n",
      "from skbio.math.stats.distance import PERMANOVA\n",
      "from matplotlib import rcParams\n",
      "from matplotlib.cm import get_cmap\n",
      "import matplotlib.pylab as plt\n",
      "from pandas import read_csv, Series, DataFrame, concat\n",
      "from skbio import DistanceMatrix\n",
      "from biom import load_table\n",
      "from jwd_code.pandas_fun import pretty_pandas_boxplot"
     ],
     "language": "python",
     "metadata": {},
     "outputs": [
      {
       "output_type": "stream",
       "stream": "stderr",
       "text": [
        "/Users/jwdebelius/.virtualenvs/qiime_dev/lib/python2.7/site-packages/matplotlib/__init__.py:1155: UserWarning:  This call to matplotlib.use() has no effect\n",
        "because the backend has already been chosen;\n",
        "matplotlib.use() must be called *before* pylab, matplotlib.pyplot,\n",
        "or matplotlib.backends is imported for the first time.\n",
        "\n",
        "  warnings.warn(_use_error_msg)\n"
       ]
      }
     ],
     "prompt_number": 139
    },
    {
     "cell_type": "markdown",
     "metadata": {},
     "source": [
      "[description of functions...]"
     ]
    },
    {
     "cell_type": "code",
     "collapsed": false,
     "input": [
      "# Writes a file to save the json string tables\n",
      "def write_biom(table, fp):\n",
      "    \"\"\"Writes a biom table as a json string\"\"\"\n",
      "    file_ = open(fp, 'w')\n",
      "    file_.write(table.to_json(''))\n",
      "    file_.close()\n",
      "\n",
      "def _check_strs(x):\n",
      "    r\"\"\"Returns False if x is a nan and True is x is a string or number\"\"\"\n",
      "\n",
      "    if isinstance(x, str):\n",
      "        return True\n",
      "    elif isinstance(x, (float, int)):\n",
      "        return not isnan(x)\n",
      "    else:\n",
      "        raise TypeError('input must be a string, float or a nan')\n",
      "\n",
      "def _calculate_power(p_values, alpha=0.05):\n",
      "    r\"\"\"Calculates statical power empirically\n",
      "\n",
      "    Parameters\n",
      "    ----------\n",
      "    p_values : 1d array\n",
      "\n",
      "    alpha : float\n",
      "        the critical value for the power calculation\n",
      "\n",
      "    Returns\n",
      "    -------\n",
      "    power : float\n",
      "        the emperical power, or the fraction of observed p values below the\n",
      "        critical value\n",
      "\n",
      "    \"\"\"\n",
      "\n",
      "    w = (p_values < float(alpha)).sum()/float(p_values.shape[0])\n",
      "\n",
      "    return w\n",
      "\n",
      "def get_paired_subsamples(meta, cat, control_cats, order=None, strict=True, sub_size=None):\n",
      "    r\"\"\"Gets a set samples to serve as controls\n",
      "\n",
      "    Parameters\n",
      "    ----------\n",
      "    meta : dataframe\n",
      "\n",
      "    cat : str\n",
      "        the metadata categories for comparison\n",
      "\n",
      "    control_cats : list\n",
      "        the metadata categories to be used as controls. For example, if you\n",
      "        wanted to control age (`cat` = \"AGE\"), you might want to control for\n",
      "        gender and health status (i.e. `control_cats` = [\"SEX\", \"HEALTHY\"])\n",
      "\n",
      "    order : {None, list}\n",
      "        Default is None. The order of groups in the category. This can be used\n",
      "        to limit the groups selected. For example, if there's a category with\n",
      "        groups 'A', 'B' and 'C', and you only want to look at A vs B, `order`\n",
      "        would be set to ['A', 'B'].\n",
      "\n",
      "    strict: bool\n",
      "        Default is True. If a missing value (nan) is encountered, the group\n",
      "        will be skipped when 'strict' is True.\n",
      "\n",
      "    Returns\n",
      "    -------\n",
      "    ids : array\n",
      "        a set of arrays which satisfy the criteria. These are not grouped by\n",
      "        cat. An empty array indicates there are no sample ids which satisfy\n",
      "        the requirements.\n",
      "\n",
      "    Example\n",
      "    -------\n",
      "    If we have a mapping file for a set of random samples looking at housing,\n",
      "    sex, age and antibiotic use.\n",
      "\n",
      "    >>> import pandas as pd\n",
      "    >>> meta = {'NR': {'HOUSING': '2', 'SEX': 'F', 'AGE': nan, 'ABX': 'Y'},\n",
      "    ...         'MH': {'HOUSING': '3', 'SEX': 'F', 'AGE': '30s', 'ABX': 'Y'},\n",
      "    ...         'PP': {'HOUSING': '2', 'SEX': 'F', 'AGE': '30s', 'ABX': 'N'},\n",
      "    ...         'CD': {'HOUSING': '3', 'SEX': 'F', 'AGE': '30s', 'ABX': 'Y'},\n",
      "    ...         'MM': {'HOUSING': '1', 'SEX': 'F', 'AGE': '30s', 'ABX': 'Y'},\n",
      "    ...         'SW': {'HOUSING': '2', 'SEX': 'M', 'AGE': nan, 'ABX': 'N'},\n",
      "    ...         'TS': {'HOUSING': '2', 'SEX': 'M', 'AGE': '40s', 'ABX': 'Y'},\n",
      "    ...         'CB': {'HOUSING': '3', 'SEX': 'M', 'AGE': '40s', 'ABX': 'Y'},\n",
      "    ...         'BB': {'HOUSING': '1', 'SEX': 'M', 'AGE': '40s', 'ABX': 'Y'}}\n",
      "    >>>  meta = pd.DataFrame.from_dict(meta)\n",
      "\n",
      "    Let's say we want to vary housing, controlling for sex, age, antibiotics\n",
      "    and sex.\n",
      "    >>> ids = get_paired_subsamples(meta, 'HOUSING', ['SEX', 'AGE', 'ABX'])\n",
      "    >>> print ids\n",
      "        [['BB'], ['CB'], ['TS']]\n",
      "\n",
      "    \"\"\"\n",
      "    # Groups meta by category\n",
      "    cat_groups = meta.groupby(cat).groups\n",
      "\n",
      "    # Handles the order argument\n",
      "    if order is None:\n",
      "        order = sorted(cat_groups.keys())\n",
      "    order = array(order)\n",
      "    num_groups = len(order)\n",
      "\n",
      "    # Determines the number of samples, and the experimental and control group\n",
      "    group_size = array([len(cat_groups[o]) for o in order])\n",
      "    ctrl_name = order[group_size == group_size.min()][0]\n",
      "    order = order[order != ctrl_name]\n",
      "\n",
      "    # Gets a control group table\n",
      "    ctrl_group = meta.loc[cat_groups[ctrl_name]\n",
      "                          ].groupby(list(control_cats)).groups\n",
      "    exp_groups = [meta.loc[cat_groups[o]\n",
      "                           ].groupby(list(control_cats)).groups for o in order]\n",
      "\n",
      "    ids = [array([])]*num_groups\n",
      "    # Loops through samples in the experimental group to match for controls\n",
      "    for check_group, ctrl_ids in viewitems(ctrl_group):\n",
      "        # Checks the categories have been defined\n",
      "        undefed_check = array([_check_strs(p) for p in check_group])\n",
      "        if not undefed_check.all() and strict:\n",
      "            continue\n",
      "        num_samps = len(ctrl_ids)\n",
      "        exp_ids = []\n",
      "        # Loops through the other groups\n",
      "        for exp_group in exp_groups:\n",
      "            # Checks group to be considered is included in the grouping\n",
      "            if check_group not in exp_group:\n",
      "                break\n",
      "            # Gets the id associated with the group\n",
      "            pos_ids = exp_group[check_group]\n",
      "            # Randomly subsamples the possible ids\n",
      "            num_draw = min([len(pos_ids), num_samps])\n",
      "            exp_ids.append(choice(ctrl_ids, num_draw, replace=False))\n",
      "            exp_ids.append(choice(pos_ids, num_draw, replace=False))\n",
      "\n",
      "        if len(exp_ids) == num_groups:\n",
      "            for idx in xrange(num_groups):\n",
      "                ids[idx]= hstack((ids[idx], exp_ids[idx]))\n",
      "                                                     \n",
      "    if sub_size is not None:\n",
      "        num_pairs = len(ids[0])\n",
      "        if num_pairs < sub_size:\n",
      "            raise ValueError('Cannot subsample more ids than are avaliable.')\n",
      "        check = np.arange(0, len(ids[0]))\n",
      "        keep_ids = np.random.choice(check, sub_size, replace=False)\n",
      "        ids = [id_[keep_ids] for id_ in ids]\n",
      "\n",
      "    return ids\n",
      "\n",
      "\n",
      "def get_subsampled_power(mode, test, meta=None, cat=None, control_cats=None,\n",
      "                         order=None, strict=True, samples=None, sub_size=None,\n",
      "                         scaling=5, alpha_pwr=0.05, min_counts=20,\n",
      "                         max_counts=50, counts_interval=10, counts_start=None,\n",
      "                         num_iter=500, num_runs=10):\n",
      "    r\"\"\"Subsamples data to iterative calculate power\"\"\"\n",
      "\n",
      "    # Checks the mode arguments\n",
      "    if mode == \"PAIRED\":\n",
      "        if meta is None or cat is None or control_cats is None:\n",
      "            raise ValueError(\"PAIRED mode requires a meta dataframe, a \"\n",
      "                             \"cat to vary and a set of control_cats.\")\n",
      "        else:\n",
      "            sub_ids = get_paired_subsamples(meta, cat, control_cats, order,\n",
      "                                            strict)\n",
      "    elif mode == 'SIG':\n",
      "        if samples is None:\n",
      "            raise ValueError(\"SIG mode requires samples be defined.\")\n",
      "        else:\n",
      "            sub_ids = get_significant_subsample([test], samples, sub_size,\n",
      "                                                alpha_pwr, num_iter, scaling)\n",
      "    elif mode == \"ALL\":\n",
      "        if samples is None:\n",
      "            raise ValueError(\"ALL mode requires samples be defined.\")\n",
      "        else:\n",
      "            sub_ids = samples\n",
      "    else:\n",
      "        raise ValueError('%s is not a supported mode. Modes are \"ALL\", \"SIG\", '\n",
      "                         'and \"PAIRED\".' % mode)\n",
      "\n",
      "    # Determines the minium number of ids in a category\n",
      "    num_ids = array([len(id_) for id_ in sub_ids]).min()\n",
      "\n",
      "    # Checks there are enough samples to subsample\n",
      "    if num_ids <= min_counts:\n",
      "        raise RuntimeError('There are not enough samples for subsampling.')\n",
      "\n",
      "    # Calculates the effect size vector\n",
      "    if counts_start is None:\n",
      "        counts_start = counts_interval\n",
      "\n",
      "    if (max_counts - counts_start) < counts_interval:\n",
      "        raise RuntimeError(\"No subsamples of the specified size can be drawn.\")\n",
      "\n",
      "    sample_counts = arange(counts_start,\n",
      "                           min(max_counts, num_ids),\n",
      "                           counts_interval)\n",
      "\n",
      "    # Prealocates the power array\n",
      "    power = zeros((num_runs, len(sample_counts)))\n",
      "\n",
      "    # Calculates the power instances\n",
      "    for id1 in arange(0, num_runs):\n",
      "        # Gets the subsample\n",
      "        if mode == \"PAIRED\":\n",
      "            for id2, count in enumerate(sample_counts):\n",
      "                res = zeros((num_iter))\n",
      "                for i in range(num_iter):\n",
      "                    paired_ids = get_paired_subsamples(meta, cat, control_cats, order,\n",
      "                                                       strict, sub_size=count)\n",
      "                    res[i] = test(paired_ids)\n",
      "                power[id1, id2] = _calculate_power(res, alpha_pwr)\n",
      "\n",
      "        elif mode == 'SIG':\n",
      "            sub_ids = get_significant_subsample([test], samples, sub_size,\n",
      "                                                alpha_pwr, num_iter, scaling)\n",
      "            # Calculates the power curve\n",
      "            power[id1, :] = _calculate_power_curve(test, \n",
      "                                                   sub_ids, \n",
      "                                                   sample_counts,\n",
      "                                                   num_iter=num_iter,\n",
      "                                                   alpha=alpha_pwr)\n",
      "        else:\n",
      "            sub_ids = samples\n",
      "            # Calculates the power curve\n",
      "            power[id1, :] = _calculate_power_curve(test, \n",
      "                                                   sub_ids, \n",
      "                                                   sample_counts,\n",
      "                                                   num_iter=num_iter,\n",
      "                                                   alpha=alpha_pwr)\n",
      "\n",
      "    return power, sample_counts\n",
      "\n",
      "\n",
      "    \n",
      "\n",
      "def collate_effect_size(counts, powers, alpha):\n",
      "    \"\"\"Calculates the effects for power values\n",
      "\n",
      "    Parameters\n",
      "    ----------\n",
      "    counts : array\n",
      "        the number of samples used to calculate the power\n",
      "\n",
      "    powers : {list, ndarray}\n",
      "        list of arrays of power values. If there are multiple power arrays,\n",
      "        each power array should have the same dimensions. If samples are\n",
      "        missing, these should be deonted by a nan.\n",
      "\n",
      "    alpha : float\n",
      "        the critical value used to calculate the power.\n",
      "\n",
      "    Returns\n",
      "    -------\n",
      "    effect_means : 1d array\n",
      "    effect_bounds : 1d array\n",
      "\n",
      "    Raises\n",
      "    ------\n",
      "    TypeError\n",
      "        if counts is not a one-dimensional array\n",
      "    ValueError\n",
      "        if the arrays in powers have different shapes\n",
      "    ValueError\n",
      "        if the length of the power arrays and the length of the count arrays\n",
      "        are different\n",
      "    \"\"\"\n",
      "\n",
      "    # Checks the power and counts iteratibility\n",
      "    if isinstance(powers, np.ndarray):\n",
      "        powers = [powers]\n",
      "\n",
      "    num_powers = len(powers)\n",
      "    if isinstance(counts, np.ndarray):\n",
      "        counts = [counts]*num_powers\n",
      "\n",
      "    # Checks there is a count for each power\n",
      "    if not len(counts) == len(powers):\n",
      "        raise ValueError('There must be a counts array for each power array.')\n",
      "\n",
      "    # Checks the shape array\n",
      "    for idx in xrange(num_powers):\n",
      "        count_shape = counts[idx].shape\n",
      "        power_shape = powers[idx].shape\n",
      "        # Checks the count array is 1d\n",
      "        if not len(count_shape) == 1:\n",
      "            raise TypeError('Each count array must be a 1d array.')\n",
      "\n",
      "        if len(power_shape) == 1:\n",
      "            if not count_shape[0] == power_shape[0]:\n",
      "                raise ValueError('There must be a sample count for each '\n",
      "                                 'power.')\n",
      "        elif not count_shape[0] == power_shape[1]:\n",
      "            raise ValueError('There must be a sample count for each power.')\n",
      "\n",
      "    # Prealocates the output arrays\n",
      "    effect_means = np.zeros((num_powers))\n",
      "    effect_bounds = np.zeros((num_powers))\n",
      "\n",
      "    # Iterates through the powers and calculates the effect sizes\n",
      "    for idp, pwr in enumerate(powers):\n",
      "        count = counts[idp]\n",
      "        pwr_shape = pwr.shape\n",
      "        # Calculates the effect size for the power array\n",
      "        eff = np.zeros(pwr_shape)\n",
      "        for id2, cnt in enumerate(count):\n",
      "            if len(pwr_shape) == 1:\n",
      "                if np.isnan(pwr[id2]):\n",
      "                    eff[id2] = np.nan\n",
      "                    continue\n",
      "                try:\n",
      "                    eff[id2] = ft.solve_power(effect_size=None,\n",
      "                                              nobs=cnt,\n",
      "                                              alpha=alpha,\n",
      "                                              power=pwr[id2])\n",
      "                except:\n",
      "                    eff[id2] = np.nan\n",
      "            else:\n",
      "                for id1 in xrange(pwr_shape[0]):\n",
      "                    if np.isnan(pwr[id1, id2]):\n",
      "                        eff[id1, id2] = np.nan\n",
      "                        continue\n",
      "                    try:\n",
      "                        eff[id1, id2] = ft.solve_power(effect_size=None,\n",
      "                                                       nobs=cnt,\n",
      "                                                       alpha=alpha,\n",
      "                                                       power=pwr[id1, id2])\n",
      "                    except:\n",
      "                        eff[id1, id2] = np.nan\n",
      "        # Caluclates the mean and bound\n",
      "        if np.isnan(eff).all():\n",
      "            effect_means[idp] = np.nan\n",
      "            effect_bounds[idp] = np.nan\n",
      "        else:\n",
      "            effect_means[idp] = np.nanmean(eff, None)\n",
      "            effect_bounds[idp] = confidence_bound(eff, alpha, None)\n",
      "\n",
      "    return effect_means, effect_bounds\n",
      "\n",
      "\n",
      "def plot_effects(effect_means, effect_bounds, labels, sample_counts, **kwargs):\n",
      "    \"\"\"Makes a power curve plot\n",
      "\n",
      "    Parameters\n",
      "    ----------\n",
      "    effect_means: 1d array\n",
      "        the mean effect sizes to plots.\n",
      "\n",
      "    effect_bounds : {None, 1d array}\n",
      "        the range used for the confidence interval. If there is no effect to\n",
      "        show, this should be None.\n",
      "\n",
      "    labels : 1d array\n",
      "        a list of formatted strings describing the effects, to be used in the\n",
      "        legend.\n",
      "\n",
      "    sample_counts : 1d array\n",
      "        the counts where power should be calculated.\n",
      "\n",
      "    alpha : int, optional\n",
      "        Default is 0.05. The critical value for the power curves.\n",
      "\n",
      "    colormap : {None, array}, optional\n",
      "        Default is None. A colormap to use for the lines. Each color\n",
      "        designation must appear in a new row. If no colormap is supplied, the\n",
      "        defualt colormap will be used.\n",
      "\n",
      "    grid : bool, optional\n",
      "        Default is True. Show grid.\n",
      "\n",
      "    show_bound : bool\n",
      "        Default is True. Shows the confidence bounds on the effect size. If\n",
      "        `effect_bounds` is None, no bounds will be shown.\n",
      "\n",
      "    Returns\n",
      "    -------\n",
      "    fig : figure\n",
      "        a figure with the power curves plotted.\n",
      "\n",
      "    Other parameters\n",
      "    ----------------\n",
      "    leg_offset : tuple\n",
      "        Changes the legend position.\n",
      "\n",
      "    tick_size : usigned int\n",
      "        sets the font size for tick labels\n",
      "\n",
      "    label_size : unsigned int\n",
      "        sets the font size for the axis labels\n",
      "\n",
      "    title_size : unsigned int\n",
      "        sets the font size for the title\n",
      "\n",
      "    legend_size : unsigned int\n",
      "        sets the font size for enteries in the legend\n",
      "\n",
      "    \"\"\"\n",
      "    # Sets the keyword properties\n",
      "    kwds = {'alpha': 0.05,\n",
      "            'colormap': None,\n",
      "            'grid': True,\n",
      "            'title': '',\n",
      "            'show_bound': True,\n",
      "            'leg_offset': None,\n",
      "            'tick_size': 12,\n",
      "            'label_size': 15,\n",
      "            'title_size': 18,\n",
      "            'legend_size': 11}\n",
      "    for key, value in viewitems(kwargs):\n",
      "        if key in kwds:\n",
      "            kwds[key] = value\n",
      "        else:\n",
      "            raise ValueError('%s is not a property of plot_effects.' % key)\n",
      "\n",
      "    # Checks the effect, bound, and mean argument is sane\n",
      "    mean_shape = effect_means.shape\n",
      "    if effect_bounds is None:\n",
      "        kwds['show_bound'] = False\n",
      "        effect_bounds = zeros(mean_shape)\n",
      "    bound_shape = effect_bounds.shape\n",
      "    label_shape = labels.shape\n",
      "\n",
      "    if not len(mean_shape) == 1:\n",
      "        raise ValueError('Effect Mean must be a 1d numpy array')\n",
      "    elif mean_shape != bound_shape or mean_shape != label_shape:\n",
      "        raise ValueError('There must be a label and bound for each effect.')\n",
      "\n",
      "    # Plots the the lower bound data\n",
      "    fig = ft.plot_power(dep_var='nobs',\n",
      "                        nobs=sample_counts,\n",
      "                        effect_size=effect_means - effect_bounds,\n",
      "                        alpha=kwds['alpha'])\n",
      "    # Gets the axis of the first plot and its position\n",
      "    lax = fig.axes[0]\n",
      "    # Makes the lower bound lines dashed and thin, and changes the color if\n",
      "    # desired\n",
      "    for idx, l in enumerate(lax.get_lines()):\n",
      "        l.set_linestyle(':')\n",
      "        l.set_linewidth(1.5)\n",
      "        if kwds['colormap'] is not None and len(kwds['colormap'].shape) == 1:\n",
      "            l.set_color(kwds['colormap'][idx])\n",
      "        elif kwds['colormap'] is not None:\n",
      "            l.set_color(kwds['colormap'][idx, :])\n",
      "    # Hides the x ticks and labels\n",
      "    lax.set_title('')\n",
      "    lax.set_xticklabels('')\n",
      "    lax.set_yticklabels('')\n",
      "    lax.set_xlabel('')\n",
      "    # Hides the legend\n",
      "    lax.get_legend().set_visible(False)\n",
      "\n",
      "    # Plots the upper bound data\n",
      "    uax = fig.add_axes(lax.get_position())\n",
      "    fig = ft.plot_power('nobs', sample_counts, effect_means + effect_bounds,\n",
      "                        alpha=kwds['alpha'], ax=uax)\n",
      "    # Makes the lower bound axes visable, if desired\n",
      "    if kwds['show_bound']:\n",
      "        uax.set_axis_bgcolor('none')\n",
      "    # Makes the lower bound lines dashed and thin, and changes the color if\n",
      "    # desired\n",
      "    for idx, l in enumerate(uax.get_lines()):\n",
      "        l.set_linestyle(':')\n",
      "        l.set_linewidth(1.5)\n",
      "        if kwds['colormap'] is not None and len(kwds['colormap'].shape) == 1:\n",
      "            l.set_color(kwds['colormap'][idx])\n",
      "        elif kwds['colormap'] is not None:\n",
      "            l.set_color(kwds['colormap'][idx, :])\n",
      "    # Hides the x ticks and labels\n",
      "    uax.set_title('')\n",
      "    uax.set_xticklabels('')\n",
      "    uax.set_yticklabels('')\n",
      "    uax.set_xlabel('')\n",
      "    # Hides the legend\n",
      "    uax.get_legend().set_visible(False)\n",
      "\n",
      "    # Plots the mean data\n",
      "    axm = fig.add_axes(lax.get_position())\n",
      "    fig = ft.plot_power('nobs', sample_counts, effect_means, ax=axm,\n",
      "                        alpha=kwds['alpha'])\n",
      "\n",
      "    # Shows the confidence bounds, if desired\n",
      "    if kwds['show_bound']:\n",
      "        axm.set_axis_bgcolor('none')\n",
      "\n",
      "    # Recolors the lines, if desired\n",
      "    if kwds['colormap'] is not None and len(kwds['colormap'].shape) == 1:\n",
      "        for idx, l in enumerate(axm.get_lines()):\n",
      "            l.set_color(kwds['colormap'][idx])\n",
      "    elif kwds['colormap'] is not None:\n",
      "        for idx, l in enumerate(axm.get_lines()):\n",
      "            l.set_color(kwds['colormap'][idx, :])\n",
      "\n",
      "    # Sets up the labels\n",
      "    axm.set_xticklabels(map(int, axm.get_xticks()), size=kwds['tick_size'])\n",
      "    axm.set_yticklabels(axm.get_yticks(), size=kwds['tick_size'])\n",
      "    axm.set_xlabel('Number of Observations', size=kwds['label_size'])\n",
      "    axm.set_ylabel('Power of the Test', size=kwds['label_size'])\n",
      "    axm.set_title(kwds['title'], size=kwds['title_size'])\n",
      "\n",
      "    # Adds the grid, if desired\n",
      "    if kwds['grid']:\n",
      "        axm.grid()\n",
      "\n",
      "    leg = axm.get_legend()\n",
      "    # Sets the legend position\n",
      "    if kwds['leg_offset'] is not None:\n",
      "        leg.set_bbox_to_anchor(kwds['leg_offset'])\n",
      "    # Sets up the legend text\n",
      "    for idx, txt in enumerate(leg.get_texts()):\n",
      "        txt.set_text(labels[idx])\n",
      "        txt.set_size(kwds['legend_size'])\n",
      "\n",
      "    # Returns the figure\n",
      "    return fig"
     ],
     "language": "python",
     "metadata": {},
     "outputs": [],
     "prompt_number": 23
    },
    {
     "cell_type": "markdown",
     "metadata": {},
     "source": [
      "We will also set up some plotting parameters so the generated figures use Helvetica or Arial as their default font."
     ]
    },
    {
     "cell_type": "code",
     "collapsed": false,
     "input": [
      "# Sets up plotting parameters so that the default setting is use to Helvetica\n",
      "# in plots\n",
      "rcParams['font.family'] = 'sans-serif'\n",
      "rcParams['font.sans-serif'] = ['Helvetica', 'Arial']\n",
      "rcParams['text.usetex'] = True"
     ],
     "language": "python",
     "metadata": {},
     "outputs": [],
     "prompt_number": 4
    },
    {
     "cell_type": "markdown",
     "metadata": {},
     "source": [
      "<a href=#top>Return to the top</a>\n",
      "\n",
      "<a id=\"parameters\"></a>\n",
      "###### Sets analysis parameters\n",
      "\n",
      "We can also set some necessary parameters for handling files and this analysis."
     ]
    },
    {
     "cell_type": "code",
     "collapsed": false,
     "input": [
      "overwrite = False\n",
      "\n",
      "# Sets parameters for reading tables into pandas\n",
      "txt_delim = '\\t'\n",
      "map_index = '#SampleID'\n",
      "map_nas = ['NA', 'no_data', 'unknown', '']\n",
      "write_na = ''\n",
      "\n",
      "# Sets paramaters for alpha diversity\n",
      "a_div_metric = 'PD_whole_tree_mean'\n",
      "\n",
      "# Sets up categories for power analysis\n",
      "cats = ['BODY_HABITAT',\n",
      "        'IBD',\n",
      "        'ANTIBIOTIC_SELECT',\n",
      "        'TYPES_OF_PLANTS',\n",
      "        'AGE_CAT',\n",
      "        'BMI_CAT',\n",
      "        'COLLECTION_SEASON',\n",
      "        'ALCOHOL_CONSUMPTION']\n",
      "\n",
      "# Sets the order for comparison\n",
      "order = [['UBERON:oral cavity', 'UBERON:feces'],\n",
      "         ['I do not have IBD', 'IBD'],\n",
      "         ['In the past month', 'Not in the last year'],\n",
      "         ['Less than 5', 'More than 30'],\n",
      "         ['20s', '60s'],\n",
      "         ['Normal', 'Obese'],\n",
      "         ['Winter', 'Summer'],\n",
      "         ['Yes', 'No']]\n",
      "\n",
      "# Sets up the labels for plotting\n",
      "labels = np.array(['Bodysite',\n",
      "                   'IBD',\n",
      "                   'Antibiotic Use',\n",
      "                   'Number of Plants',\n",
      "                   'Age',\n",
      "                   'BMI',\n",
      "                   'Season',\n",
      "                   'Alcohol Use'])\n",
      "\n",
      "# Sets up the categories and their ordering\n",
      "control_cats = ['IBD', 'BMI_CAT', 'TYPES_OF_PLANTS', 'DIABETES', \n",
      "                'ANTIBIOTIC_SELECT', 'AGE_CAT', 'COLLECTION_SEASON',\n",
      "                'SLEEP_DURATION']"
     ],
     "language": "python",
     "metadata": {},
     "outputs": [],
     "prompt_number": 89
    },
    {
     "cell_type": "markdown",
     "metadata": {},
     "source": [
      "<a href=\"#top\">Return to the top</a>\n",
      "\n",
      "<a id=\"ifilepath\"></a>\n",
      "######Imports the files\n",
      "\n",
      "This points to the directories and files where analysis files are located. If the directories are not avaliable, they can be downloaded without processing. This notebook focuses on samples from the (datasets...). The data will be downloaded using cURL if the files cannot be found.\n",
      "\n",
      "The data is assumed to be saved in a directory called <font color=\"darkblue\">AGPanalysis</font> in the parent directory of the current directory. (It is assumed the filepath is located in the current, notebook directory). To change the location of these files, the <code>base_dir</code> can be changed to an alternative lcoation.\n",
      "\n",
      "We can begin by setting up directories to save the files which will be downloaded and handled here. The default setting is to perform the analysis in a new directory, <code>AGPanalysis</code> in the parent directory of the current directory (assumed to be the notebook directory).\n",
      "\n",
      "To change where data is saved, the <code>base_dir</code> should be set."
     ]
    },
    {
     "cell_type": "code",
     "collapsed": false,
     "input": [
      "# Sets up the base directory\n",
      "base_dir = pjoin(abspath('..'), 'agp_analysis')\n",
      "# base_dir = '/Users/jwdebelius/Repositories/AmGutNotebooks/agp_analysis'\n",
      "check_dir(base_dir)\n",
      "otu_dir = pjoin(base_dir, 'otu_tables')\n",
      "check_dir(otu_dir)\n",
      "\n",
      "# Sets the directory where the files should be located\n",
      "oral_dir = pjoin(otu_dir, 'oral_samples')\n",
      "check_dir(oral_dir)\n",
      "oaws_dir = pjoin(oral_dir, 'all_otus_single_samples')\n",
      "check_dir(oaws_dir)\n",
      "all_dir = pjoin(otu_dir, 'all_samples')\n",
      "check_dir(all_dir)\n",
      "fecal_dir = pjoin(otu_dir, 'fecal_samples')\n",
      "check_dir(fecal_dir)\n",
      "aws_dir = pjoin(fecal_dir, 'all_otus_single_samples')\n",
      "check_dir(aws_dir)\n",
      "\n",
      "# Sets the subset filepath for all samples\n",
      "oral_otu_fp = pjoin(oaws_dir, 'AGP_100nt_oral_even10k.biom')\n",
      "oral_map_fp = pjoin(oaws_dir, 'AGP_100nt_oral_even10k.txt')\n",
      "oral_ubd_fp = pjoin(oaws_dir, 'unweighted_unifrac_AGP_100nt_oral_even10k.txt')\n",
      "oral_wbd_fp = pjoin(oaws_dir, 'weighted_unifrac_AGP_100nt_oral_even10k.txt')\n",
      "\n",
      "awsr_otu_fp = pjoin(aws_dir, 'AGP_100nt_fecal_even10k.biom')\n",
      "awsr_map_fp = pjoin(aws_dir, 'AGP_100nt_fecal_even10k.txt')\n",
      "awsr_ubd_fp = pjoin(aws_dir, 'unweighted_unifrac_AGP_100nt_fecal_even10k.txt')\n",
      "awsr_wbd_fp = pjoin(aws_dir, 'weighted_unifrac_AGP_100nt_fecal_even10k.txt')\n",
      "\n",
      "# Loads the distance matrix between samples\n",
      "all_ubd_fp = pjoin(all_dir, 'unweighted_unifrac_AGP_100nt_even10k.txt')\n",
      "all_wbd_fp = pjoin(all_dir, 'weighted_unifrac_AGP_100nt_even10k.txt')"
     ],
     "language": "python",
     "metadata": {},
     "outputs": [],
     "prompt_number": 6
    },
    {
     "cell_type": "markdown",
     "metadata": {},
     "source": [
      "Downloads the files if they are not already avaliable."
     ]
    },
    {
     "cell_type": "code",
     "collapsed": false,
     "input": [
      "# If the directories do not exist, the files are imported using cURL\n",
      "if not exists(all_dir) or overwrite:\n",
      "    # Downloads the files\n",
      "    !curl -OL https://www.dropbox.com/s/lpq0rym8vzap201/AllFecalSubset.tgz\n",
      "    # Extracts the data\n",
      "    !tar -xzf AG_1_10_fecal_subset.tgz\n",
      "    remove(pjoin('.', 'AllFecalSubset.tgz'))\n",
      "    # Moves the directory to the correct location\n",
      "    move(pjoin('.', 'all_samples'), otu_dir)\n",
      "    \n",
      "# If the directories do not exist, the files are imported using cURL\n",
      "if not exists(filt_sub_dir) or overwrite:\n",
      "    # Downloads the files\n",
      "    !curl -OL https://www.dropbox.com/s/r1787sym9lvd7gc/FilteredFecalSubset.tgz\n",
      "    # Extracts the data\n",
      "    !tar -xzf AG_1_10_fecal_subset.tgz\n",
      "    remove(pjoin('.', 'FilteredFecalSubset.tgz'))\n",
      "    # Moves the directory to the correct location\n",
      "    move(pjoin('.', 'FilteredFecalSubset'), base_dir)\n",
      "\n"
     ],
     "language": "python",
     "metadata": {},
     "outputs": [
      {
       "ename": "NameError",
       "evalue": "name 'filt_sub_dir' is not defined",
       "output_type": "pyerr",
       "traceback": [
        "\u001b[0;31m---------------------------------------------------------------------------\u001b[0m\n\u001b[0;31mNameError\u001b[0m                                 Traceback (most recent call last)",
        "\u001b[0;32m<ipython-input-7-1b06a3cdbc4f>\u001b[0m in \u001b[0;36m<module>\u001b[0;34m()\u001b[0m\n\u001b[1;32m     10\u001b[0m \u001b[0;34m\u001b[0m\u001b[0m\n\u001b[1;32m     11\u001b[0m \u001b[0;31m# If the directories do not exist, the files are imported using cURL\u001b[0m\u001b[0;34m\u001b[0m\u001b[0;34m\u001b[0m\u001b[0m\n\u001b[0;32m---> 12\u001b[0;31m \u001b[0;32mif\u001b[0m \u001b[0;32mnot\u001b[0m \u001b[0mexists\u001b[0m\u001b[0;34m(\u001b[0m\u001b[0mfilt_sub_dir\u001b[0m\u001b[0;34m)\u001b[0m \u001b[0;32mor\u001b[0m \u001b[0moverwrite\u001b[0m\u001b[0;34m:\u001b[0m\u001b[0;34m\u001b[0m\u001b[0m\n\u001b[0m\u001b[1;32m     13\u001b[0m     \u001b[0;31m# Downloads the files\u001b[0m\u001b[0;34m\u001b[0m\u001b[0;34m\u001b[0m\u001b[0m\n\u001b[1;32m     14\u001b[0m     \u001b[0mget_ipython\u001b[0m\u001b[0;34m(\u001b[0m\u001b[0;34m)\u001b[0m\u001b[0;34m.\u001b[0m\u001b[0msystem\u001b[0m\u001b[0;34m(\u001b[0m\u001b[0;34mu'curl -OL https://www.dropbox.com/s/r1787sym9lvd7gc/FilteredFecalSubset.tgz'\u001b[0m\u001b[0;34m)\u001b[0m\u001b[0;34m\u001b[0m\u001b[0m\n",
        "\u001b[0;31mNameError\u001b[0m: name 'filt_sub_dir' is not defined"
       ]
      }
     ],
     "prompt_number": 7
    },
    {
     "cell_type": "markdown",
     "metadata": {},
     "source": [
      "Loads the files into the notebook for analysis."
     ]
    },
    {
     "cell_type": "code",
     "collapsed": false,
     "input": [
      "# Loads the whole sample table\n",
      "faws_otu = load_table(awsr_otu_fp)\n",
      "faws_map = pad_index(read_csv(awsr_map_fp,\n",
      "                            sep=txt_delim, \n",
      "                            na_values=map_nas),\n",
      "                   index_col=map_index)\n",
      "faws_ubd = DistanceMatrix.from_file(awsr_ubd_fp)\n",
      "faws_wbd = DistanceMatrix.from_file(awsr_wbd_fp)\n",
      "\n",
      "# Loads the oral table\n",
      "oral_otu = load_table(oral_otu_fp)\n",
      "oral_map = pad_index(read_csv(oral_map_fp,\n",
      "                            sep=txt_delim, \n",
      "                            na_values=map_nas),\n",
      "                   index_col=map_index)\n",
      "oral_ubd = DistanceMatrix.from_file(oral_ubd_fp)\n",
      "oral_wbd = DistanceMatrix.from_file(oral_wbd_fp)\n",
      "\n",
      "# Loads the full distance table\n",
      "comb_ubd = DistanceMatrix.from_file(all_ubd_fp)\n",
      "comb_wbd = DistanceMatrix.from_file(all_wbd_fp)"
     ],
     "language": "python",
     "metadata": {},
     "outputs": [],
     "prompt_number": 8
    },
    {
     "cell_type": "markdown",
     "metadata": {},
     "source": [
      "<a href=\"#top\">Return to the top</a>\n",
      "\n",
      "<a id=\"clean\"></a>\n",
      "######Cleans up mapping categories\n",
      "We also need to clean up some categories in the mapping file for simplicity here. \n",
      "\n",
      "Due to the number of individuals who took antibiotics in the past week, compared to the number of indiviudals who took individuals in the past month, we will combine the two categories, and label them \"In the past month\".\n",
      "\n",
      "We will also convert both Crohn's disease and Ulcerative Colitis into a single category, IBD.\n",
      "\n",
      "Since we're using sleep duration is a control category, we'll also combine people who less than 5 hours and 5-6 hours."
     ]
    },
    {
     "cell_type": "code",
     "collapsed": false,
     "input": [
      "# Combines antibiotic select into \"Last month\"\n",
      "faws_map.loc[faws_map.ANTIBIOTIC_SELECT == 'In the past week',\n",
      "             'ANTIBIOTIC_SELECT'] = 'In the past month'\n",
      "oral_map.loc[oral_map.ANTIBIOTIC_SELECT == 'In the past week',\n",
      "             'ANTIBIOTIC_SELECT'] = 'In the past month'\n",
      "\n",
      "# Combines individuals with Ulcerative Colitis and Crohn's disease into a\n",
      "# single category\n",
      "faws_map.loc[faws_map.IBD == \"Crohn's disease\", 'IBD'] = 'IBD'\n",
      "faws_map.loc[faws_map.IBD == \"Ulcerative colitis\", 'IBD'] = 'IBD'\n",
      "oral_map.loc[oral_map.IBD == \"Crohn's disease\", 'IBD'] = 'IBD'\n",
      "oral_map.loc[oral_map.IBD == \"Ulcerative colitis\", 'IBD'] = 'IBD'\n",
      "\n",
      "# Combines sleep duration into a \"Less than 6 hours\" category\n",
      "faws_map.loc[faws_map.SLEEP_DURATION == 'Less than 5 hours',\n",
      "             'SLEEP_DURATION'] = 'Less than 6 hours'\n",
      "faws_map.loc[faws_map.SLEEP_DURATION == '5-6 hours',\n",
      "             'SLEEP_DURATION'] = 'Less than 6 hours'\n",
      "oral_map.loc[oral_map.SLEEP_DURATION == 'Less than 5 hours',\n",
      "             'SLEEP_DURATION'] = 'Less than 6 hours'\n",
      "oral_map.loc[oral_map.SLEEP_DURATION == '5-6 hours',\n",
      "             'SLEEP_DURATION'] = 'Less than 6 hours'"
     ],
     "language": "python",
     "metadata": {},
     "outputs": [],
     "prompt_number": 10
    },
    {
     "cell_type": "markdown",
     "metadata": {},
     "source": [
      "<a href=\"#top\">Return to the top</a>\n",
      "\n",
      "<a id=\"functions\"></a>\n",
      "###### Defines Test Functions\n",
      "We'll start by defining a set of functions to test our results. We'll test the differnce in alpha diversity (intrasample varaiblity) and beta diversity (intersample variability)"
     ]
    },
    {
     "cell_type": "code",
     "collapsed": false,
     "input": [
      "def test_beta_permanova(ids, meta, dm, cat, num_iter=99):\n",
      "    \"\"\"Tests difference in beta diversity for a category and distance matrix\"\"\"\n",
      "    # Gets the map and distance matrix subset\n",
      "    all_ids = np.array([])\n",
      "    for id_ in ids:\n",
      "        all_ids = np.hstack((all_ids, id_))\n",
      "    meta = meta.loc[all_ids]\n",
      "    dm2 = deepcopy(dm)\n",
      "    dm2 = dm2.filter(all_ids)\n",
      "    # Calculates the permanova\n",
      "    permanova = PERMANOVA(dm2, meta, cat)\n",
      "    perma_results = permanova(num_iter)\n",
      "    return perma_results.p_value\n",
      "\n",
      "def test_alpha_kruskal(ids, meta, a_div_metric):\n",
      "    \"\"\"Calculates difference in alpha diverisity for category and distance matrix\"\"\"\n",
      "    # Gets the id values\n",
      "    alpha = [meta.loc[id_, a_div_metric] for id_ in ids]\n",
      "    return kruskal(*alpha)[1]"
     ],
     "language": "python",
     "metadata": {},
     "outputs": [],
     "prompt_number": 11
    },
    {
     "cell_type": "markdown",
     "metadata": {},
     "source": [
      "We'll start by calculating power for the difference in bodysite. The effect size is so large for body site that we will try using a smaller critical value to see if we can find a range the formula we use can solve."
     ]
    },
    {
     "cell_type": "code",
     "collapsed": false,
     "input": [
      "comb_map.groupby('BODY_HABITAT').count().SUBSET"
     ],
     "language": "python",
     "metadata": {},
     "outputs": [
      {
       "metadata": {},
       "output_type": "pyout",
       "prompt_number": 88,
       "text": [
        "BODY_HABITAT\n",
        "UBERON:feces          1902\n",
        "UBERON:oral cavity     247\n",
        "Name: SUBSET, dtype: int64"
       ]
      }
     ],
     "prompt_number": 88
    },
    {
     "cell_type": "code",
     "collapsed": false,
     "input": [
      "# Combines the maps\n",
      "comb_map = concat([faws_map, oral_map])\n",
      "\n",
      "# Adds the body site comparison\n",
      "alpha_test = lambda x: test_alpha_kruskal(x, comb_map, a_div_metric)\n",
      "beta_test = lambda x: test_beta_permanova(x, comb_map, comb_ubd, cats[0])\n",
      "\n",
      "# Gets the paired sample effect\n",
      "a_pwr, a_cnts = get_subsampled_power(mode=\"PAIRED\",\n",
      "                                     test=alpha_test,\n",
      "                                     meta=comb_map,\n",
      "                                     cat=cats[0],\n",
      "                                     control_cats=control_cats,\n",
      "                                     counts_start=2,\n",
      "                                     counts_interval=1,\n",
      "                                     max_counts=20,\n",
      "                                     order=order[0],\n",
      "                                     num_iter=100,\n",
      "                                     num_runs=15,\n",
      "                                     alpha_pwr=0.05)\n",
      "\n",
      "b_pwr, b_cnts = get_subsampled_power(mode=\"PAIRED\",\n",
      "                                     test=beta_test,\n",
      "                                     meta=comb_map,\n",
      "                                     cat=cats[0],\n",
      "                                     counts_start=2,\n",
      "                                     max_counts=20,\n",
      "                                     counts_interval=1,\n",
      "                                     control_cats=control_cats,\n",
      "                                     order=order[0],\n",
      "                                     num_iter=100,\n",
      "                                     num_runs=15,\n",
      "                                     alpha_pwr=0.05)"
     ],
     "language": "python",
     "metadata": {},
     "outputs": [],
     "prompt_number": 90
    },
    {
     "cell_type": "code",
     "collapsed": false,
     "input": [
      "print a_cnts\n",
      "print nanmean(a_pwr, 0).round(3)\n",
      "print confidence_bound(a_pwr, axis=0).round(3)"
     ],
     "language": "python",
     "metadata": {},
     "outputs": [
      {
       "output_type": "stream",
       "stream": "stdout",
       "text": [
        "[ 2  3  4  5  6  7  8  9 10 11 12 13 14 15 16 17 18 19]\n",
        "[ 0.     0.862  0.861  0.923  0.939  0.973  0.987  0.996  0.999  1.     1.\n",
        "  1.     1.     1.     1.     1.     1.     1.   ]\n",
        "[ 0.     0.02   0.021  0.016  0.016  0.012  0.006  0.004  0.002  0.     0.\n",
        "  0.     0.     0.     0.     0.     0.     0.   ]\n"
       ]
      }
     ],
     "prompt_number": 99
    },
    {
     "cell_type": "markdown",
     "metadata": {},
     "source": [
      "We'll now analyze the rest of the categories, focusing on fecal samples."
     ]
    },
    {
     "cell_type": "code",
     "collapsed": false,
     "input": [
      "# Sets up the list of tests for analyzing data\n",
      "alpha_tests = [lambda x: test_alpha_kruskal(x, faws_map, a_div_metric)\n",
      "              for cat in cats[1:]]\n",
      "beta_tests = [lambda x: test_beta_permanova(x, faws_map, faws_ubd, cat=cat)\n",
      "              for cat in cats[1:]]\n",
      "\n",
      "# Loops through the categories\n",
      "a_powers = [a_pwr]\n",
      "a_counts = [a_cnts]\n",
      "b_powers = [b_pwr]\n",
      "b_counts = [b_cnts]\n",
      "\n",
      "# Calculates the counts and paired sample for the bodysite\n",
      "for idx, cat in enumerate(cats[1:]):\n",
      "    # Gets the control categories for the group\n",
      "    ctrl_cats = deepcopy(control_cats)\n",
      "    if cat in ctrl_cats:\n",
      "        ctrl_cats.remove(cat)\n",
      "    # Calculates paired power for controlled samples\n",
      "    a_pwr, a_cnts = get_subsampled_power(mode=\"PAIRED\", \n",
      "                                         test=alpha_tests[idx],\n",
      "                                         meta=faws_map,\n",
      "                                         control_cats=ctrl_cats,\n",
      "                                         cat=cat,\n",
      "                                         order=order[idx + 1],\n",
      "                                         num_iter=100,\n",
      "                                         num_runs=15)\n",
      "    b_pwr, b_cnts = get_subsampled_power(mode=\"PAIRED\", \n",
      "                                         test=beta_tests[idx],\n",
      "                                         meta=faws_map,\n",
      "                                         control_cats=ctrl_cats,\n",
      "                                         cat=cat,\n",
      "                                         order=order[idx + 1],\n",
      "                                         num_iter=100,\n",
      "                                         num_runs=15)\n",
      "    a_powers.append(a_pwr)\n",
      "    a_counts.append(a_cnts)\n",
      "    b_powers.append(b_pwr)\n",
      "    b_counts.append(b_cnts)"
     ],
     "language": "python",
     "metadata": {},
     "outputs": [],
     "prompt_number": 101
    },
    {
     "cell_type": "code",
     "collapsed": false,
     "input": [
      "print \"ALPHA\"\n",
      "print a_powers\n",
      "print a_counts\n",
      "print \"BETA\"\n",
      "print b_powers\n",
      "print b_counts"
     ],
     "language": "python",
     "metadata": {},
     "outputs": [
      {
       "output_type": "stream",
       "stream": "stdout",
       "text": [
        "ALPHA\n",
        "[array([[ 0.43,  0.89,  1.  ],\n",
        "       [ 0.37,  0.77,  1.  ],\n",
        "       [ 0.35,  0.82,  1.  ],\n",
        "       [ 0.39,  0.77,  1.  ],\n",
        "       [ 0.37,  0.68,  1.  ]]), array([[ 0.4 ,  0.87,  1.  ],\n",
        "       [ 0.31,  0.5 ,  0.95],\n",
        "       [ 0.37,  0.84,  1.  ],\n",
        "       [ 0.41,  0.77,  1.  ],\n",
        "       [ 0.45,  0.69,  1.  ],\n",
        "       [ 0.39,  0.83,  1.  ],\n",
        "       [ 0.37,  0.82,  1.  ],\n",
        "       [ 0.25,  0.63,  0.97],\n",
        "       [ 0.33,  0.63,  0.97],\n",
        "       [ 0.48,  0.91,  1.  ],\n",
        "       [ 0.43,  0.75,  1.  ],\n",
        "       [ 0.34,  0.82,  1.  ],\n",
        "       [ 0.29,  0.48,  0.95],\n",
        "       [ 0.49,  0.85,  1.  ],\n",
        "       [ 0.39,  0.63,  1.  ]]), array([[ 0.29,  0.71,  1.  ],\n",
        "       [ 0.16,  0.4 ,  0.73],\n",
        "       [ 0.34,  0.63,  0.93],\n",
        "       [ 0.26,  0.38,  0.71],\n",
        "       [ 0.29,  0.54,  0.93],\n",
        "       [ 0.3 ,  0.54,  0.94],\n",
        "       [ 0.17,  0.37,  0.68],\n",
        "       [ 0.32,  0.75,  1.  ],\n",
        "       [ 0.2 ,  0.42,  0.83],\n",
        "       [ 0.26,  0.51,  0.83],\n",
        "       [ 0.12,  0.31,  0.58],\n",
        "       [ 0.3 ,  0.58,  0.98],\n",
        "       [ 0.23,  0.49,  0.87],\n",
        "       [ 0.24,  0.58,  0.97],\n",
        "       [ 0.37,  0.67,  1.  ]]), array([[ 0.17,  0.28],\n",
        "       [ 0.11,  0.37],\n",
        "       [ 0.15,  0.29],\n",
        "       [ 0.22,  0.37],\n",
        "       [ 0.23,  0.5 ],\n",
        "       [ 0.44,  0.85],\n",
        "       [ 0.12,  0.21],\n",
        "       [ 0.23,  0.61],\n",
        "       [ 0.47,  0.96],\n",
        "       [ 0.2 ,  0.24],\n",
        "       [ 0.18,  0.33],\n",
        "       [ 0.27,  0.54],\n",
        "       [ 0.41,  0.97],\n",
        "       [ 0.15,  0.39],\n",
        "       [ 0.31,  0.79]]), array([[ 0.13,  0.2 ,  0.13,  0.21],\n",
        "       [ 0.07,  0.12,  0.14,  0.24],\n",
        "       [ 0.19,  0.37,  0.56,  0.73],\n",
        "       [ 0.16,  0.28,  0.36,  0.57],\n",
        "       [ 0.11,  0.13,  0.15,  0.24],\n",
        "       [ 0.18,  0.2 ,  0.4 ,  0.42],\n",
        "       [ 0.17,  0.19,  0.22,  0.27],\n",
        "       [ 0.05,  0.03,  0.09,  0.06],\n",
        "       [ 0.12,  0.23,  0.29,  0.5 ],\n",
        "       [ 0.08,  0.18,  0.31,  0.4 ],\n",
        "       [ 0.1 ,  0.15,  0.16,  0.19],\n",
        "       [ 0.09,  0.1 ,  0.09,  0.12],\n",
        "       [ 0.17,  0.25,  0.36,  0.58],\n",
        "       [ 0.15,  0.2 ,  0.18,  0.38],\n",
        "       [ 0.18,  0.19,  0.32,  0.47]]), array([[ 0.04,  0.05,  0.06,  0.06],\n",
        "       [ 0.06,  0.01,  0.02,  0.  ],\n",
        "       [ 0.04,  0.04,  0.04,  0.02],\n",
        "       [ 0.02,  0.03,  0.01,  0.04],\n",
        "       [ 0.04,  0.02,  0.03,  0.02],\n",
        "       [ 0.09,  0.04,  0.06,  0.05],\n",
        "       [ 0.08,  0.07,  0.1 ,  0.1 ],\n",
        "       [ 0.08,  0.06,  0.03,  0.  ],\n",
        "       [ 0.09,  0.06,  0.1 ,  0.13],\n",
        "       [ 0.06,  0.04,  0.09,  0.08],\n",
        "       [ 0.07,  0.1 ,  0.07,  0.17],\n",
        "       [ 0.01,  0.02,  0.03,  0.  ],\n",
        "       [ 0.11,  0.11,  0.08,  0.14],\n",
        "       [ 0.04,  0.06,  0.08,  0.08],\n",
        "       [ 0.07,  0.06,  0.09,  0.07]]), array([[ 0.15,  0.19,  0.23,  0.41],\n",
        "       [ 0.14,  0.29,  0.4 ,  0.56],\n",
        "       [ 0.12,  0.24,  0.44,  0.5 ],\n",
        "       [ 0.11,  0.23,  0.31,  0.43],\n",
        "       [ 0.15,  0.34,  0.45,  0.62],\n",
        "       [ 0.13,  0.24,  0.4 ,  0.54],\n",
        "       [ 0.12,  0.39,  0.37,  0.55],\n",
        "       [ 0.17,  0.2 ,  0.42,  0.62],\n",
        "       [ 0.13,  0.25,  0.34,  0.44],\n",
        "       [ 0.16,  0.23,  0.37,  0.48],\n",
        "       [ 0.12,  0.31,  0.45,  0.54],\n",
        "       [ 0.15,  0.23,  0.25,  0.36],\n",
        "       [ 0.1 ,  0.21,  0.31,  0.38],\n",
        "       [ 0.17,  0.35,  0.35,  0.48],\n",
        "       [ 0.11,  0.28,  0.38,  0.5 ]]), array([[ 0.05,  0.1 ,  0.2 ,  0.18],\n",
        "       [ 0.13,  0.18,  0.3 ,  0.33],\n",
        "       [ 0.15,  0.07,  0.22,  0.19],\n",
        "       [ 0.09,  0.07,  0.12,  0.09],\n",
        "       [ 0.07,  0.11,  0.16,  0.12],\n",
        "       [ 0.09,  0.22,  0.19,  0.15],\n",
        "       [ 0.13,  0.25,  0.28,  0.29],\n",
        "       [ 0.11,  0.09,  0.11,  0.24],\n",
        "       [ 0.09,  0.11,  0.07,  0.15],\n",
        "       [ 0.11,  0.14,  0.23,  0.28],\n",
        "       [ 0.11,  0.12,  0.16,  0.19],\n",
        "       [ 0.1 ,  0.06,  0.12,  0.19],\n",
        "       [ 0.06,  0.09,  0.08,  0.12],\n",
        "       [ 0.07,  0.11,  0.17,  0.25],\n",
        "       [ 0.07,  0.06,  0.19,  0.18]])]\n",
        "[array([10, 20, 30]), array([10, 20, 30]), array([10, 20, 30]), array([10, 20]), array([10, 20, 30, 40]), array([10, 20, 30, 40]), array([10, 20, 30, 40]), array([10, 20, 30, 40])]\n",
        "BETA\n",
        "[array([[ 0.  ,  0.03,  0.66,  0.96,  0.99,  1.  ,  1.  ,  1.  ,  1.  ,\n",
        "         1.  ,  1.  ,  1.  ,  1.  ,  1.  ,  1.  ,  1.  ,  1.  ,  1.  ],\n",
        "       [ 0.  ,  0.01,  0.69,  0.95,  0.99,  1.  ,  1.  ,  1.  ,  1.  ,\n",
        "         1.  ,  1.  ,  1.  ,  1.  ,  1.  ,  1.  ,  1.  ,  1.  ,  1.  ],\n",
        "       [ 0.  ,  0.03,  0.67,  0.95,  0.96,  1.  ,  1.  ,  1.  ,  1.  ,\n",
        "         1.  ,  1.  ,  1.  ,  1.  ,  1.  ,  1.  ,  1.  ,  1.  ,  1.  ],\n",
        "       [ 0.  ,  0.01,  0.72,  0.96,  0.98,  1.  ,  1.  ,  1.  ,  1.  ,\n",
        "         1.  ,  1.  ,  1.  ,  1.  ,  1.  ,  1.  ,  1.  ,  1.  ,  1.  ],\n",
        "       [ 0.  ,  0.01,  0.73,  0.96,  0.96,  1.  ,  1.  ,  1.  ,  1.  ,\n",
        "         1.  ,  1.  ,  1.  ,  1.  ,  1.  ,  1.  ,  1.  ,  1.  ,  1.  ],\n",
        "       [ 0.  ,  0.  ,  0.61,  0.96,  0.99,  0.99,  1.  ,  1.  ,  1.  ,\n",
        "         1.  ,  1.  ,  1.  ,  1.  ,  1.  ,  1.  ,  1.  ,  1.  ,  1.  ],\n",
        "       [ 0.  ,  0.04,  0.7 ,  0.96,  0.98,  1.  ,  1.  ,  1.  ,  1.  ,\n",
        "         1.  ,  1.  ,  1.  ,  1.  ,  1.  ,  1.  ,  1.  ,  1.  ,  1.  ],\n",
        "       [ 0.  ,  0.  ,  0.66,  1.  ,  1.  ,  1.  ,  1.  ,  1.  ,  1.  ,\n",
        "         1.  ,  1.  ,  1.  ,  1.  ,  1.  ,  1.  ,  1.  ,  1.  ,  1.  ],\n",
        "       [ 0.  ,  0.  ,  0.56,  0.93,  1.  ,  0.99,  1.  ,  1.  ,  1.  ,\n",
        "         1.  ,  1.  ,  1.  ,  1.  ,  1.  ,  1.  ,  1.  ,  1.  ,  1.  ],\n",
        "       [ 0.  ,  0.  ,  0.62,  0.98,  0.99,  1.  ,  1.  ,  1.  ,  1.  ,\n",
        "         1.  ,  1.  ,  1.  ,  1.  ,  1.  ,  1.  ,  1.  ,  1.  ,  1.  ],\n",
        "       [ 0.  ,  0.01,  0.61,  0.96,  0.99,  1.  ,  1.  ,  1.  ,  1.  ,\n",
        "         1.  ,  1.  ,  1.  ,  1.  ,  1.  ,  1.  ,  1.  ,  1.  ,  1.  ],\n",
        "       [ 0.  ,  0.01,  0.69,  0.96,  0.97,  1.  ,  1.  ,  1.  ,  1.  ,\n",
        "         1.  ,  1.  ,  1.  ,  1.  ,  1.  ,  1.  ,  1.  ,  1.  ,  1.  ],\n",
        "       [ 0.  ,  0.01,  0.68,  0.94,  0.98,  1.  ,  1.  ,  1.  ,  1.  ,\n",
        "         1.  ,  1.  ,  1.  ,  1.  ,  1.  ,  1.  ,  1.  ,  1.  ,  1.  ],\n",
        "       [ 0.  ,  0.02,  0.75,  0.96,  1.  ,  1.  ,  1.  ,  1.  ,  1.  ,\n",
        "         1.  ,  1.  ,  1.  ,  1.  ,  1.  ,  1.  ,  1.  ,  1.  ,  1.  ],\n",
        "       [ 0.  ,  0.01,  0.66,  0.95,  0.97,  0.99,  1.  ,  1.  ,  1.  ,\n",
        "         1.  ,  1.  ,  1.  ,  1.  ,  1.  ,  1.  ,  1.  ,  1.  ,  1.  ]]), array([[ 0.54,  0.85,  1.  ],\n",
        "       [ 0.61,  0.97,  1.  ],\n",
        "       [ 0.45,  0.77,  1.  ],\n",
        "       [ 0.39,  0.85,  1.  ],\n",
        "       [ 0.33,  0.77,  0.98],\n",
        "       [ 0.41,  0.85,  1.  ],\n",
        "       [ 0.55,  0.95,  1.  ],\n",
        "       [ 0.33,  0.82,  1.  ],\n",
        "       [ 0.36,  0.67,  0.99],\n",
        "       [ 0.42,  0.85,  1.  ],\n",
        "       [ 0.42,  0.93,  1.  ],\n",
        "       [ 0.46,  0.97,  1.  ],\n",
        "       [ 0.52,  0.99,  1.  ],\n",
        "       [ 0.36,  0.78,  1.  ],\n",
        "       [ 0.54,  0.97,  1.  ]]), array([[ 0.43,  0.75,  0.99],\n",
        "       [ 0.35,  0.66,  0.96],\n",
        "       [ 0.26,  0.53,  0.96],\n",
        "       [ 0.29,  0.73,  0.99],\n",
        "       [ 0.21,  0.69,  0.99],\n",
        "       [ 0.34,  0.77,  1.  ],\n",
        "       [ 0.39,  0.85,  1.  ],\n",
        "       [ 0.19,  0.68,  0.98],\n",
        "       [ 0.38,  0.84,  1.  ],\n",
        "       [ 0.29,  0.79,  1.  ],\n",
        "       [ 0.29,  0.61,  1.  ],\n",
        "       [ 0.3 ,  0.89,  1.  ],\n",
        "       [ 0.31,  0.85,  1.  ],\n",
        "       [ 0.45,  0.86,  1.  ],\n",
        "       [ 0.42,  0.81,  1.  ]]), array([[ 0.5 ,  0.98],\n",
        "       [ 0.41,  0.87],\n",
        "       [ 0.6 ,  1.  ],\n",
        "       [ 0.49,  0.97],\n",
        "       [ 0.43,  1.  ],\n",
        "       [ 0.48,  0.98],\n",
        "       [ 0.5 ,  0.95],\n",
        "       [ 0.69,  1.  ],\n",
        "       [ 0.53,  0.98],\n",
        "       [ 0.63,  1.  ],\n",
        "       [ 0.36,  0.76],\n",
        "       [ 0.48,  0.92],\n",
        "       [ 0.4 ,  0.98],\n",
        "       [ 0.57,  0.99],\n",
        "       [ 0.54,  0.99]]), array([[ 0.22,  0.55,  0.71,  0.98],\n",
        "       [ 0.27,  0.59,  0.89,  0.99],\n",
        "       [ 0.3 ,  0.65,  0.93,  0.99],\n",
        "       [ 0.13,  0.52,  0.76,  0.94],\n",
        "       [ 0.38,  0.65,  0.9 ,  1.  ],\n",
        "       [ 0.33,  0.78,  0.95,  1.  ],\n",
        "       [ 0.47,  0.79,  0.99,  1.  ],\n",
        "       [ 0.33,  0.65,  0.95,  0.99],\n",
        "       [ 0.39,  0.69,  0.93,  0.99],\n",
        "       [ 0.29,  0.58,  0.86,  0.94],\n",
        "       [ 0.35,  0.73,  0.95,  1.  ],\n",
        "       [ 0.31,  0.66,  0.87,  1.  ],\n",
        "       [ 0.31,  0.6 ,  0.91,  0.99],\n",
        "       [ 0.29,  0.6 ,  0.82,  1.  ],\n",
        "       [ 0.13,  0.51,  0.82,  0.97]]), array([[ 0.11,  0.32,  0.59,  0.75],\n",
        "       [ 0.16,  0.19,  0.25,  0.43],\n",
        "       [ 0.11,  0.19,  0.27,  0.32],\n",
        "       [ 0.04,  0.06,  0.1 ,  0.05],\n",
        "       [ 0.14,  0.3 ,  0.36,  0.52],\n",
        "       [ 0.22,  0.45,  0.77,  0.87],\n",
        "       [ 0.07,  0.1 ,  0.23,  0.2 ],\n",
        "       [ 0.18,  0.28,  0.49,  0.74],\n",
        "       [ 0.11,  0.28,  0.44,  0.7 ],\n",
        "       [ 0.14,  0.27,  0.42,  0.67],\n",
        "       [ 0.18,  0.29,  0.39,  0.67],\n",
        "       [ 0.19,  0.25,  0.48,  0.63],\n",
        "       [ 0.11,  0.11,  0.14,  0.26],\n",
        "       [ 0.1 ,  0.18,  0.36,  0.51],\n",
        "       [ 0.08,  0.12,  0.26,  0.33]]), array([[ 0.15,  0.44,  0.71,  0.88],\n",
        "       [ 0.23,  0.41,  0.67,  0.9 ],\n",
        "       [ 0.1 ,  0.26,  0.44,  0.72],\n",
        "       [ 0.12,  0.43,  0.58,  0.83],\n",
        "       [ 0.13,  0.38,  0.68,  0.92],\n",
        "       [ 0.13,  0.33,  0.43,  0.74],\n",
        "       [ 0.16,  0.32,  0.64,  0.77],\n",
        "       [ 0.19,  0.35,  0.71,  0.86],\n",
        "       [ 0.16,  0.36,  0.64,  0.78],\n",
        "       [ 0.15,  0.22,  0.67,  0.92],\n",
        "       [ 0.17,  0.39,  0.51,  0.84],\n",
        "       [ 0.19,  0.37,  0.67,  0.83],\n",
        "       [ 0.18,  0.3 ,  0.68,  0.9 ],\n",
        "       [ 0.09,  0.26,  0.48,  0.83],\n",
        "       [ 0.12,  0.32,  0.62,  0.84]]), array([[ 0.06,  0.08,  0.09,  0.11],\n",
        "       [ 0.03,  0.1 ,  0.15,  0.16],\n",
        "       [ 0.06,  0.08,  0.17,  0.19],\n",
        "       [ 0.05,  0.05,  0.06,  0.07],\n",
        "       [ 0.08,  0.08,  0.25,  0.21],\n",
        "       [ 0.05,  0.15,  0.06,  0.18],\n",
        "       [ 0.11,  0.17,  0.22,  0.37],\n",
        "       [ 0.07,  0.17,  0.28,  0.29],\n",
        "       [ 0.09,  0.1 ,  0.12,  0.21],\n",
        "       [ 0.11,  0.18,  0.18,  0.2 ],\n",
        "       [ 0.08,  0.08,  0.11,  0.15],\n",
        "       [ 0.06,  0.11,  0.15,  0.21],\n",
        "       [ 0.06,  0.08,  0.1 ,  0.18],\n",
        "       [ 0.09,  0.12,  0.23,  0.23],\n",
        "       [ 0.08,  0.1 ,  0.12,  0.12]])]\n",
        "[array([ 2,  3,  4,  5,  6,  7,  8,  9, 10, 11, 12, 13, 14, 15, 16, 17, 18,\n",
        "       19]), array([10, 20, 30]), array([10, 20, 30]), array([10, 20]), array([10, 20, 30, 40]), array([10, 20, 30, 40]), array([10, 20, 30, 40]), array([10, 20, 30, 40])]\n"
       ]
      }
     ],
     "prompt_number": 102
    },
    {
     "cell_type": "markdown",
     "metadata": {},
     "source": [
      "With the power and effect size arrays, we can calculate the average effect sizes."
     ]
    },
    {
     "cell_type": "code",
     "collapsed": false,
     "input": [
      "a_eff_means, a_eff_bounds = collate_effect_size(a_counts, a_powers, alpha=0.05)\n",
      "b_eff_means, b_eff_bounds = collate_effect_size(b_counts, b_powers, alpha=0.05)"
     ],
     "language": "python",
     "metadata": {},
     "outputs": [
      {
       "output_type": "stream",
       "stream": "stdout",
       "text": [
        "\n"
       ]
      }
     ],
     "prompt_number": 108
    },
    {
     "cell_type": "code",
     "collapsed": false,
     "input": [
      "print a_eff_means\n",
      "print a_eff_bounds"
     ],
     "language": "python",
     "metadata": {},
     "outputs": [
      {
       "output_type": "stream",
       "stream": "stdout",
       "text": [
        "[ 0.62614162  0.61903019  0.50158498  0.46482154  0.256742    0.11852393\n",
        "  0.30793208  0.18540452]\n",
        "[ 0.04367571  0.03027979  0.03264865  0.06518293  0.02175265  0.01827164\n",
        "  0.00967339  0.01610131]\n"
       ]
      }
     ],
     "prompt_number": 109
    },
    {
     "cell_type": "code",
     "collapsed": false,
     "input": [
      "print b_eff_means\n",
      "print b_eff_bounds"
     ],
     "language": "python",
     "metadata": {},
     "outputs": [
      {
       "output_type": "stream",
       "stream": "stdout",
       "text": [
        "[  1.81898939e-12   7.02803440e-01   6.15958582e-01   7.66662701e-01\n",
        "   5.72898735e-01   2.99832557e-01   3.98962055e-01   1.67787333e-01]\n",
        "[  3.51564771e-19   3.95047470e-02   3.76789176e-02   5.13988206e-02\n",
        "   2.62446618e-02   2.44914907e-02   2.00925151e-02   1.41279355e-02]\n"
       ]
      }
     ],
     "prompt_number": 110
    },
    {
     "cell_type": "code",
     "collapsed": false,
     "input": [
      "print a_eff_bounds"
     ],
     "language": "python",
     "metadata": {},
     "outputs": [
      {
       "output_type": "stream",
       "stream": "stdout",
       "text": [
        "[ 0.04367571  0.03027979  0.03264865  0.06518293  0.02175265  0.01827164\n",
        "  0.00967339  0.01610131]\n"
       ]
      }
     ],
     "prompt_number": 111
    },
    {
     "cell_type": "code",
     "collapsed": false,
     "input": [
      "for idx, eff_m in enumerate(a_eff_means):\n",
      "    print cats[idx]\n",
      "    print 'alpha', (ft.solve_power(eff_m+a_eff_bounds[idx], nobs=None, power=0.8, alpha=0.05),\n",
      "                    ft.solve_power(eff_m-a_eff_bounds[idx], nobs=None, power=0.8, alpha=0.05))\n",
      "    print 'beta ', (ft.solve_power(b_eff_means[idx]+b_eff_bounds[idx], nobs=None, power=0.8, alpha=0.05),\n",
      "                    ft.solve_power(b_eff_means[idx]-b_eff_bounds[idx], nobs=None, power=0.8, alpha=0.05))"
     ],
     "language": "python",
     "metadata": {},
     "outputs": [
      {
       "output_type": "stream",
       "stream": "stdout",
       "text": [
        " BODY_HABITAT\n",
        "alpha (19.614094829386243, 25.20781337605888)\n",
        "beta  (array([ 20.]), array([ 20.]))\n",
        "IBD\n",
        "alpha (20.72516020057675, 24.719739814761066)\n",
        "beta  "
       ]
      },
      {
       "output_type": "stream",
       "stream": "stdout",
       "text": [
        "(16.406529059131323, 19.95597309476276)\n",
        "ANTIBIOTIC_SELECT\n",
        "alpha (29.55025611252779, 37.71321118384857)\n",
        "beta  (20.481854726625283, 25.541871830679902)\n",
        "TYPES_OF_PLANTS\n",
        "alpha (29.988911516441068, 51.13771671093126)\n",
        "beta  (13.937834264643227, 17.487872081258786)\n",
        "AGE_CAT\n",
        "alpha "
       ]
      },
      {
       "output_type": "stream",
       "stream": "stdout",
       "text": [
        "(103.15401417976925, 144.08350656232054)\n",
        "beta  (23.946313495129882, 28.32065742656092)\n",
        "BMI_CAT\n",
        "alpha (421.3609885665252, 782.863733701586)\n",
        "beta  (76.5876967888217, 105.48460589826584)\n",
        "COLLECTION_SEASON\n",
        "alpha (79.7760689217258, 90.19233065229216)\n",
        "beta  "
       ]
      },
      {
       "output_type": "stream",
       "stream": "stdout",
       "text": [
        "(46.6964048084825, 56.66612605296965)\n",
        "ALCOHOL_CONSUMPTION\n",
        "alpha (195.23845952554652, 275.75999052293685)\n",
        "beta  (239.10978674835226, 334.35145065125226)\n"
       ]
      },
      {
       "output_type": "stream",
       "stream": "stderr",
       "text": [
        "/Users/jwdebelius/.virtualenvs/qiime_dev/lib/python2.7/site-packages/statsmodels/stats/power.py:278: ConvergenceWarning: finding solution failed\n",
        "  warnings.warn('finding solution failed', ConvergenceWarning)\n"
       ]
      }
     ],
     "prompt_number": 113
    },
    {
     "cell_type": "markdown",
     "metadata": {},
     "source": [
      "The effect size for the bodysite is too large to be able to solve for the power using statsmodels. However, we can generate a power curve from the data we have."
     ]
    },
    {
     "cell_type": "code",
     "collapsed": false,
     "input": [
      "# Gets the mean power\n",
      "a_body_mean = np.nanmean(a_powers[0], 0)\n",
      "# Gets the bounds on the power\n",
      "a_body_bound = confidence_bound(a_powers[0], axis=0)\n",
      "\n",
      "# Prevents the confidence interval on the power from being greater than 1\n",
      "a_body_lower = np.vstack((a_body_mean - a_body_bound, \n",
      "                          np.ones(a_body_mean.shape))).min(0)\n",
      "a_body_upper = np.vstack((a_body_mean + a_body_bound, \n",
      "                          np.ones(a_body_mean.shape))).min(0)\n",
      "\n",
      "# Gets the mean power\n",
      "b_body_mean = np.nanmean(b_powers[0], 0)\n",
      "# Gets the bounds on the power\n",
      "b_body_bound = confidence_bound(b_powers[0], axis=0)\n",
      "# Prevents the confidence interval on the power from being greater than 1\n",
      "b_body_lower = np.vstack((b_body_mean - b_body_bound, \n",
      "                          np.ones(b_body_mean.shape))).min(0)\n",
      "b_body_upper = np.vstack((b_body_mean + b_body_bound, \n",
      "                          np.ones(b_body_mean.shape))).min(0)"
     ],
     "language": "python",
     "metadata": {},
     "outputs": [],
     "prompt_number": 114
    },
    {
     "cell_type": "markdown",
     "metadata": {},
     "source": [
      "We'll use the effect size to expand the power curves for the fecal categories. The next step for this will be calcuating a colormap so we can match the color with the category."
     ]
    },
    {
     "cell_type": "code",
     "collapsed": false,
     "input": [
      "num_colors=len(cats)\n",
      "cm = get_cmap('Paired')\n",
      "new_map = np.array([list(cm(1.*i/(num_colors + 1))) for i in xrange(num_colors)])"
     ],
     "language": "python",
     "metadata": {},
     "outputs": [],
     "prompt_number": 115
    },
    {
     "cell_type": "markdown",
     "metadata": {},
     "source": [
      "Now, we can sort the colormap, categories, means and bounds based on the largest effect size for both alpha and beta diversity. In both cases, we know that bodysite has the largest effect, so this will be exlcuded."
     ]
    },
    {
     "cell_type": "code",
     "collapsed": false,
     "input": [
      "# Gets order associatied with the samples\n",
      "b_order = np.argsort(b_eff_means[1:]) + 1\n",
      "a_order = np.argsort(a_eff_means[1:]) + 1"
     ],
     "language": "python",
     "metadata": {},
     "outputs": [],
     "prompt_number": 116
    },
    {
     "cell_type": "markdown",
     "metadata": {},
     "source": [
      "We can start by generating the curve for alpha diversity results."
     ]
    },
    {
     "cell_type": "code",
     "collapsed": false,
     "input": [
      "print b_counts[0]\n",
      "print b_body_lower\n",
      "print b_body_mean\n",
      "print b_body_upper"
     ],
     "language": "python",
     "metadata": {},
     "outputs": [
      {
       "output_type": "stream",
       "stream": "stdout",
       "text": [
        "[ 2  3  4  5  6  7  8  9 10 11 12 13 14 15 16 17 18 19]\n",
        "[ 0.          0.00565736  0.63814767  0.94950883  0.97562248  0.99562665\n",
        "  1.          1.          1.          1.          1.          1.          1.\n",
        "  1.          1.          1.          1.          1.        ]\n",
        "[ 0.          0.01266667  0.66733333  0.95866667  0.98333333  0.998       1.\n",
        "  1.          1.          1.          1.          1.          1.          1.\n",
        "  1.          1.          1.          1.        ]\n",
        "[ 0.          0.01967598  0.69651899  0.9678245   0.99104418  1.          1.\n",
        "  1.          1.          1.          1.          1.          1.          1.\n",
        "  1.          1.          1.          1.        ]\n"
       ]
      }
     ],
     "prompt_number": 137
    },
    {
     "cell_type": "code",
     "collapsed": false,
     "input": [
      "# Generates a plot of the alpha diversity\n",
      "alpha_fig = plot_effects(effect_means=a_eff_means[a_order[::-1]],\n",
      "                         effect_bounds=a_eff_bounds[a_order[::-1]],\n",
      "                         labels=labels[a_order[::-1]],\n",
      "                         sample_counts=np.hstack((np.array([2]), \n",
      "                                                  np.arange(5, 255, 5))),\n",
      "                         colormap=new_map[a_order[::-1], :],\n",
      "                         title='PD Whole Tree Diversity',\n",
      "                         legend_size=13)\n",
      "# Adds the bodysite line to the axis\n",
      "axes = alpha_fig.axes\n",
      "axes[0].plot(a_counts[0], a_body_lower, ':', color=[0.5, 0.5, 0.5])\n",
      "axes[1].plot(a_counts[0], a_body_upper, ':', color=[0.5, 0.5, 0.5])\n",
      "axes[2].plot(a_counts[0], a_body_mean, linewidth=2, color=[0.5, 0.5, 0.5], label='Bodysite')\n",
      "axes[2].get_legend().set_visible(False)\n",
      "handles = list(alpha_fig.axes[2].get_legend_handles_labels())\n",
      "handles[0].insert(0, handles[0].pop(-1))\n",
      "h_order = list(np.hstack((np.array([0]), a_order[::-1])))\n",
      "# leg2 = alpha_fig.legend(handles=handles[0],\n",
      "#                         labels=labels[h_order])\n",
      "leg2 = alpha_fig.legend(handles=handles[0],\n",
      "                        labels=['Bodysite', 'IBD', 'Antibiotic Use', 'Types of Plants',\n",
      "                                'Season', 'Age', 'Alcohol Use', 'BMI'])\n",
      "print h_order\n",
      "# Adjusts the position and the box around the new legend\n",
      "leg2.set_frame_on(False) \n",
      "leg2.set_bbox_to_anchor((0.9, 0.77))\n",
      "# Adjusts the figure and axes sizes to make things look nice\n",
      "alpha_fig.set_size_inches(10, 5)\n",
      "alpha_fig.axes[0].set_position((0.125, 0.13, 0.60, 0.75))\n",
      "alpha_fig.axes[1].set_position((0.125, 0.13, 0.60, 0.75))\n",
      "alpha_fig.axes[2].set_position((0.125, 0.13, 0.60, 0.75))\n",
      "# Saves the figure to the desktop\n",
      "alpha_fig.savefig('/Users/jwdebelius/Desktop/alpha_curve.pdf')"
     ],
     "language": "python",
     "metadata": {},
     "outputs": [
      {
       "output_type": "stream",
       "stream": "stdout",
       "text": [
        "[0, 1, 2, 3, 6, 4, 7, 5]\n"
       ]
      },
      {
       "metadata": {},
       "output_type": "display_data",
       "png": "[encoded data removed]",
       "text": [
        "<matplotlib.figure.Figure at 0x110c84990>"
       ]
      }
     ],
     "prompt_number": 135
    },
    {
     "cell_type": "code",
     "collapsed": false,
     "input": [
      "# Generates a plot of the alpha diversity\n",
      "beta_fig = plot_effects(effect_means=b_eff_means[b_order[::-1]],\n",
      "                         effect_bounds=b_eff_bounds[b_order[::-1]],\n",
      "                         labels=labels[b_order[::-1]],\n",
      "                         sample_counts=np.hstack((np.array([2]), \n",
      "                                                  np.arange(5, 255, 5))),\n",
      "                         colormap=new_map[b_order[::-1], :],\n",
      "                         title='Unweighted UniFrac',\n",
      "                         legend_size=13)\n",
      "# Adds the bodysite line to the axis\n",
      "axes = beta_fig.axes\n",
      "axes[0].plot(b_counts[0], b_body_lower, ':', color=[0.5, 0.5, 0.5])\n",
      "axes[1].plot(b_counts[0], b_body_upper, ':', color=[0.5, 0.5, 0.5])\n",
      "axes[2].plot(b_counts[0], b_body_mean, linewidth=2, color=[0.5, 0.5, 0.5], label='Bodysite')\n",
      "axes[2].get_legend().set_visible(False)\n",
      "handles = list(beta_fig.axes[2].get_legend_handles_labels())\n",
      "handles[0].insert(0, handles[0].pop(-1))\n",
      "h_order = list(np.hstack((np.array([0]), b_order[::-1])))\n",
      "# leg2 = beta_fig.legend(handles=handles[0],\n",
      "#                         labels=labels[h_order])\n",
      "leg2 = beta_fig.legend(handles=handles[0],\n",
      "                        labels=labels[h_order])\n",
      "print h_order\n",
      "# Adjusts the position and the box around the new legend\n",
      "leg2.set_frame_on(False) \n",
      "leg2.set_bbox_to_anchor((0.9, 0.77))\n",
      "# Adjusts the figure and axes sizes to make things look nice\n",
      "beta_fig.set_size_inches(10, 5)\n",
      "beta_fig.axes[0].set_position((0.125, 0.13, 0.60, 0.75))\n",
      "beta_fig.axes[1].set_position((0.125, 0.13, 0.60, 0.75))\n",
      "beta_fig.axes[2].set_position((0.125, 0.13, 0.60, 0.75))\n",
      "# Saves the figure to the desktop\n",
      "beta_fig.savefig('/Users/jwdebelius/Desktop/beta_curve.pdf')"
     ],
     "language": "python",
     "metadata": {},
     "outputs": [
      {
       "output_type": "stream",
       "stream": "stdout",
       "text": [
        "[0, 3, 1, 2, 4, 6, 5, 7]\n"
       ]
      },
      {
       "metadata": {},
       "output_type": "display_data",
       "png": "[encoded data removed]",
       "text": [
        "<matplotlib.figure.Figure at 0x102b01f90>"
       ]
      }
     ],
     "prompt_number": 134
    },
    {
     "cell_type": "code",
     "collapsed": false,
     "input": [],
     "language": "python",
     "metadata": {},
     "outputs": []
    },
    {
     "cell_type": "code",
     "collapsed": false,
     "input": [
      "for idx, cat in enumerate(cats[1:]):\n",
      "    ctrl_cats = deepcopy(control_cats)\n",
      "    if cat in ctrl_cats:\n",
      "        ctrl_cats.remove(cat)\n",
      "    ids = get_paired_subsamples(faws_map, cat, ctrl_cats, order=order[idx + 1])\n",
      "    print cat, len(ids[0])"
     ],
     "language": "python",
     "metadata": {},
     "outputs": [
      {
       "output_type": "stream",
       "stream": "stdout",
       "text": [
        "IBD 34\n",
        "ANTIBIOTIC_SELECT 35\n",
        "TYPES_OF_PLANTS 27\n",
        "AGE_CAT 59\n",
        "BMI_CAT"
       ]
      },
      {
       "output_type": "stream",
       "stream": "stdout",
       "text": [
        " 70\n",
        "COLLECTION_SEASON 137\n",
        "ALCOHOL_CONSUMPTION"
       ]
      },
      {
       "output_type": "stream",
       "stream": "stdout",
       "text": [
        " 112\n"
       ]
      }
     ],
     "prompt_number": 45
    },
    {
     "cell_type": "code",
     "collapsed": false,
     "input": [
      "print cats\n",
      "print np.arange(0, len(cats))[cats == 'AGE_CAT']"
     ],
     "language": "python",
     "metadata": {},
     "outputs": [
      {
       "output_type": "stream",
       "stream": "stdout",
       "text": [
        "['BODY_HABITAT', 'IBD', 'ANTIBIOTIC_SELECT', 'TYPES_OF_PLANTS', 'AGE_CAT', 'BMI_CAT', 'COLLECTION_SEASON', 'ALCOHOL_CONSUMPTION']\n",
        "0\n"
       ]
      }
     ],
     "prompt_number": 51
    },
    {
     "cell_type": "code",
     "collapsed": false,
     "input": [
      "print 'Alpha : %1.3f +/- %1.3f' % (a_eff_means[4], a_eff_bounds[4])\n",
      "print 'Beta : %1.3f +/- %1.3f' % (b_eff_means[4], b_eff_bounds[4])"
     ],
     "language": "python",
     "metadata": {},
     "outputs": [
      {
       "output_type": "stream",
       "stream": "stdout",
       "text": [
        "Alpha : 0.244 +/- 0.023\n",
        "Beta : 0.559 +/- 0.035\n"
       ]
      }
     ],
     "prompt_number": 53
    },
    {
     "cell_type": "code",
     "collapsed": false,
     "input": [
      "ctrl_cats = deepcopy(control_cats)\n",
      "ctrl_cats.remove('AGE_CAT')\n",
      "atest = lambda x: test_alpha_kruskal(x, faws_map, a_div_metric)\n",
      "a_pwr, a_cnts = get_subsampled_power(mode=\"PAIRED\", \n",
      "                                         test=atest,\n",
      "                                         meta=faws_map,\n",
      "                                         control_cats=ctrl_cats,\n",
      "                                         cat='AGE_CAT',\n",
      "                                         order=['20s', '50s'],\n",
      "                                         num_iter=100,\n",
      "                                         num_runs=5)\n",
      "print collate_effect_size(powers=[a_pwr], counts=[a_cnts], alpha=0.05)"
     ],
     "language": "python",
     "metadata": {},
     "outputs": [
      {
       "output_type": "stream",
       "stream": "stdout",
       "text": [
        "(array([ 0.19695666]), array([ 0.02115445]))\n"
       ]
      }
     ],
     "prompt_number": 66
    },
    {
     "cell_type": "code",
     "collapsed": false,
     "input": [
      "print ctrl_cats\n",
      "ids = get_paired_subsamples(faws_map, 'AGE_CAT', ctrl_cats, ['20s', '50s'])\n",
      "beta_tests[4](ids)"
     ],
     "language": "python",
     "metadata": {},
     "outputs": [
      {
       "output_type": "stream",
       "stream": "stdout",
       "text": [
        "['IBD', 'BMI_CAT', 'TYPES_OF_PLANTS', 'DIABETES', 'ANTIBIOTIC_SELECT', 'COLLECTION_SEASON', 'SLEEP_DURATION']\n"
       ]
      },
      {
       "metadata": {},
       "output_type": "pyout",
       "prompt_number": 61,
       "text": [
        "0.02"
       ]
      }
     ],
     "prompt_number": 61
    },
    {
     "cell_type": "code",
     "collapsed": false,
     "input": [
      "beta_tests[4]"
     ],
     "language": "python",
     "metadata": {},
     "outputs": []
    },
    {
     "cell_type": "code",
     "collapsed": false,
     "input": [
      "btest = lambda x: test_beta_permanova(x, faws_map, faws_ubd, 'AGE_CAT')\n",
      "b_pwr, b_cnts = get_subsampled_power(mode=\"PAIRED\", \n",
      "                                     test=btest,\n",
      "                                     meta=faws_map,\n",
      "                                     control_cats=ctrl_cats,\n",
      "                                     cat='AGE_CAT',\n",
      "                                     order=['20s', '50s'],\n",
      "                                     num_iter=100,\n",
      "                                     num_runs=5)\n",
      "print collate_effect_size(powers=[a_pwr], counts=[a_cnts], alpha=0.05)"
     ],
     "language": "python",
     "metadata": {},
     "outputs": [
      {
       "output_type": "stream",
       "stream": "stdout",
       "text": [
        "(array([ 0.19695666]), array([ 0.02115445]))\n"
       ]
      }
     ],
     "prompt_number": 67
    },
    {
     "cell_type": "code",
     "collapsed": false,
     "input": [
      "print collate_effect_size(powers=[b_pwr], counts=[b_cnts], alpha=0.05)"
     ],
     "language": "python",
     "metadata": {},
     "outputs": [
      {
       "output_type": "stream",
       "stream": "stdout",
       "text": [
        "(array([ 0.42253019]), array([ 0.03531129]))\n"
       ]
      }
     ],
     "prompt_number": 68
    },
    {
     "cell_type": "code",
     "collapsed": false,
     "input": [
      "print b_eff_means\n",
      "print b_eff_bounds"
     ],
     "language": "python",
     "metadata": {},
     "outputs": [
      {
       "output_type": "stream",
       "stream": "stdout",
       "text": [
        "[        nan  0.69515171  0.63004137  0.75137128  0.55908795  0.30836381\n",
        "  0.38322618  0.13966301]\n",
        "[        nan  0.04555677  0.06750463  0.10296553  0.03517132  0.02250657\n",
        "  0.03357465  0.02337527]\n"
       ]
      }
     ],
     "prompt_number": 69
    },
    {
     "cell_type": "code",
     "collapsed": false,
     "input": [
      "print control_cats"
     ],
     "language": "python",
     "metadata": {},
     "outputs": [
      {
       "output_type": "stream",
       "stream": "stdout",
       "text": [
        "['IBD', 'BMI_CAT', 'TYPES_OF_PLANTS', 'DIABETES', 'ANTIBIOTIC_SELECT', 'AGE_CAT', 'COLLECTION_SEASON', 'SLEEP_DURATION']\n"
       ]
      }
     ],
     "prompt_number": 70
    },
    {
     "cell_type": "code",
     "collapsed": false,
     "input": [
      "new_ctrl_cats = ['IBD', 'BMI_CAT', 'DIABETES', 'ANTIBIOTIC_SELECT', 'AGE_CAT', 'COLLECTION_SEASON', 'SLEEP_DURATION']\n",
      "a_fun = lambda x: test_alpha_kruskal(x, faws_map, a_div_metric)\n",
      "b_fun = lambda x: test_beta_permanova(x, faws_map, faws_ubd, 'TYPES_OF_PLANTS')\n",
      "tp_orders = [['Less than 5', 'More than 30'],\n",
      "             ['6 to 10', 'More than 30'],\n",
      "             ['11 to 20', 'More than 30'],\n",
      "             ['21 to 30', 'More than 30']]\n",
      "tp_a_pwrs = []\n",
      "tp_a_cnts = []\n",
      "tp_b_pwrs = []\n",
      "tp_b_cnts = []\n",
      "for tp_ord in tp_orders:\n",
      "    tpap, tpac = get_subsampled_power(mode=\"PAIRED\", \n",
      "                                      test=a_fun,\n",
      "                                      meta=faws_map,\n",
      "                                      control_cats=new_ctrl_cats,\n",
      "                                      cat='TYPES_OF_PLANTS',\n",
      "                                      order=tp_ord,\n",
      "                                      num_iter=100,\n",
      "                                      num_runs=5)\n",
      "    tpbp, tpbc = get_subsampled_power(mode=\"PAIRED\", \n",
      "                                      test=b_fun,\n",
      "                                      meta=faws_map,\n",
      "                                      control_cats=new_ctrl_cats,\n",
      "                                      cat='TYPES_OF_PLANTS',\n",
      "                                      order=tp_ord,\n",
      "                                      num_iter=100,\n",
      "                                      num_runs=5)\n",
      "    tp_a_pwrs.append(tpap)\n",
      "    tp_a_cnts.append(tpac)\n",
      "    tp_b_pwrs.append(tpbp)\n",
      "    tp_b_cnts.append(tpbc)"
     ],
     "language": "python",
     "metadata": {},
     "outputs": [],
     "prompt_number": 73
    },
    {
     "cell_type": "code",
     "collapsed": false,
     "input": [
      "tp_a_eff, tp_a_bnd = collate_effect_size(powers=tp_a_pwrs, counts=tp_a_cnts, alpha=0.05)\n",
      "tp_b_eff, tp_b_bnd = collate_effect_size(powers=tp_b_pwrs, counts=tp_b_cnts, alpha=0.05)"
     ],
     "language": "python",
     "metadata": {},
     "outputs": [],
     "prompt_number": 84
    },
    {
     "cell_type": "code",
     "collapsed": false,
     "input": [
      "tp_a_fig = plot_effects(effect_means=tp_a_eff,\n",
      "                        effect_bounds=tp_a_bnd,\n",
      "                        labels=array(['Less than 5', '6 to 10', '11 to 20', '21 to 30']),\n",
      "                        sample_counts=np.hstack((array([2]), np.arange(5, 255, 5))),\n",
      "                        title='Types of Plants, alpha diversity',\n",
      "                        leg_offset=(1.4, 0.5))"
     ],
     "language": "python",
     "metadata": {},
     "outputs": [
      {
       "metadata": {},
       "output_type": "display_data",
       "png": "[encoded data removed]",
       "text": [
        "<matplotlib.figure.Figure at 0x10584d410>"
       ]
      }
     ],
     "prompt_number": 85
    },
    {
     "cell_type": "code",
     "collapsed": false,
     "input": [
      "tp_b_fig = plot_effects(effect_means=tp_b_eff,\n",
      "                        effect_bounds=tp_b_bnd,\n",
      "                        labels=array(['Less than 5', '6 to 10', '11 to 20', '21 to 30']),\n",
      "                        sample_counts=np.hstack((array([2]), np.arange(5, 255, 5))),\n",
      "                        title='Types of Plants, beta diversity',\n",
      "                        leg_offset=(1.4, 0.5))"
     ],
     "language": "python",
     "metadata": {},
     "outputs": [
      {
       "metadata": {},
       "output_type": "display_data",
       "png": "[encoded data removed]",
       "text": [
        "<matplotlib.figure.Figure at 0x10f0e6650>"
       ]
      }
     ],
     "prompt_number": 86
    },
    {
     "cell_type": "code",
     "collapsed": false,
     "input": [
      "faws_map.groupby('TYPES_OF_PLANTS').count().SUBSET"
     ],
     "language": "python",
     "metadata": {},
     "outputs": [
      {
       "metadata": {},
       "output_type": "pyout",
       "prompt_number": 72,
       "text": [
        "TYPES_OF_PLANTS\n",
        "11 to 20           576\n",
        "21 to 30           374\n",
        "6 to 10            433\n",
        "Less than 5        144\n",
        "More than 30       287\n",
        "Name: SUBSET, dtype: int64"
       ]
      }
     ],
     "prompt_number": 72
    },
    {
     "cell_type": "code",
     "collapsed": false,
     "input": [
      "afig = pretty_pandas_boxplot(comb_map.loc[comb_map.SUBSET == True],\n",
      "                             cats[0], order[0], 'PD_whole_tree_mean')"
     ],
     "language": "python",
     "metadata": {},
     "outputs": [
      {
       "metadata": {},
       "output_type": "display_data",
       "png": "[encoded data removed]",
       "text": [
        "<matplotlib.figure.Figure at 0x110845b50>"
       ]
      }
     ],
     "prompt_number": 141
    },
    {
     "cell_type": "code",
     "collapsed": false,
     "input": [],
     "language": "python",
     "metadata": {},
     "outputs": []
    }
   ],
   "metadata": {}
  }
 ]
}