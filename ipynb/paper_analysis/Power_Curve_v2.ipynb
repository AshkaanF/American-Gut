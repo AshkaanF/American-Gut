{
 "metadata": {
  "name": "",
  "signature": "sha256:ff0d82996c63c58935a8ca13977f74d1f5a9c60c61bd8cc7a76ec8057eebbd65"
 },
 "nbformat": 3,
 "nbformat_minor": 0,
 "worksheets": [
  {
   "cells": [
    {
     "cell_type": "code",
     "collapsed": false,
     "input": [
      "%matplotlib inline"
     ],
     "language": "python",
     "metadata": {},
     "outputs": [],
     "prompt_number": 1
    },
    {
     "cell_type": "markdown",
     "metadata": {},
     "source": [
      "<a id=\"top\"></a>\n",
      "\n",
      "#Power Analysis\n",
      "<p>...</p>\n",
      "\n",
      "####Notebook Requirements\n",
      "<ul><li>cURL\n",
      "</li><li>Python 2.7\n",
      "</li><li>Numpy $\\geq$ 1.7\n",
      "</li><li>Biom format 2.0.1\n",
      "</li><li>Pandas 0.14.1\n",
      "</li><li>StatsModel 0.5.0\n",
      "</li><li>Scikit bio 0.1.4\n",
      "</li><li>Qiime 1.8.0-dev\n",
      "</li><li>Custom code libraries, <a href=\"\">pandas_fun.py</a> and <a href=\"\">power.py</a>.\n",
      "</li></ul>\n",
      "\n",
      "####Table of contents\n",
      "<ul><li><a href=\"#parameters\">Sets analysis parameters</a>\n",
      "</li><li><a href=\"#ifilepath\">Imports necessary files</a>\n",
      "</li></ul>\n",
      "\n",
      "\n",
      "We start by importing necessary functions, and determining if files should be overwritten."
     ]
    },
    {
     "cell_type": "code",
     "collapsed": false,
     "input": [
      "# File handling\n",
      "from os import remove, rename\n",
      "from os.path import abspath, isfile, exists, join as pjoin\n",
      "from copy import deepcopy\n",
      "# Random sampling\n",
      "from random import sample\n",
      "# Numerical operations\n",
      "from numpy import nan, isnan, mean, std, hstack, array, zeros, arange\n",
      "# Statitics\n",
      "from scipy.stats import kruskal\n",
      "from statsmodels.stats.power import FTestAnovaPower\n",
      "# Plotting\n",
      "from matplotlib import rcParams\n",
      "import matplotlib.pylab as plt\n",
      "# Pandas data frame\n",
      "from pandas import read_csv, Series, DataFrame\n",
      "# Distance matrix handling\n",
      "from skbio import DistanceMatrix\n",
      "from skbio.math.stats.distance import PERMANOVA\n",
      "# Biom handling\n",
      "from biom import load_table\n",
      "# Specialzied function\n",
      "from jwd_code.pandas_fun import (check_dir, \n",
      "                                 pad_index)\n",
      "\n",
      "from jwd_code.power import *\n",
      "\n",
      "# Writes a file to save the json string tables\n",
      "def write_biom(table, fp):\n",
      "    \"\"\"Writes a biom table as a json string\"\"\"\n",
      "    file_ = open(fp, 'w')\n",
      "    file_.write(table.to_json(''))\n",
      "    file_.close()"
     ],
     "language": "python",
     "metadata": {},
     "outputs": [
      {
       "output_type": "stream",
       "stream": "stderr",
       "text": [
        "/Users/jwdebelius/.virtualenvs/qiime_dev/lib/python2.7/site-packages/matplotlib/__init__.py:1155: UserWarning:  This call to matplotlib.use() has no effect\n",
        "because the backend has already been chosen;\n",
        "matplotlib.use() must be called *before* pylab, matplotlib.pyplot,\n",
        "or matplotlib.backends is imported for the first time.\n",
        "\n",
        "  warnings.warn(_use_error_msg)\n"
       ]
      }
     ],
     "prompt_number": 2
    },
    {
     "cell_type": "markdown",
     "metadata": {},
     "source": [
      "We will also set up some plotting parameters so the generated figures use Helvetica or Arial as their default font."
     ]
    },
    {
     "cell_type": "code",
     "collapsed": false,
     "input": [
      "# Sets up plotting parameters so that the default setting is use to Helvetica\n",
      "# in plots\n",
      "rcParams['font.family'] = 'sans-serif'\n",
      "rcParams['font.sans-serif'] = ['Helvetica', 'Arial']\n",
      "rcParams['text.usetex'] = True"
     ],
     "language": "python",
     "metadata": {},
     "outputs": [],
     "prompt_number": 3
    },
    {
     "cell_type": "markdown",
     "metadata": {},
     "source": [
      "<a href=#top>Return to the top</a>\n",
      "\n",
      "<a id=\"parameters\"></a>\n",
      "###### Sets analysis parameters\n",
      "\n",
      "We can also set some necessary parameters for handling files and this analysis."
     ]
    },
    {
     "cell_type": "code",
     "collapsed": false,
     "input": [
      "overwrite = False\n",
      "\n",
      "# Sets parameters for reading tables into pandas\n",
      "txt_delim = '\\t'\n",
      "map_index = '#SampleID'\n",
      "map_nas = ['NA', 'no_data', 'unknown']\n",
      "write_na = ''\n",
      "\n",
      "# Sets paramaters for alpha diversity\n",
      "a_div_metric = 'PD_whole_tree_mean'\n",
      "a_ylabel = 'PD Whole Tree Diversity'\n",
      "\n",
      "# Sets the parameters to show for the beta diversity summary\n",
      "show_beta = ['Group 1', 'Group 2', \n",
      "             'Parametric p-value (Bonferroni-corrected)', \n",
      "             'Nonparametric p-value (Bonferroni-corrected)']"
     ],
     "language": "python",
     "metadata": {},
     "outputs": [],
     "prompt_number": 4
    },
    {
     "cell_type": "markdown",
     "metadata": {},
     "source": [
      "<a href=\"#top\">Return to the top</a>\n",
      "\n",
      "<a id=\"ifilepath\"></a>\n",
      "######Imports the files\n",
      "\n",
      "This points to the directories and files where analysis files are located. If the directories are not avaliable, they can be downloaded without processing. This notebook focuses on samples from the <a href=\"https://www.dropbox.com/s/c54ggzikun6rjcm/AG_1_10_fecal_subset.tgz\">American Gut rounds 1-10 healthy subset</a> and then <a href=\"https://www.dropbox.com/s/5ufd2v92i633q1i/AG_1_10_filtered_fecal_subset.tgz\">filtered American Gut rounds 1-10 healthy subset</a>. The data will be downloaded using cURL if the files cannot be found.\n",
      "\n",
      "The data is assumed to be saved in a directory called <font color=\"darkblue\">AGPanalysis</font> in the parent directory of the current directory. (It is assumed the filepath is located in the current, notebook directory). To change the location of these files, the <code>base_dir</code> can be changed to an alternative lcoation.\n",
      "\n",
      "We can begin by setting up directories to save the files which will be downloaded and handled here. The default setting is to perform the analysis in a new directory, <code>AGPanalysis</code> in the parent directory of the current directory (assumed to be the notebook directory).\n",
      "\n",
      "To change where data is saved, the <code>base_dir</code> should be set.\n",
      "\n",
      "The downloaded directory will contain all the necessary files, and filenames.\n",
      "\n",
      "This notebook will use files with the ending description <font color=\"firebrick\">\"_single\"</font>, denoting they have been filtered down to have only a single sample per indiviudal."
     ]
    },
    {
     "cell_type": "code",
     "collapsed": false,
     "input": [
      "# Sets up the base directory\n",
      "base_dir = pjoin(abspath('..'), 'AGPanalysis')\n",
      "check_dir(base_dir)\n",
      "otu_dir = pjoin(base_dir, 'OTUtables')\n",
      "\n",
      "# Sets the directory where the files should be located\n",
      "aws_dir = pjoin(otu_dir, 'all_otus_single_samples')\n",
      "ass_dir = pjoin(otu_dir, 'all_otus_subset_single_samples')\n",
      "fws_dir = pjoin(otu_dir, 'filtered_otus_single_samples')\n",
      "raw_dir = pjoin(otu_dir, 'SplitByBodysite')\n",
      "\n",
      "# Sets the subset filepath for all samples\n",
      "awsr_otu_fp = pjoin(aws_dir, 'AGP_100nt_fecal_even10k.biom')\n",
      "awsr_map_fp = pjoin(aws_dir, 'AGP_100nt_fecal_even10k.txt')\n",
      "awsr_ubd_fp = pjoin(aws_dir, 'unweighted_unifrac_AGP_100nt_fecal_even10k.txt')\n",
      "awsr_wbd_fp = pjoin(aws_dir, 'weighted_unifrac_AGP_100nt_fecal_even10k.txt')\n",
      "\n",
      "# Sets the subset filepath for the filtered samples\n",
      "fwsr_otu_fp = pjoin(fws_dir, 'AGP_100nt_fecal_even10k.biom')\n",
      "fwsr_map_fp = pjoin(fws_dir, 'AGP_100nt_fecal_even10k.txt')\n",
      "fwsr_ubd_fp = pjoin(fws_dir, 'unweighted_unifrac_AGP_100nt_fecal_even10k.txt')\n",
      "fwsr_wbd_fp = pjoin(fws_dir, 'weighted_unifrac_AGP_100nt_fecal_even10k.txt')\n",
      "\n",
      "# Performs pairwise beta diversity comparisons\n",
      "beta_dir = pjoin(base_dir, 'BetaDiversity')\n",
      "check_dir(beta_dir)\n",
      "aws_ubd_dir = pjoin(beta_dir, 'all_otus_single_samples_unweighted_unifrac')\n",
      "check_dir(aws_ubd_dir)\n",
      "aws_wbd_dir = pjoin(beta_dir, 'all_otus_single_samples_weighted_unifrac')\n",
      "check_dir(aws_wbd_dir)\n",
      "prd_ubd_dir = pjoin(beta_dir, 'all_otus_paired_single_samples_unweighted_unifrac')\n",
      "check_dir(prd_ubd_dir)\n",
      "prd_wbd_dir = pjoin(beta_dir, 'all_otus_paired_single_samples_weighted_unifrac')\n",
      "check_dir(prd_wbd_dir)\n",
      "\n",
      "gs_dir = pjoin(base_dir, 'GroupSignifigance')\n",
      "check_dir(gs_dir)\n",
      "# fws_ubd_dir = pjoin(beta_dir, 'filtered_otus_single_samples_unweighted_unifrac')\n",
      "# check_dir(fws_ubd_dir)\n",
      "# fws_wbd_dir = pjoin(beta_dir, 'filtered_otus_single_samples_weighted_unifrac')\n",
      "# check_dir(fws_wbd_dir)\n"
     ],
     "language": "python",
     "metadata": {},
     "outputs": [],
     "prompt_number": 5
    },
    {
     "cell_type": "markdown",
     "metadata": {},
     "source": [
      "Downloads the files if they are not already avaliable."
     ]
    },
    {
     "cell_type": "code",
     "collapsed": false,
     "input": [
      "# # If the directories do not exist, the files are imported using cURL\n",
      "# if not exists(whol_sub_dir) or overwrite:\n",
      "#     # Downloads the files\n",
      "#     !curl -OL https://www.dropbox.com/s/lpq0rym8vzap201/AllFecalSubset.tgz\n",
      "#     # Extracts the data\n",
      "#     !tar -xzf AG_1_10_fecal_subset.tgz\n",
      "#     remove(pjoin('.', 'AllFecalSubset.tgz'))\n",
      "#     # Moves the directory to the correct location\n",
      "#     move(pjoin('.', 'AllFecalSubset/'), base_dir)\n",
      "    \n",
      "# # If the directories do not exist, the files are imported using cURL\n",
      "# if not exists(filt_sub_dir) or overwrite:\n",
      "#     # Downloads the files\n",
      "#     !curl -OL https://www.dropbox.com/s/r1787sym9lvd7gc/FilteredFecalSubset.tgz\n",
      "#     # Extracts the data\n",
      "#     !tar -xzf AG_1_10_fecal_subset.tgz\n",
      "#     remove(pjoin('.', 'FilteredFecalSubset.tgz'))\n",
      "#     # Moves the directory to the correct location\n",
      "#     move(pjoin('.', 'FilteredFecalSubset'), base_dir)\n",
      "    \n",
      "# Loads the unfiltered files into python\n",
      "aws_otu = load_table(awsr_otu_fp)\n",
      "aws_map = pad_index(read_csv(awsr_map_fp,\n",
      "                            sep=txt_delim, \n",
      "                            na_values=map_nas),\n",
      "                   index_col=map_index)\n",
      "aws_ubd = DistanceMatrix.from_file(awsr_ubd_fp)\n",
      "aws_wbd = DistanceMatrix.from_file(awsr_wbd_fp)\n",
      "\n",
      "# Loads the filtered files into python\n",
      "fws_otu = load_table(fwsr_otu_fp)\n",
      "fws_map = pad_index(read_csv(fwsr_map_fp,\n",
      "                            sep=txt_delim, \n",
      "                            na_values=map_nas),\n",
      "                   index_col=map_index)\n",
      "fws_ubd = DistanceMatrix.from_file(fwsr_ubd_fp)\n",
      "fws_wbd = DistanceMatrix.from_file(fwsr_wbd_fp)"
     ],
     "language": "python",
     "metadata": {},
     "outputs": [],
     "prompt_number": 20
    },
    {
     "cell_type": "markdown",
     "metadata": {},
     "source": [
      "There are 30 people with Type II diabetes, which may be suffecient for a comparison.\n",
      "\n",
      "We will also combine people who have taken antibiotics in the last week with people who have taken antibiotics in the last month into a single header, giving us about 99 individuals and making analysis easier. \n",
      "We will also combine people with Ulcerative Colitis and Crohn's disease \n",
      "\n",
      "In a simillar manner, people who have slept less than 6 hours will be combined (<code>Less than 5 hours</code> and <code>5-6 hours</code>) (giving us 161 samples in the category, rather than 16 and 145, respecitvely). Finally, we will combine people who exercise <code>Never</code> and people who exercise <code>Rarely, (few times/month)</code> into a single category of <code>Rarely</code>. We will also clean up the other frequency metrics. Finally, we will convert an exercise location of <code>None of the above</code> to no answer."
     ]
    },
    {
     "cell_type": "code",
     "collapsed": false,
     "input": [
      "# Combines antibiotic select into \"Last month\"\n",
      "aws_map.loc[aws_map.ANTIBIOTIC_SELECT == 'In the past week', 'ANTIBIOTIC_SELECT'] = 'In the past month'\n",
      "fws_map.loc[fws_map.ANTIBIOTIC_SELECT == 'In the past week', 'ANTIBIOTIC_SELECT'] = 'In the past month'\n",
      "\n",
      "# Combines individuals with Ulcerative Colitis and Crohn's disease into a single category\n",
      "aws_map.loc[aws_map.IBD == \"Crohn's disease\", 'IBD'] = 'IBD'\n",
      "aws_map.loc[aws_map.IBD == \"Ulcerative colitis\", 'IBD'] = 'IBD'\n",
      "fws_map.loc[fws_map.IBD == \"Crohn's disease\", 'IBD'] = 'IBD'\n",
      "fws_map.loc[fws_map.IBD == \"Ulcerative colitis\", 'IBD'] = 'IBD'\n",
      "\n",
      "# Combines sleep duration into a \"Less than 6 hours\" category\n",
      "aws_map.loc[aws_map.SLEEP_DURATION == 'Less than 5 hours', 'SLEEP_DURATION'] = 'Less than 6 hours'\n",
      "aws_map.loc[aws_map.SLEEP_DURATION == '5-6 hours', 'SLEEP_DURATION'] = 'Less than 6 hours'\n",
      "fws_map.loc[fws_map.SLEEP_DURATION == 'Less than 5 hours', 'SLEEP_DURATION'] = 'Less than 6 hours'\n",
      "fws_map.loc[fws_map.SLEEP_DURATION == '5-6 hours', 'SLEEP_DURATION'] = 'Less than 6 hours'\n",
      "\n",
      "# Combines people who exercise Rarely\n",
      "aws_map.loc[aws_map.EXERCISE_FREQUENCY == 'Never', 'EXERCISE_FREQUENCY'] = 'Rarely'\n",
      "aws_map.loc[aws_map.EXERCISE_FREQUENCY == 'Rarely (few times/month)', 'EXERCISE_FREQUENCY'] = 'Rarely'\n",
      "aws_map.loc[aws_map.EXERCISE_FREQUENCY == 'Occasionally (1-2 times/week)', 'EXERCISE_FREQUENCY'] = 'Occasionally'\n",
      "aws_map.loc[aws_map.EXERCISE_FREQUENCY == 'Regularly (3-5 times/week)', 'EXERCISE_FREQUENCY'] = 'Regularly'\n",
      "fws_map.loc[fws_map.EXERCISE_FREQUENCY == 'Never', 'EXERCISE_FREQUENCY'] = 'Rarely'\n",
      "fws_map.loc[fws_map.EXERCISE_FREQUENCY == 'Rarely (few times/month)', 'EXERCISE_FREQUENCY'] = 'Rarely'\n",
      "fws_map.loc[fws_map.EXERCISE_FREQUENCY == 'Occasionally (1-2 times/week)', 'EXERCISE_FREQUENCY'] = 'Occasionally'\n",
      "fws_map.loc[fws_map.EXERCISE_FREQUENCY == 'Regularly (3-5 times/week)', 'EXERCISE_FREQUENCY'] = 'Regularly'\n",
      "\n",
      "# Converts the exercise location\n",
      "aws_map.loc[aws_map.EXERCISE_LOCATION == 'None of the above', 'EXERCISE_LOCATION'] = nan"
     ],
     "language": "python",
     "metadata": {},
     "outputs": [],
     "prompt_number": 21
    },
    {
     "cell_type": "code",
     "collapsed": false,
     "input": [
      "map_ids = set(aws_map.index.values.tolist())\n",
      "ubd_ids = set(aws_ubd.ids)\n",
      "print map_ids.issuperset(ubd_ids)\n",
      "print map_ids.issubset(ubd_ids)\n",
      "map_ids == ubd_ids"
     ],
     "language": "python",
     "metadata": {},
     "outputs": [
      {
       "output_type": "stream",
       "stream": "stdout",
       "text": [
        "True\n",
        "True\n"
       ]
      },
      {
       "metadata": {},
       "output_type": "pyout",
       "prompt_number": 29,
       "text": [
        "True"
       ]
      }
     ],
     "prompt_number": 29
    },
    {
     "cell_type": "markdown",
     "metadata": {},
     "source": [
      "We can also set up the test functions we'll use in the analysis. We'll test for differences in alpha and beta diversity. We will use a permanova on the beta diversity and a kruskal wallis test for alpha."
     ]
    },
    {
     "cell_type": "code",
     "collapsed": false,
     "input": [
      "def test_beta_permanova(ids, meta, dm, cat, num_iter=99):\n",
      "    \"\"\" \"\"\"\n",
      "    # Gets the map and dm subset with the ids\n",
      "    all_ids = array([])\n",
      "    for id_ in ids:\n",
      "        all_ids = hstack((all_ids, id_))\n",
      "    meta = meta.loc[all_ids]\n",
      "    dm = dm.filter(all_ids)\n",
      "    # Calculates the permanova\n",
      "    permanova = PERMANOVA(dm, meta, cat)\n",
      "    perma_results = permanova(num_iter)\n",
      "    return perma_results.p_value\n",
      "\n",
      "def test_alpha_kruskal(ids, meta, a_div_metric):\n",
      "    \"\"\" \"\"\"\n",
      "    # Gets the map and subset\n",
      "    alpha = [meta.loc[id_, a_div_metric] for id_ in ids]\n",
      "    # Performs a kruskal wallis test\n",
      "    return kruskal(*alpha)[1]"
     ],
     "language": "python",
     "metadata": {},
     "outputs": [],
     "prompt_number": 8
    },
    {
     "cell_type": "code",
     "collapsed": false,
     "input": [
      "IBD_ids = [aws_map.groupby('IBD').groups[o] for o in ['I do not have IBD', \"IBD\"]]\n",
      "\n",
      "print test_alpha_kruskal(IBD_ids, aws_map, a_div_metric)"
     ],
     "language": "python",
     "metadata": {},
     "outputs": [
      {
       "output_type": "stream",
       "stream": "stdout",
       "text": [
        "1.12714631628e-11\n"
       ]
      }
     ],
     "prompt_number": 25
    },
    {
     "cell_type": "code",
     "collapsed": false,
     "input": [
      "# Sets up the categories and their ordering\n",
      "categories3 = ['IBD',\n",
      "              'BMI_CAT',\n",
      "              'TYPES_OF_PLANTS',\n",
      "              'ANTIBIOTIC_SELECT',\n",
      "              'AGE_CAT',\n",
      "              'ALCOHOL_CONSUMPTION',\n",
      "              'COLLECTION_SEASON',\n",
      "              'EXERCISE_FREQUENCY',\n",
      "              'EXERCISE_LOCATION',\n",
      "              'SLEEP_DURATION',\n",
      "              'SEX']\n",
      "\n",
      "order3 = [['I do not have IBD', \"IBD\"],\n",
      "         ['Normal', 'Obese'],\n",
      "         ['Less than 5', 'More than 30'],\n",
      "         ['In the past month', 'Not in the last year'],\n",
      "         ['20s', '60+'],\n",
      "         ['Yes', 'No'],\n",
      "         ['Winter', 'Summer'],\n",
      "         ['Rarely', 'Regularly'],\n",
      "         ['Indoors', 'Outdoors'],\n",
      "         ['Less than 6 hours', '8 or more hours'],\n",
      "         ['male', 'female']]\n",
      "\n",
      "control_cats3 = array(['IBD', 'BMI_CAT', 'TYPES_OF_PLANTS', 'DIABETES', 'ANTIBIOTIC_SELECT', 'AGE_CAT', 'COLLECTION_SEASON', 'SLEEP_DURATION'])\n",
      "\n",
      "tests3_a = [lambda x: test_alpha_kruskal(x, aws_map, a_div_metric) for cat in categories3]\n",
      "tests3_b = [lambda x: test_beta_permanova(x, aws_map, aws_ubd, cat) for cat in categories3]"
     ],
     "language": "python",
     "metadata": {},
     "outputs": [],
     "prompt_number": 26
    },
    {
     "cell_type": "code",
     "collapsed": false,
     "input": [
      "make_power_curves(mode=\"PAIRED\", tests=tests3_b[:5], cats=categories3[:5], meta=aws_map, \n",
      "                  order=order3[:5], control_cats=control_cats3,\n",
      "                  num_runs=15, num_iter=50)"
     ],
     "language": "python",
     "metadata": {},
     "outputs": [
      {
       "ename": "ValueError",
       "evalue": "One or more IDs in the distance matrix are not in the data frame.",
       "output_type": "pyerr",
       "traceback": [
        "\u001b[0;31m---------------------------------------------------------------------------\u001b[0m\n\u001b[0;31mValueError\u001b[0m                                Traceback (most recent call last)",
        "\u001b[0;32m<ipython-input-11-4c7f31380126>\u001b[0m in \u001b[0;36m<module>\u001b[0;34m()\u001b[0m\n\u001b[1;32m      1\u001b[0m make_power_curves(mode=\"PAIRED\", tests=tests3_b[:5], cats=categories3[:5], meta=aws_map, \n\u001b[1;32m      2\u001b[0m                   \u001b[0morder\u001b[0m\u001b[0;34m=\u001b[0m\u001b[0morder3\u001b[0m\u001b[0;34m[\u001b[0m\u001b[0;34m:\u001b[0m\u001b[0;36m5\u001b[0m\u001b[0;34m]\u001b[0m\u001b[0;34m,\u001b[0m \u001b[0mcontrol_cats\u001b[0m\u001b[0;34m=\u001b[0m\u001b[0mcontrol_cats3\u001b[0m\u001b[0;34m,\u001b[0m\u001b[0;34m\u001b[0m\u001b[0m\n\u001b[0;32m----> 3\u001b[0;31m                   num_runs=15, num_iter=50)\n\u001b[0m",
        "\u001b[0;32m<ipython-input-10-56d2583bf107>\u001b[0m in \u001b[0;36mmake_power_curves\u001b[0;34m(mode, tests, cats, samples, meta, **kwargs)\u001b[0m\n\u001b[1;32m     84\u001b[0m                                          \u001b[0mnum_runs\u001b[0m\u001b[0;34m=\u001b[0m\u001b[0mnum_runs\u001b[0m\u001b[0;34m,\u001b[0m\u001b[0;34m\u001b[0m\u001b[0m\n\u001b[1;32m     85\u001b[0m                                          \u001b[0mstrict\u001b[0m\u001b[0;34m=\u001b[0m\u001b[0meff_kwds\u001b[0m\u001b[0;34m[\u001b[0m\u001b[0;34m'strict'\u001b[0m\u001b[0;34m]\u001b[0m\u001b[0;34m,\u001b[0m\u001b[0;34m\u001b[0m\u001b[0m\n\u001b[0;32m---> 86\u001b[0;31m                                          raises=False)\n\u001b[0m\u001b[1;32m     87\u001b[0m         \u001b[0;31m# Handles unpaired data\u001b[0m\u001b[0;34m\u001b[0m\u001b[0;34m\u001b[0m\u001b[0m\n\u001b[1;32m     88\u001b[0m         \u001b[0;32melse\u001b[0m\u001b[0;34m:\u001b[0m\u001b[0;34m\u001b[0m\u001b[0m\n",
        "\u001b[0;32m/Users/jwdebelius/Repositories/Useful/jwd_code/power.pyc\u001b[0m in \u001b[0;36mget_paired_effect\u001b[0;34m(test, meta, cat, control_cats, order, alpha_pwr, min_counts, max_counts, counts_interval, num_iter, num_runs, strict, raises)\u001b[0m\n\u001b[1;32m    205\u001b[0m     \u001b[0;31m# Calculates power or hte first curve\u001b[0m\u001b[0;34m\u001b[0m\u001b[0;34m\u001b[0m\u001b[0m\n\u001b[1;32m    206\u001b[0m     power[0, :] = calculate_power_curve(test, paired_ids, sample_counts,\n\u001b[0;32m--> 207\u001b[0;31m                                         num_iter=num_iter, alpha=alpha_pwr)\n\u001b[0m\u001b[1;32m    208\u001b[0m     \u001b[0;31m# Gets iteraitons and subsequent power\u001b[0m\u001b[0;34m\u001b[0m\u001b[0;34m\u001b[0m\u001b[0m\n\u001b[1;32m    209\u001b[0m     \u001b[0;32mfor\u001b[0m \u001b[0mid1\u001b[0m \u001b[0;32min\u001b[0m \u001b[0marange\u001b[0m\u001b[0;34m(\u001b[0m\u001b[0;36m1\u001b[0m\u001b[0;34m,\u001b[0m \u001b[0mnum_runs\u001b[0m\u001b[0;34m)\u001b[0m\u001b[0;34m:\u001b[0m\u001b[0;34m\u001b[0m\u001b[0m\n",
        "\u001b[0;32m/Users/jwdebelius/Repositories/Useful/jwd_code/power.pyc\u001b[0m in \u001b[0;36mcalculate_power_curve\u001b[0;34m(test, samples, sample_counts, ratio, num_iter, alpha)\u001b[0m\n\u001b[1;32m    812\u001b[0m         \u001b[0mcount\u001b[0m \u001b[0;34m=\u001b[0m \u001b[0mnround\u001b[0m\u001b[0;34m(\u001b[0m\u001b[0ms\u001b[0m\u001b[0;34m*\u001b[0m\u001b[0mratio\u001b[0m\u001b[0;34m,\u001b[0m \u001b[0;36m0\u001b[0m\u001b[0;34m)\u001b[0m\u001b[0;34m.\u001b[0m\u001b[0mastype\u001b[0m\u001b[0;34m(\u001b[0m\u001b[0mint\u001b[0m\u001b[0;34m)\u001b[0m\u001b[0;34m\u001b[0m\u001b[0m\n\u001b[1;32m    813\u001b[0m         \u001b[0;32mfor\u001b[0m \u001b[0mid1\u001b[0m\u001b[0;34m,\u001b[0m \u001b[0ma\u001b[0m \u001b[0;32min\u001b[0m \u001b[0menumerate\u001b[0m\u001b[0;34m(\u001b[0m\u001b[0malpha\u001b[0m\u001b[0;34m)\u001b[0m\u001b[0;34m:\u001b[0m\u001b[0;34m\u001b[0m\u001b[0m\n\u001b[0;32m--> 814\u001b[0;31m             \u001b[0mps\u001b[0m \u001b[0;34m=\u001b[0m \u001b[0mcompare_distributions\u001b[0m\u001b[0;34m(\u001b[0m\u001b[0mtest\u001b[0m\u001b[0;34m,\u001b[0m \u001b[0msamples\u001b[0m\u001b[0;34m,\u001b[0m \u001b[0mcount\u001b[0m\u001b[0;34m,\u001b[0m \u001b[0mnum_iter\u001b[0m\u001b[0;34m)\u001b[0m\u001b[0;34m\u001b[0m\u001b[0m\n\u001b[0m\u001b[1;32m    815\u001b[0m             \u001b[0;32mif\u001b[0m \u001b[0mvec\u001b[0m\u001b[0;34m:\u001b[0m\u001b[0;34m\u001b[0m\u001b[0m\n\u001b[1;32m    816\u001b[0m                 \u001b[0mpwr\u001b[0m\u001b[0;34m[\u001b[0m\u001b[0mid2\u001b[0m\u001b[0;34m]\u001b[0m \u001b[0;34m=\u001b[0m \u001b[0m_calculate_power\u001b[0m\u001b[0;34m(\u001b[0m\u001b[0mps\u001b[0m\u001b[0;34m,\u001b[0m \u001b[0ma\u001b[0m\u001b[0;34m)\u001b[0m\u001b[0;34m\u001b[0m\u001b[0m\n",
        "\u001b[0;32m/Users/jwdebelius/Repositories/Useful/jwd_code/power.pyc\u001b[0m in \u001b[0;36mcompare_distributions\u001b[0;34m(test, samples, counts, num_iter)\u001b[0m\n\u001b[1;32m    746\u001b[0m         subs = [choice(array(pop), counts[i], replace=False)\n\u001b[1;32m    747\u001b[0m                 for i, pop in enumerate(samples)]\n\u001b[0;32m--> 748\u001b[0;31m         \u001b[0mp_values\u001b[0m\u001b[0;34m[\u001b[0m\u001b[0midx\u001b[0m\u001b[0;34m]\u001b[0m \u001b[0;34m=\u001b[0m \u001b[0mtest\u001b[0m\u001b[0;34m(\u001b[0m\u001b[0msubs\u001b[0m\u001b[0;34m)\u001b[0m\u001b[0;34m\u001b[0m\u001b[0m\n\u001b[0m\u001b[1;32m    749\u001b[0m \u001b[0;34m\u001b[0m\u001b[0m\n\u001b[1;32m    750\u001b[0m     \u001b[0;32mreturn\u001b[0m \u001b[0mp_values\u001b[0m\u001b[0;34m\u001b[0m\u001b[0m\n",
        "\u001b[0;32m<ipython-input-9-8b5650446a63>\u001b[0m in \u001b[0;36m<lambda>\u001b[0;34m(x)\u001b[0m\n\u001b[1;32m     27\u001b[0m \u001b[0;34m\u001b[0m\u001b[0m\n\u001b[1;32m     28\u001b[0m \u001b[0mtests3_a\u001b[0m \u001b[0;34m=\u001b[0m \u001b[0;34m[\u001b[0m\u001b[0;32mlambda\u001b[0m \u001b[0mx\u001b[0m\u001b[0;34m:\u001b[0m \u001b[0mtest_alpha_kruskal\u001b[0m\u001b[0;34m(\u001b[0m\u001b[0mx\u001b[0m\u001b[0;34m,\u001b[0m \u001b[0maws_map\u001b[0m\u001b[0;34m,\u001b[0m \u001b[0ma_div_metric\u001b[0m\u001b[0;34m)\u001b[0m \u001b[0;32mfor\u001b[0m \u001b[0mcat\u001b[0m \u001b[0;32min\u001b[0m \u001b[0mcategories3\u001b[0m\u001b[0;34m]\u001b[0m\u001b[0;34m\u001b[0m\u001b[0m\n\u001b[0;32m---> 29\u001b[0;31m \u001b[0mtests3_b\u001b[0m \u001b[0;34m=\u001b[0m \u001b[0;34m[\u001b[0m\u001b[0;32mlambda\u001b[0m \u001b[0mx\u001b[0m\u001b[0;34m:\u001b[0m \u001b[0mtest_beta_permanova\u001b[0m\u001b[0;34m(\u001b[0m\u001b[0mx\u001b[0m\u001b[0;34m,\u001b[0m \u001b[0maws_map\u001b[0m\u001b[0;34m,\u001b[0m \u001b[0maws_ubd\u001b[0m\u001b[0;34m,\u001b[0m \u001b[0mcat\u001b[0m\u001b[0;34m)\u001b[0m \u001b[0;32mfor\u001b[0m \u001b[0mcat\u001b[0m \u001b[0;32min\u001b[0m \u001b[0mcategories3\u001b[0m\u001b[0;34m]\u001b[0m\u001b[0;34m\u001b[0m\u001b[0m\n\u001b[0m",
        "\u001b[0;32m<ipython-input-8-56297fc675de>\u001b[0m in \u001b[0;36mtest_beta_permanova\u001b[0;34m(ids, meta, dm, cat, num_iter)\u001b[0m\n\u001b[1;32m      8\u001b[0m     \u001b[0mdm\u001b[0m \u001b[0;34m=\u001b[0m \u001b[0mdm\u001b[0m\u001b[0;34m.\u001b[0m\u001b[0mfilter\u001b[0m\u001b[0;34m(\u001b[0m\u001b[0mall_ids\u001b[0m\u001b[0;34m)\u001b[0m\u001b[0;34m\u001b[0m\u001b[0m\n\u001b[1;32m      9\u001b[0m     \u001b[0;31m# Calculates the permanova\u001b[0m\u001b[0;34m\u001b[0m\u001b[0;34m\u001b[0m\u001b[0m\n\u001b[0;32m---> 10\u001b[0;31m     \u001b[0mpermanova\u001b[0m \u001b[0;34m=\u001b[0m \u001b[0mPERMANOVA\u001b[0m\u001b[0;34m(\u001b[0m\u001b[0mdm\u001b[0m\u001b[0;34m,\u001b[0m \u001b[0mmeta\u001b[0m\u001b[0;34m,\u001b[0m \u001b[0mcat\u001b[0m\u001b[0;34m)\u001b[0m\u001b[0;34m\u001b[0m\u001b[0m\n\u001b[0m\u001b[1;32m     11\u001b[0m     \u001b[0mperma_results\u001b[0m \u001b[0;34m=\u001b[0m \u001b[0mpermanova\u001b[0m\u001b[0;34m(\u001b[0m\u001b[0mnum_iter\u001b[0m\u001b[0;34m)\u001b[0m\u001b[0;34m\u001b[0m\u001b[0m\n\u001b[1;32m     12\u001b[0m     \u001b[0;32mreturn\u001b[0m \u001b[0mperma_results\u001b[0m\u001b[0;34m.\u001b[0m\u001b[0mp_value\u001b[0m\u001b[0;34m\u001b[0m\u001b[0m\n",
        "\u001b[0;32m/Users/jwdebelius/.virtualenvs/qiime_dev/lib/python2.7/site-packages/skbio/math/stats/distance/permanova.pyc\u001b[0m in \u001b[0;36m__init__\u001b[0;34m(self, distance_matrix, grouping, column)\u001b[0m\n\u001b[1;32m     46\u001b[0m     \u001b[0;32mdef\u001b[0m \u001b[0m__init__\u001b[0m\u001b[0;34m(\u001b[0m\u001b[0mself\u001b[0m\u001b[0;34m,\u001b[0m \u001b[0mdistance_matrix\u001b[0m\u001b[0;34m,\u001b[0m \u001b[0mgrouping\u001b[0m\u001b[0;34m,\u001b[0m \u001b[0mcolumn\u001b[0m\u001b[0;34m=\u001b[0m\u001b[0mNone\u001b[0m\u001b[0;34m)\u001b[0m\u001b[0;34m:\u001b[0m\u001b[0;34m\u001b[0m\u001b[0m\n\u001b[1;32m     47\u001b[0m         super(PERMANOVA, self).__init__(distance_matrix, grouping,\n\u001b[0;32m---> 48\u001b[0;31m                                         column=column)\n\u001b[0m\u001b[1;32m     49\u001b[0m \u001b[0;34m\u001b[0m\u001b[0m\n\u001b[1;32m     50\u001b[0m         \u001b[0;31m# Calculate number of objects in each group.\u001b[0m\u001b[0;34m\u001b[0m\u001b[0;34m\u001b[0m\u001b[0m\n",
        "\u001b[0;32m/Users/jwdebelius/.virtualenvs/qiime_dev/lib/python2.7/site-packages/skbio/math/stats/distance/base.pyc\u001b[0m in \u001b[0;36m__init__\u001b[0;34m(self, distance_matrix, grouping, column)\u001b[0m\n\u001b[1;32m     47\u001b[0m             \u001b[0;32melse\u001b[0m\u001b[0;34m:\u001b[0m\u001b[0;34m\u001b[0m\u001b[0m\n\u001b[1;32m     48\u001b[0m                 grouping = self._df_to_vector(distance_matrix, grouping,\n\u001b[0;32m---> 49\u001b[0;31m                                               column)\n\u001b[0m\u001b[1;32m     50\u001b[0m         \u001b[0;32melif\u001b[0m \u001b[0mcolumn\u001b[0m \u001b[0;32mis\u001b[0m \u001b[0;32mnot\u001b[0m \u001b[0mNone\u001b[0m\u001b[0;34m:\u001b[0m\u001b[0;34m\u001b[0m\u001b[0m\n\u001b[1;32m     51\u001b[0m             raise ValueError(\"Must provide a data frame if supplying a column \"\n",
        "\u001b[0;32m/Users/jwdebelius/.virtualenvs/qiime_dev/lib/python2.7/site-packages/skbio/math/stats/distance/base.pyc\u001b[0m in \u001b[0;36m_df_to_vector\u001b[0;34m(self, distance_matrix, df, column)\u001b[0m\n\u001b[1;32m    109\u001b[0m         \u001b[0mgrouping\u001b[0m \u001b[0;34m=\u001b[0m \u001b[0mdf\u001b[0m\u001b[0;34m.\u001b[0m\u001b[0mloc\u001b[0m\u001b[0;34m[\u001b[0m\u001b[0mdistance_matrix\u001b[0m\u001b[0;34m.\u001b[0m\u001b[0mids\u001b[0m\u001b[0;34m,\u001b[0m \u001b[0mcolumn\u001b[0m\u001b[0;34m]\u001b[0m\u001b[0;34m\u001b[0m\u001b[0m\n\u001b[1;32m    110\u001b[0m         \u001b[0;32mif\u001b[0m \u001b[0mgrouping\u001b[0m\u001b[0;34m.\u001b[0m\u001b[0misnull\u001b[0m\u001b[0;34m(\u001b[0m\u001b[0;34m)\u001b[0m\u001b[0;34m.\u001b[0m\u001b[0many\u001b[0m\u001b[0;34m(\u001b[0m\u001b[0;34m)\u001b[0m\u001b[0;34m:\u001b[0m\u001b[0;34m\u001b[0m\u001b[0m\n\u001b[0;32m--> 111\u001b[0;31m             raise ValueError(\"One or more IDs in the distance matrix are not \"\n\u001b[0m\u001b[1;32m    112\u001b[0m                              \"in the data frame.\")\n\u001b[1;32m    113\u001b[0m         \u001b[0;32mreturn\u001b[0m \u001b[0mgrouping\u001b[0m\u001b[0;34m.\u001b[0m\u001b[0mtolist\u001b[0m\u001b[0;34m(\u001b[0m\u001b[0;34m)\u001b[0m\u001b[0;34m\u001b[0m\u001b[0m\n",
        "\u001b[0;31mValueError\u001b[0m: One or more IDs in the distance matrix are not in the data frame."
       ]
      }
     ],
     "prompt_number": 11
    },
    {
     "cell_type": "code",
     "collapsed": false,
     "input": [
      "make_power_curves(mode=\"PAIRED\", tests=tests3_a[:5], cats=categories3[:5], meta=aws_map, \n",
      "                  order=order3[:5], control_cats=control_cats3,\n",
      "                  num_runs=15, num_iter=50)"
     ],
     "language": "python",
     "metadata": {},
     "outputs": [
      {
       "metadata": {},
       "output_type": "pyout",
       "prompt_number": 137,
       "text": [
        "(None, array([], dtype=float64), array([], dtype=float64), array([], \n",
        "       dtype='|S17'))"
       ]
      }
     ],
     "prompt_number": 137
    },
    {
     "cell_type": "code",
     "collapsed": false,
     "input": [
      "tests3_ibd = lambda x: test_beta_permanova(x, aws_map, aws_ubd, 'IBD')"
     ],
     "language": "python",
     "metadata": {},
     "outputs": [],
     "prompt_number": 135
    },
    {
     "cell_type": "code",
     "collapsed": false,
     "input": [],
     "language": "python",
     "metadata": {},
     "outputs": []
    },
    {
     "cell_type": "code",
     "collapsed": false,
     "input": [
      "get_paired_effect(tests3_b[0], aws_map, categories3[0], control_cats3[1:], order3[0],\n",
      "                  alpha_pwr=0.05, min_counts=50, max_counts=300, counts_interval=5,\n",
      "                  num_iter=50, num_runs=5, strict=True, raises=False)"
     ],
     "language": "python",
     "metadata": {},
     "outputs": [
      {
       "metadata": {},
       "output_type": "pyout",
       "prompt_number": 142,
       "text": [
        "(array([ nan]), array([ nan]))"
       ]
      }
     ],
     "prompt_number": 142
    },
    {
     "cell_type": "code",
     "collapsed": false,
     "input": [
      "def get_paired_effect(test, meta, cat, control_cats, order=None,\n",
      "                      alpha_pwr=0.05, min_counts=20, max_counts=50,\n",
      "                      counts_interval=10, num_iter=500, num_runs=10,\n",
      "                      strict=True, raises=True):\n",
      "    \"\"\"Calculates the effect size using paired subsampling\"\"\"\n",
      "\n",
      "    if cat in control_cats:\n",
      "        raise RuntimeError('Trying to vary and control for %s.' % cat)\n",
      "\n",
      "    # Gets a paired sample population to check the number of pairs generated\n",
      "    paired_ids = get_paired_subsamples(meta, cat, control_cats, order, strict)\n",
      "    num_paired = paired_ids[0].shape[0]\n",
      "\n",
      "    # Checks there are enough paired ids to subsample\n",
      "    if num_paired <= min_counts and raises:\n",
      "        raise RuntimeError('There are not enough samples for subsampling.')\n",
      "    elif num_paired <= min_counts:\n",
      "        return array([nan]), array([nan])\n",
      "\n",
      "    # Gets the sampling array\n",
      "    sample_counts = arange(counts_interval,\n",
      "                           min(max_counts, num_paired),\n",
      "                           counts_interval)\n",
      "\n",
      "    # Prealocates a power array\n",
      "    power = zeros((num_runs, len(sample_counts)))\n",
      "\n",
      "    # Calculates power or hte first curve\n",
      "    power[0, :] = calculate_power_curve(test, paired_ids, sample_counts,\n",
      "                                        num_iter=num_iter, alpha=alpha_pwr)\n",
      "    # Gets iteraitons and subsequent power\n",
      "    for id1 in arange(1, num_runs):\n",
      "        paired_ids = get_paired_subsamples(meta, cat, control_cats, order,\n",
      "                                           strict)\n",
      "        power[id1, :] = ca\u00acculate_power_curve(test, paired_ids, sample_counts,\n",
      "                                              num_iter=num_iter,\n",
      "                                              alpha=alpha_pwr)\n",
      "    return power, sample_counts\n"
     ],
     "language": "python",
     "metadata": {},
     "outputs": [],
     "prompt_number": 139
    },
    {
     "cell_type": "code",
     "collapsed": false,
     "input": [],
     "language": "python",
     "metadata": {},
     "outputs": []
    }
   ],
   "metadata": {}
  }
 ]
}